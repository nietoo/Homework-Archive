{
  "nbformat": 4,
  "nbformat_minor": 0,
  "metadata": {
    "colab": {
      "name": "Косакин Даниил - NLP HW1",
      "provenance": [],
      "collapsed_sections": []
    },
    "kernelspec": {
      "display_name": "Python 3",
      "language": "python",
      "name": "python3"
    },
    "language_info": {
      "codemirror_mode": {
        "name": "ipython",
        "version": 3
      },
      "file_extension": ".py",
      "mimetype": "text/x-python",
      "name": "python",
      "nbconvert_exporter": "python",
      "pygments_lexer": "ipython3",
      "version": "3.7.3"
    },
    "accelerator": "GPU",
    "widgets": {
      "application/vnd.jupyter.widget-state+json": {
        "fc93f352e74746b79c4792c0d5c9b44a": {
          "model_module": "@jupyter-widgets/controls",
          "model_name": "HBoxModel",
          "model_module_version": "1.5.0",
          "state": {
            "_view_name": "HBoxView",
            "_dom_classes": [],
            "_model_name": "HBoxModel",
            "_view_module": "@jupyter-widgets/controls",
            "_model_module_version": "1.5.0",
            "_view_count": null,
            "_view_module_version": "1.5.0",
            "box_style": "",
            "layout": "IPY_MODEL_3165cfdf162c434a9d8c61b5a8bc6c8c",
            "_model_module": "@jupyter-widgets/controls",
            "children": [
              "IPY_MODEL_4742b06008ff429d9c6dbf08ded5f29e",
              "IPY_MODEL_238e8b98b4134317b1f004d6062fbc7b",
              "IPY_MODEL_602b6053d0b64767962443a35e87908c"
            ]
          }
        },
        "3165cfdf162c434a9d8c61b5a8bc6c8c": {
          "model_module": "@jupyter-widgets/base",
          "model_name": "LayoutModel",
          "model_module_version": "1.2.0",
          "state": {
            "_view_name": "LayoutView",
            "grid_template_rows": null,
            "right": null,
            "justify_content": null,
            "_view_module": "@jupyter-widgets/base",
            "overflow": null,
            "_model_module_version": "1.2.0",
            "_view_count": null,
            "flex_flow": null,
            "width": null,
            "min_width": null,
            "border": null,
            "align_items": null,
            "bottom": null,
            "_model_module": "@jupyter-widgets/base",
            "top": null,
            "grid_column": null,
            "overflow_y": null,
            "overflow_x": null,
            "grid_auto_flow": null,
            "grid_area": null,
            "grid_template_columns": null,
            "flex": null,
            "_model_name": "LayoutModel",
            "justify_items": null,
            "grid_row": null,
            "max_height": null,
            "align_content": null,
            "visibility": null,
            "align_self": null,
            "height": null,
            "min_height": null,
            "padding": null,
            "grid_auto_rows": null,
            "grid_gap": null,
            "max_width": null,
            "order": null,
            "_view_module_version": "1.2.0",
            "grid_template_areas": null,
            "object_position": null,
            "object_fit": null,
            "grid_auto_columns": null,
            "margin": null,
            "display": null,
            "left": null
          }
        },
        "4742b06008ff429d9c6dbf08ded5f29e": {
          "model_module": "@jupyter-widgets/controls",
          "model_name": "HTMLModel",
          "model_module_version": "1.5.0",
          "state": {
            "_view_name": "HTMLView",
            "style": "IPY_MODEL_b7a95b0b7f454445bda9196f7e6de6fb",
            "_dom_classes": [],
            "description": "",
            "_model_name": "HTMLModel",
            "placeholder": "​",
            "_view_module": "@jupyter-widgets/controls",
            "_model_module_version": "1.5.0",
            "value": "Downloading: 100%",
            "_view_count": null,
            "_view_module_version": "1.5.0",
            "description_tooltip": null,
            "_model_module": "@jupyter-widgets/controls",
            "layout": "IPY_MODEL_e3b67a3fa8314134b41fc13e58f5a630"
          }
        },
        "238e8b98b4134317b1f004d6062fbc7b": {
          "model_module": "@jupyter-widgets/controls",
          "model_name": "FloatProgressModel",
          "model_module_version": "1.5.0",
          "state": {
            "_view_name": "ProgressView",
            "style": "IPY_MODEL_93c34a55d3a14ed4b61d9b24167cf19c",
            "_dom_classes": [],
            "description": "",
            "_model_name": "FloatProgressModel",
            "bar_style": "success",
            "max": 2,
            "_view_module": "@jupyter-widgets/controls",
            "_model_module_version": "1.5.0",
            "value": 2,
            "_view_count": null,
            "_view_module_version": "1.5.0",
            "orientation": "horizontal",
            "min": 0,
            "description_tooltip": null,
            "_model_module": "@jupyter-widgets/controls",
            "layout": "IPY_MODEL_4f87393eb8674e3e9d273309f023cd01"
          }
        },
        "602b6053d0b64767962443a35e87908c": {
          "model_module": "@jupyter-widgets/controls",
          "model_name": "HTMLModel",
          "model_module_version": "1.5.0",
          "state": {
            "_view_name": "HTMLView",
            "style": "IPY_MODEL_96d7ff0418904b63aa2820c55510fd2f",
            "_dom_classes": [],
            "description": "",
            "_model_name": "HTMLModel",
            "placeholder": "​",
            "_view_module": "@jupyter-widgets/controls",
            "_model_module_version": "1.5.0",
            "value": " 2.00/2.00 [00:00&lt;00:00, 48.5B/s]",
            "_view_count": null,
            "_view_module_version": "1.5.0",
            "description_tooltip": null,
            "_model_module": "@jupyter-widgets/controls",
            "layout": "IPY_MODEL_90f898ac373740b29dffd44283152d4f"
          }
        },
        "b7a95b0b7f454445bda9196f7e6de6fb": {
          "model_module": "@jupyter-widgets/controls",
          "model_name": "DescriptionStyleModel",
          "model_module_version": "1.5.0",
          "state": {
            "_view_name": "StyleView",
            "_model_name": "DescriptionStyleModel",
            "description_width": "",
            "_view_module": "@jupyter-widgets/base",
            "_model_module_version": "1.5.0",
            "_view_count": null,
            "_view_module_version": "1.2.0",
            "_model_module": "@jupyter-widgets/controls"
          }
        },
        "e3b67a3fa8314134b41fc13e58f5a630": {
          "model_module": "@jupyter-widgets/base",
          "model_name": "LayoutModel",
          "model_module_version": "1.2.0",
          "state": {
            "_view_name": "LayoutView",
            "grid_template_rows": null,
            "right": null,
            "justify_content": null,
            "_view_module": "@jupyter-widgets/base",
            "overflow": null,
            "_model_module_version": "1.2.0",
            "_view_count": null,
            "flex_flow": null,
            "width": null,
            "min_width": null,
            "border": null,
            "align_items": null,
            "bottom": null,
            "_model_module": "@jupyter-widgets/base",
            "top": null,
            "grid_column": null,
            "overflow_y": null,
            "overflow_x": null,
            "grid_auto_flow": null,
            "grid_area": null,
            "grid_template_columns": null,
            "flex": null,
            "_model_name": "LayoutModel",
            "justify_items": null,
            "grid_row": null,
            "max_height": null,
            "align_content": null,
            "visibility": null,
            "align_self": null,
            "height": null,
            "min_height": null,
            "padding": null,
            "grid_auto_rows": null,
            "grid_gap": null,
            "max_width": null,
            "order": null,
            "_view_module_version": "1.2.0",
            "grid_template_areas": null,
            "object_position": null,
            "object_fit": null,
            "grid_auto_columns": null,
            "margin": null,
            "display": null,
            "left": null
          }
        },
        "93c34a55d3a14ed4b61d9b24167cf19c": {
          "model_module": "@jupyter-widgets/controls",
          "model_name": "ProgressStyleModel",
          "model_module_version": "1.5.0",
          "state": {
            "_view_name": "StyleView",
            "_model_name": "ProgressStyleModel",
            "description_width": "",
            "_view_module": "@jupyter-widgets/base",
            "_model_module_version": "1.5.0",
            "_view_count": null,
            "_view_module_version": "1.2.0",
            "bar_color": null,
            "_model_module": "@jupyter-widgets/controls"
          }
        },
        "4f87393eb8674e3e9d273309f023cd01": {
          "model_module": "@jupyter-widgets/base",
          "model_name": "LayoutModel",
          "model_module_version": "1.2.0",
          "state": {
            "_view_name": "LayoutView",
            "grid_template_rows": null,
            "right": null,
            "justify_content": null,
            "_view_module": "@jupyter-widgets/base",
            "overflow": null,
            "_model_module_version": "1.2.0",
            "_view_count": null,
            "flex_flow": null,
            "width": null,
            "min_width": null,
            "border": null,
            "align_items": null,
            "bottom": null,
            "_model_module": "@jupyter-widgets/base",
            "top": null,
            "grid_column": null,
            "overflow_y": null,
            "overflow_x": null,
            "grid_auto_flow": null,
            "grid_area": null,
            "grid_template_columns": null,
            "flex": null,
            "_model_name": "LayoutModel",
            "justify_items": null,
            "grid_row": null,
            "max_height": null,
            "align_content": null,
            "visibility": null,
            "align_self": null,
            "height": null,
            "min_height": null,
            "padding": null,
            "grid_auto_rows": null,
            "grid_gap": null,
            "max_width": null,
            "order": null,
            "_view_module_version": "1.2.0",
            "grid_template_areas": null,
            "object_position": null,
            "object_fit": null,
            "grid_auto_columns": null,
            "margin": null,
            "display": null,
            "left": null
          }
        },
        "96d7ff0418904b63aa2820c55510fd2f": {
          "model_module": "@jupyter-widgets/controls",
          "model_name": "DescriptionStyleModel",
          "model_module_version": "1.5.0",
          "state": {
            "_view_name": "StyleView",
            "_model_name": "DescriptionStyleModel",
            "description_width": "",
            "_view_module": "@jupyter-widgets/base",
            "_model_module_version": "1.5.0",
            "_view_count": null,
            "_view_module_version": "1.2.0",
            "_model_module": "@jupyter-widgets/controls"
          }
        },
        "90f898ac373740b29dffd44283152d4f": {
          "model_module": "@jupyter-widgets/base",
          "model_name": "LayoutModel",
          "model_module_version": "1.2.0",
          "state": {
            "_view_name": "LayoutView",
            "grid_template_rows": null,
            "right": null,
            "justify_content": null,
            "_view_module": "@jupyter-widgets/base",
            "overflow": null,
            "_model_module_version": "1.2.0",
            "_view_count": null,
            "flex_flow": null,
            "width": null,
            "min_width": null,
            "border": null,
            "align_items": null,
            "bottom": null,
            "_model_module": "@jupyter-widgets/base",
            "top": null,
            "grid_column": null,
            "overflow_y": null,
            "overflow_x": null,
            "grid_auto_flow": null,
            "grid_area": null,
            "grid_template_columns": null,
            "flex": null,
            "_model_name": "LayoutModel",
            "justify_items": null,
            "grid_row": null,
            "max_height": null,
            "align_content": null,
            "visibility": null,
            "align_self": null,
            "height": null,
            "min_height": null,
            "padding": null,
            "grid_auto_rows": null,
            "grid_gap": null,
            "max_width": null,
            "order": null,
            "_view_module_version": "1.2.0",
            "grid_template_areas": null,
            "object_position": null,
            "object_fit": null,
            "grid_auto_columns": null,
            "margin": null,
            "display": null,
            "left": null
          }
        },
        "27fcb69bf00948898288b8d33ad7e66d": {
          "model_module": "@jupyter-widgets/controls",
          "model_name": "HBoxModel",
          "model_module_version": "1.5.0",
          "state": {
            "_view_name": "HBoxView",
            "_dom_classes": [],
            "_model_name": "HBoxModel",
            "_view_module": "@jupyter-widgets/controls",
            "_model_module_version": "1.5.0",
            "_view_count": null,
            "_view_module_version": "1.5.0",
            "box_style": "",
            "layout": "IPY_MODEL_d6c5e116ea204c7198057961e4c8393d",
            "_model_module": "@jupyter-widgets/controls",
            "children": [
              "IPY_MODEL_24756f53d7894728a79ada9775a91030",
              "IPY_MODEL_5e92e77fd614453e9067259234258c95",
              "IPY_MODEL_12ef03b925d0452e90fc78ed2801537e"
            ]
          }
        },
        "d6c5e116ea204c7198057961e4c8393d": {
          "model_module": "@jupyter-widgets/base",
          "model_name": "LayoutModel",
          "model_module_version": "1.2.0",
          "state": {
            "_view_name": "LayoutView",
            "grid_template_rows": null,
            "right": null,
            "justify_content": null,
            "_view_module": "@jupyter-widgets/base",
            "overflow": null,
            "_model_module_version": "1.2.0",
            "_view_count": null,
            "flex_flow": null,
            "width": null,
            "min_width": null,
            "border": null,
            "align_items": null,
            "bottom": null,
            "_model_module": "@jupyter-widgets/base",
            "top": null,
            "grid_column": null,
            "overflow_y": null,
            "overflow_x": null,
            "grid_auto_flow": null,
            "grid_area": null,
            "grid_template_columns": null,
            "flex": null,
            "_model_name": "LayoutModel",
            "justify_items": null,
            "grid_row": null,
            "max_height": null,
            "align_content": null,
            "visibility": null,
            "align_self": null,
            "height": null,
            "min_height": null,
            "padding": null,
            "grid_auto_rows": null,
            "grid_gap": null,
            "max_width": null,
            "order": null,
            "_view_module_version": "1.2.0",
            "grid_template_areas": null,
            "object_position": null,
            "object_fit": null,
            "grid_auto_columns": null,
            "margin": null,
            "display": null,
            "left": null
          }
        },
        "24756f53d7894728a79ada9775a91030": {
          "model_module": "@jupyter-widgets/controls",
          "model_name": "HTMLModel",
          "model_module_version": "1.5.0",
          "state": {
            "_view_name": "HTMLView",
            "style": "IPY_MODEL_3bc8985af7d04c8a9091f9679e2d61b7",
            "_dom_classes": [],
            "description": "",
            "_model_name": "HTMLModel",
            "placeholder": "​",
            "_view_module": "@jupyter-widgets/controls",
            "_model_module_version": "1.5.0",
            "value": "Downloading: 100%",
            "_view_count": null,
            "_view_module_version": "1.5.0",
            "description_tooltip": null,
            "_model_module": "@jupyter-widgets/controls",
            "layout": "IPY_MODEL_833ecb5e6d13419faa27c9dd2f3b77cf"
          }
        },
        "5e92e77fd614453e9067259234258c95": {
          "model_module": "@jupyter-widgets/controls",
          "model_name": "FloatProgressModel",
          "model_module_version": "1.5.0",
          "state": {
            "_view_name": "ProgressView",
            "style": "IPY_MODEL_2e94db4a953d435895e45c4d8daf96d3",
            "_dom_classes": [],
            "description": "",
            "_model_name": "FloatProgressModel",
            "bar_style": "success",
            "max": 521,
            "_view_module": "@jupyter-widgets/controls",
            "_model_module_version": "1.5.0",
            "value": 521,
            "_view_count": null,
            "_view_module_version": "1.5.0",
            "orientation": "horizontal",
            "min": 0,
            "description_tooltip": null,
            "_model_module": "@jupyter-widgets/controls",
            "layout": "IPY_MODEL_132cb53223584c55896ac2f3d319ea8e"
          }
        },
        "12ef03b925d0452e90fc78ed2801537e": {
          "model_module": "@jupyter-widgets/controls",
          "model_name": "HTMLModel",
          "model_module_version": "1.5.0",
          "state": {
            "_view_name": "HTMLView",
            "style": "IPY_MODEL_35b22f5ea2284931b40b4defcf2d4d13",
            "_dom_classes": [],
            "description": "",
            "_model_name": "HTMLModel",
            "placeholder": "​",
            "_view_module": "@jupyter-widgets/controls",
            "_model_module_version": "1.5.0",
            "value": " 521/521 [00:00&lt;00:00, 14.0kB/s]",
            "_view_count": null,
            "_view_module_version": "1.5.0",
            "description_tooltip": null,
            "_model_module": "@jupyter-widgets/controls",
            "layout": "IPY_MODEL_9d334be210f149e8b2ab9c99bcb5cbea"
          }
        },
        "3bc8985af7d04c8a9091f9679e2d61b7": {
          "model_module": "@jupyter-widgets/controls",
          "model_name": "DescriptionStyleModel",
          "model_module_version": "1.5.0",
          "state": {
            "_view_name": "StyleView",
            "_model_name": "DescriptionStyleModel",
            "description_width": "",
            "_view_module": "@jupyter-widgets/base",
            "_model_module_version": "1.5.0",
            "_view_count": null,
            "_view_module_version": "1.2.0",
            "_model_module": "@jupyter-widgets/controls"
          }
        },
        "833ecb5e6d13419faa27c9dd2f3b77cf": {
          "model_module": "@jupyter-widgets/base",
          "model_name": "LayoutModel",
          "model_module_version": "1.2.0",
          "state": {
            "_view_name": "LayoutView",
            "grid_template_rows": null,
            "right": null,
            "justify_content": null,
            "_view_module": "@jupyter-widgets/base",
            "overflow": null,
            "_model_module_version": "1.2.0",
            "_view_count": null,
            "flex_flow": null,
            "width": null,
            "min_width": null,
            "border": null,
            "align_items": null,
            "bottom": null,
            "_model_module": "@jupyter-widgets/base",
            "top": null,
            "grid_column": null,
            "overflow_y": null,
            "overflow_x": null,
            "grid_auto_flow": null,
            "grid_area": null,
            "grid_template_columns": null,
            "flex": null,
            "_model_name": "LayoutModel",
            "justify_items": null,
            "grid_row": null,
            "max_height": null,
            "align_content": null,
            "visibility": null,
            "align_self": null,
            "height": null,
            "min_height": null,
            "padding": null,
            "grid_auto_rows": null,
            "grid_gap": null,
            "max_width": null,
            "order": null,
            "_view_module_version": "1.2.0",
            "grid_template_areas": null,
            "object_position": null,
            "object_fit": null,
            "grid_auto_columns": null,
            "margin": null,
            "display": null,
            "left": null
          }
        },
        "2e94db4a953d435895e45c4d8daf96d3": {
          "model_module": "@jupyter-widgets/controls",
          "model_name": "ProgressStyleModel",
          "model_module_version": "1.5.0",
          "state": {
            "_view_name": "StyleView",
            "_model_name": "ProgressStyleModel",
            "description_width": "",
            "_view_module": "@jupyter-widgets/base",
            "_model_module_version": "1.5.0",
            "_view_count": null,
            "_view_module_version": "1.2.0",
            "bar_color": null,
            "_model_module": "@jupyter-widgets/controls"
          }
        },
        "132cb53223584c55896ac2f3d319ea8e": {
          "model_module": "@jupyter-widgets/base",
          "model_name": "LayoutModel",
          "model_module_version": "1.2.0",
          "state": {
            "_view_name": "LayoutView",
            "grid_template_rows": null,
            "right": null,
            "justify_content": null,
            "_view_module": "@jupyter-widgets/base",
            "overflow": null,
            "_model_module_version": "1.2.0",
            "_view_count": null,
            "flex_flow": null,
            "width": null,
            "min_width": null,
            "border": null,
            "align_items": null,
            "bottom": null,
            "_model_module": "@jupyter-widgets/base",
            "top": null,
            "grid_column": null,
            "overflow_y": null,
            "overflow_x": null,
            "grid_auto_flow": null,
            "grid_area": null,
            "grid_template_columns": null,
            "flex": null,
            "_model_name": "LayoutModel",
            "justify_items": null,
            "grid_row": null,
            "max_height": null,
            "align_content": null,
            "visibility": null,
            "align_self": null,
            "height": null,
            "min_height": null,
            "padding": null,
            "grid_auto_rows": null,
            "grid_gap": null,
            "max_width": null,
            "order": null,
            "_view_module_version": "1.2.0",
            "grid_template_areas": null,
            "object_position": null,
            "object_fit": null,
            "grid_auto_columns": null,
            "margin": null,
            "display": null,
            "left": null
          }
        },
        "35b22f5ea2284931b40b4defcf2d4d13": {
          "model_module": "@jupyter-widgets/controls",
          "model_name": "DescriptionStyleModel",
          "model_module_version": "1.5.0",
          "state": {
            "_view_name": "StyleView",
            "_model_name": "DescriptionStyleModel",
            "description_width": "",
            "_view_module": "@jupyter-widgets/base",
            "_model_module_version": "1.5.0",
            "_view_count": null,
            "_view_module_version": "1.2.0",
            "_model_module": "@jupyter-widgets/controls"
          }
        },
        "9d334be210f149e8b2ab9c99bcb5cbea": {
          "model_module": "@jupyter-widgets/base",
          "model_name": "LayoutModel",
          "model_module_version": "1.2.0",
          "state": {
            "_view_name": "LayoutView",
            "grid_template_rows": null,
            "right": null,
            "justify_content": null,
            "_view_module": "@jupyter-widgets/base",
            "overflow": null,
            "_model_module_version": "1.2.0",
            "_view_count": null,
            "flex_flow": null,
            "width": null,
            "min_width": null,
            "border": null,
            "align_items": null,
            "bottom": null,
            "_model_module": "@jupyter-widgets/base",
            "top": null,
            "grid_column": null,
            "overflow_y": null,
            "overflow_x": null,
            "grid_auto_flow": null,
            "grid_area": null,
            "grid_template_columns": null,
            "flex": null,
            "_model_name": "LayoutModel",
            "justify_items": null,
            "grid_row": null,
            "max_height": null,
            "align_content": null,
            "visibility": null,
            "align_self": null,
            "height": null,
            "min_height": null,
            "padding": null,
            "grid_auto_rows": null,
            "grid_gap": null,
            "max_width": null,
            "order": null,
            "_view_module_version": "1.2.0",
            "grid_template_areas": null,
            "object_position": null,
            "object_fit": null,
            "grid_auto_columns": null,
            "margin": null,
            "display": null,
            "left": null
          }
        },
        "1011c6abf3fb44599984fe0c4a08750e": {
          "model_module": "@jupyter-widgets/controls",
          "model_name": "HBoxModel",
          "model_module_version": "1.5.0",
          "state": {
            "_view_name": "HBoxView",
            "_dom_classes": [],
            "_model_name": "HBoxModel",
            "_view_module": "@jupyter-widgets/controls",
            "_model_module_version": "1.5.0",
            "_view_count": null,
            "_view_module_version": "1.5.0",
            "box_style": "",
            "layout": "IPY_MODEL_4aec8b57a10a4647a51eaa8f2b00f5a3",
            "_model_module": "@jupyter-widgets/controls",
            "children": [
              "IPY_MODEL_7c4c38ba7ff54c33ae0ff0eda1d36ab0",
              "IPY_MODEL_049de57378c549958f4f9d9d645559ff",
              "IPY_MODEL_16f1f66c53104c8bb8a68b1e2331650c"
            ]
          }
        },
        "4aec8b57a10a4647a51eaa8f2b00f5a3": {
          "model_module": "@jupyter-widgets/base",
          "model_name": "LayoutModel",
          "model_module_version": "1.2.0",
          "state": {
            "_view_name": "LayoutView",
            "grid_template_rows": null,
            "right": null,
            "justify_content": null,
            "_view_module": "@jupyter-widgets/base",
            "overflow": null,
            "_model_module_version": "1.2.0",
            "_view_count": null,
            "flex_flow": null,
            "width": null,
            "min_width": null,
            "border": null,
            "align_items": null,
            "bottom": null,
            "_model_module": "@jupyter-widgets/base",
            "top": null,
            "grid_column": null,
            "overflow_y": null,
            "overflow_x": null,
            "grid_auto_flow": null,
            "grid_area": null,
            "grid_template_columns": null,
            "flex": null,
            "_model_name": "LayoutModel",
            "justify_items": null,
            "grid_row": null,
            "max_height": null,
            "align_content": null,
            "visibility": null,
            "align_self": null,
            "height": null,
            "min_height": null,
            "padding": null,
            "grid_auto_rows": null,
            "grid_gap": null,
            "max_width": null,
            "order": null,
            "_view_module_version": "1.2.0",
            "grid_template_areas": null,
            "object_position": null,
            "object_fit": null,
            "grid_auto_columns": null,
            "margin": null,
            "display": null,
            "left": null
          }
        },
        "7c4c38ba7ff54c33ae0ff0eda1d36ab0": {
          "model_module": "@jupyter-widgets/controls",
          "model_name": "HTMLModel",
          "model_module_version": "1.5.0",
          "state": {
            "_view_name": "HTMLView",
            "style": "IPY_MODEL_4066fa5bba994079b753f5d14b62264e",
            "_dom_classes": [],
            "description": "",
            "_model_name": "HTMLModel",
            "placeholder": "​",
            "_view_module": "@jupyter-widgets/controls",
            "_model_module_version": "1.5.0",
            "value": "Downloading: 100%",
            "_view_count": null,
            "_view_module_version": "1.5.0",
            "description_tooltip": null,
            "_model_module": "@jupyter-widgets/controls",
            "layout": "IPY_MODEL_9c308f29b44347339151201806032040"
          }
        },
        "049de57378c549958f4f9d9d645559ff": {
          "model_module": "@jupyter-widgets/controls",
          "model_name": "FloatProgressModel",
          "model_module_version": "1.5.0",
          "state": {
            "_view_name": "ProgressView",
            "style": "IPY_MODEL_3b6cd95986744f63a320f97f8f84f0e9",
            "_dom_classes": [],
            "description": "",
            "_model_name": "FloatProgressModel",
            "bar_style": "success",
            "max": 995525,
            "_view_module": "@jupyter-widgets/controls",
            "_model_module_version": "1.5.0",
            "value": 995525,
            "_view_count": null,
            "_view_module_version": "1.5.0",
            "orientation": "horizontal",
            "min": 0,
            "description_tooltip": null,
            "_model_module": "@jupyter-widgets/controls",
            "layout": "IPY_MODEL_a29e72c666f641fc9cf706cde230deef"
          }
        },
        "16f1f66c53104c8bb8a68b1e2331650c": {
          "model_module": "@jupyter-widgets/controls",
          "model_name": "HTMLModel",
          "model_module_version": "1.5.0",
          "state": {
            "_view_name": "HTMLView",
            "style": "IPY_MODEL_05993c34c67f44a6962a6075ab546e29",
            "_dom_classes": [],
            "description": "",
            "_model_name": "HTMLModel",
            "placeholder": "​",
            "_view_module": "@jupyter-widgets/controls",
            "_model_module_version": "1.5.0",
            "value": " 972k/972k [00:01&lt;00:00, 1.26MB/s]",
            "_view_count": null,
            "_view_module_version": "1.5.0",
            "description_tooltip": null,
            "_model_module": "@jupyter-widgets/controls",
            "layout": "IPY_MODEL_5b3f4aea7e3748148053b8fbceb91b21"
          }
        },
        "4066fa5bba994079b753f5d14b62264e": {
          "model_module": "@jupyter-widgets/controls",
          "model_name": "DescriptionStyleModel",
          "model_module_version": "1.5.0",
          "state": {
            "_view_name": "StyleView",
            "_model_name": "DescriptionStyleModel",
            "description_width": "",
            "_view_module": "@jupyter-widgets/base",
            "_model_module_version": "1.5.0",
            "_view_count": null,
            "_view_module_version": "1.2.0",
            "_model_module": "@jupyter-widgets/controls"
          }
        },
        "9c308f29b44347339151201806032040": {
          "model_module": "@jupyter-widgets/base",
          "model_name": "LayoutModel",
          "model_module_version": "1.2.0",
          "state": {
            "_view_name": "LayoutView",
            "grid_template_rows": null,
            "right": null,
            "justify_content": null,
            "_view_module": "@jupyter-widgets/base",
            "overflow": null,
            "_model_module_version": "1.2.0",
            "_view_count": null,
            "flex_flow": null,
            "width": null,
            "min_width": null,
            "border": null,
            "align_items": null,
            "bottom": null,
            "_model_module": "@jupyter-widgets/base",
            "top": null,
            "grid_column": null,
            "overflow_y": null,
            "overflow_x": null,
            "grid_auto_flow": null,
            "grid_area": null,
            "grid_template_columns": null,
            "flex": null,
            "_model_name": "LayoutModel",
            "justify_items": null,
            "grid_row": null,
            "max_height": null,
            "align_content": null,
            "visibility": null,
            "align_self": null,
            "height": null,
            "min_height": null,
            "padding": null,
            "grid_auto_rows": null,
            "grid_gap": null,
            "max_width": null,
            "order": null,
            "_view_module_version": "1.2.0",
            "grid_template_areas": null,
            "object_position": null,
            "object_fit": null,
            "grid_auto_columns": null,
            "margin": null,
            "display": null,
            "left": null
          }
        },
        "3b6cd95986744f63a320f97f8f84f0e9": {
          "model_module": "@jupyter-widgets/controls",
          "model_name": "ProgressStyleModel",
          "model_module_version": "1.5.0",
          "state": {
            "_view_name": "StyleView",
            "_model_name": "ProgressStyleModel",
            "description_width": "",
            "_view_module": "@jupyter-widgets/base",
            "_model_module_version": "1.5.0",
            "_view_count": null,
            "_view_module_version": "1.2.0",
            "bar_color": null,
            "_model_module": "@jupyter-widgets/controls"
          }
        },
        "a29e72c666f641fc9cf706cde230deef": {
          "model_module": "@jupyter-widgets/base",
          "model_name": "LayoutModel",
          "model_module_version": "1.2.0",
          "state": {
            "_view_name": "LayoutView",
            "grid_template_rows": null,
            "right": null,
            "justify_content": null,
            "_view_module": "@jupyter-widgets/base",
            "overflow": null,
            "_model_module_version": "1.2.0",
            "_view_count": null,
            "flex_flow": null,
            "width": null,
            "min_width": null,
            "border": null,
            "align_items": null,
            "bottom": null,
            "_model_module": "@jupyter-widgets/base",
            "top": null,
            "grid_column": null,
            "overflow_y": null,
            "overflow_x": null,
            "grid_auto_flow": null,
            "grid_area": null,
            "grid_template_columns": null,
            "flex": null,
            "_model_name": "LayoutModel",
            "justify_items": null,
            "grid_row": null,
            "max_height": null,
            "align_content": null,
            "visibility": null,
            "align_self": null,
            "height": null,
            "min_height": null,
            "padding": null,
            "grid_auto_rows": null,
            "grid_gap": null,
            "max_width": null,
            "order": null,
            "_view_module_version": "1.2.0",
            "grid_template_areas": null,
            "object_position": null,
            "object_fit": null,
            "grid_auto_columns": null,
            "margin": null,
            "display": null,
            "left": null
          }
        },
        "05993c34c67f44a6962a6075ab546e29": {
          "model_module": "@jupyter-widgets/controls",
          "model_name": "DescriptionStyleModel",
          "model_module_version": "1.5.0",
          "state": {
            "_view_name": "StyleView",
            "_model_name": "DescriptionStyleModel",
            "description_width": "",
            "_view_module": "@jupyter-widgets/base",
            "_model_module_version": "1.5.0",
            "_view_count": null,
            "_view_module_version": "1.2.0",
            "_model_module": "@jupyter-widgets/controls"
          }
        },
        "5b3f4aea7e3748148053b8fbceb91b21": {
          "model_module": "@jupyter-widgets/base",
          "model_name": "LayoutModel",
          "model_module_version": "1.2.0",
          "state": {
            "_view_name": "LayoutView",
            "grid_template_rows": null,
            "right": null,
            "justify_content": null,
            "_view_module": "@jupyter-widgets/base",
            "overflow": null,
            "_model_module_version": "1.2.0",
            "_view_count": null,
            "flex_flow": null,
            "width": null,
            "min_width": null,
            "border": null,
            "align_items": null,
            "bottom": null,
            "_model_module": "@jupyter-widgets/base",
            "top": null,
            "grid_column": null,
            "overflow_y": null,
            "overflow_x": null,
            "grid_auto_flow": null,
            "grid_area": null,
            "grid_template_columns": null,
            "flex": null,
            "_model_name": "LayoutModel",
            "justify_items": null,
            "grid_row": null,
            "max_height": null,
            "align_content": null,
            "visibility": null,
            "align_self": null,
            "height": null,
            "min_height": null,
            "padding": null,
            "grid_auto_rows": null,
            "grid_gap": null,
            "max_width": null,
            "order": null,
            "_view_module_version": "1.2.0",
            "grid_template_areas": null,
            "object_position": null,
            "object_fit": null,
            "grid_auto_columns": null,
            "margin": null,
            "display": null,
            "left": null
          }
        },
        "147e50e0f2334501bc7ef5c35e6f045f": {
          "model_module": "@jupyter-widgets/controls",
          "model_name": "HBoxModel",
          "model_module_version": "1.5.0",
          "state": {
            "_view_name": "HBoxView",
            "_dom_classes": [],
            "_model_name": "HBoxModel",
            "_view_module": "@jupyter-widgets/controls",
            "_model_module_version": "1.5.0",
            "_view_count": null,
            "_view_module_version": "1.5.0",
            "box_style": "",
            "layout": "IPY_MODEL_057e5c82fd3f407394cc15e83d897955",
            "_model_module": "@jupyter-widgets/controls",
            "children": [
              "IPY_MODEL_dd1738eda1c548408299e0800696d4b5",
              "IPY_MODEL_a1042533316f44a2b337a5e1c64e8a8c",
              "IPY_MODEL_4d059f0bd1d9415fb6602463ec5d274b"
            ]
          }
        },
        "057e5c82fd3f407394cc15e83d897955": {
          "model_module": "@jupyter-widgets/base",
          "model_name": "LayoutModel",
          "model_module_version": "1.2.0",
          "state": {
            "_view_name": "LayoutView",
            "grid_template_rows": null,
            "right": null,
            "justify_content": null,
            "_view_module": "@jupyter-widgets/base",
            "overflow": null,
            "_model_module_version": "1.2.0",
            "_view_count": null,
            "flex_flow": null,
            "width": null,
            "min_width": null,
            "border": null,
            "align_items": null,
            "bottom": null,
            "_model_module": "@jupyter-widgets/base",
            "top": null,
            "grid_column": null,
            "overflow_y": null,
            "overflow_x": null,
            "grid_auto_flow": null,
            "grid_area": null,
            "grid_template_columns": null,
            "flex": null,
            "_model_name": "LayoutModel",
            "justify_items": null,
            "grid_row": null,
            "max_height": null,
            "align_content": null,
            "visibility": null,
            "align_self": null,
            "height": null,
            "min_height": null,
            "padding": null,
            "grid_auto_rows": null,
            "grid_gap": null,
            "max_width": null,
            "order": null,
            "_view_module_version": "1.2.0",
            "grid_template_areas": null,
            "object_position": null,
            "object_fit": null,
            "grid_auto_columns": null,
            "margin": null,
            "display": null,
            "left": null
          }
        },
        "dd1738eda1c548408299e0800696d4b5": {
          "model_module": "@jupyter-widgets/controls",
          "model_name": "HTMLModel",
          "model_module_version": "1.5.0",
          "state": {
            "_view_name": "HTMLView",
            "style": "IPY_MODEL_8574d52a83c244e7bb666f2f09fd2002",
            "_dom_classes": [],
            "description": "",
            "_model_name": "HTMLModel",
            "placeholder": "​",
            "_view_module": "@jupyter-widgets/controls",
            "_model_module_version": "1.5.0",
            "value": "Downloading: 100%",
            "_view_count": null,
            "_view_module_version": "1.5.0",
            "description_tooltip": null,
            "_model_module": "@jupyter-widgets/controls",
            "layout": "IPY_MODEL_d375db77d0a64bedb428dd6449fc7c4f"
          }
        },
        "a1042533316f44a2b337a5e1c64e8a8c": {
          "model_module": "@jupyter-widgets/controls",
          "model_name": "FloatProgressModel",
          "model_module_version": "1.5.0",
          "state": {
            "_view_name": "ProgressView",
            "style": "IPY_MODEL_80e2efeb7246466d919cc7616eae7680",
            "_dom_classes": [],
            "description": "",
            "_model_name": "FloatProgressModel",
            "bar_style": "success",
            "max": 112,
            "_view_module": "@jupyter-widgets/controls",
            "_model_module_version": "1.5.0",
            "value": 112,
            "_view_count": null,
            "_view_module_version": "1.5.0",
            "orientation": "horizontal",
            "min": 0,
            "description_tooltip": null,
            "_model_module": "@jupyter-widgets/controls",
            "layout": "IPY_MODEL_458a9a0cb50e407a92a3b1756fcb387a"
          }
        },
        "4d059f0bd1d9415fb6602463ec5d274b": {
          "model_module": "@jupyter-widgets/controls",
          "model_name": "HTMLModel",
          "model_module_version": "1.5.0",
          "state": {
            "_view_name": "HTMLView",
            "style": "IPY_MODEL_c14af6a071954a2e9c87d2f134b5939c",
            "_dom_classes": [],
            "description": "",
            "_model_name": "HTMLModel",
            "placeholder": "​",
            "_view_module": "@jupyter-widgets/controls",
            "_model_module_version": "1.5.0",
            "value": " 112/112 [00:00&lt;00:00, 2.83kB/s]",
            "_view_count": null,
            "_view_module_version": "1.5.0",
            "description_tooltip": null,
            "_model_module": "@jupyter-widgets/controls",
            "layout": "IPY_MODEL_e1eaca5a21484ef9b23caf5e3782fbec"
          }
        },
        "8574d52a83c244e7bb666f2f09fd2002": {
          "model_module": "@jupyter-widgets/controls",
          "model_name": "DescriptionStyleModel",
          "model_module_version": "1.5.0",
          "state": {
            "_view_name": "StyleView",
            "_model_name": "DescriptionStyleModel",
            "description_width": "",
            "_view_module": "@jupyter-widgets/base",
            "_model_module_version": "1.5.0",
            "_view_count": null,
            "_view_module_version": "1.2.0",
            "_model_module": "@jupyter-widgets/controls"
          }
        },
        "d375db77d0a64bedb428dd6449fc7c4f": {
          "model_module": "@jupyter-widgets/base",
          "model_name": "LayoutModel",
          "model_module_version": "1.2.0",
          "state": {
            "_view_name": "LayoutView",
            "grid_template_rows": null,
            "right": null,
            "justify_content": null,
            "_view_module": "@jupyter-widgets/base",
            "overflow": null,
            "_model_module_version": "1.2.0",
            "_view_count": null,
            "flex_flow": null,
            "width": null,
            "min_width": null,
            "border": null,
            "align_items": null,
            "bottom": null,
            "_model_module": "@jupyter-widgets/base",
            "top": null,
            "grid_column": null,
            "overflow_y": null,
            "overflow_x": null,
            "grid_auto_flow": null,
            "grid_area": null,
            "grid_template_columns": null,
            "flex": null,
            "_model_name": "LayoutModel",
            "justify_items": null,
            "grid_row": null,
            "max_height": null,
            "align_content": null,
            "visibility": null,
            "align_self": null,
            "height": null,
            "min_height": null,
            "padding": null,
            "grid_auto_rows": null,
            "grid_gap": null,
            "max_width": null,
            "order": null,
            "_view_module_version": "1.2.0",
            "grid_template_areas": null,
            "object_position": null,
            "object_fit": null,
            "grid_auto_columns": null,
            "margin": null,
            "display": null,
            "left": null
          }
        },
        "80e2efeb7246466d919cc7616eae7680": {
          "model_module": "@jupyter-widgets/controls",
          "model_name": "ProgressStyleModel",
          "model_module_version": "1.5.0",
          "state": {
            "_view_name": "StyleView",
            "_model_name": "ProgressStyleModel",
            "description_width": "",
            "_view_module": "@jupyter-widgets/base",
            "_model_module_version": "1.5.0",
            "_view_count": null,
            "_view_module_version": "1.2.0",
            "bar_color": null,
            "_model_module": "@jupyter-widgets/controls"
          }
        },
        "458a9a0cb50e407a92a3b1756fcb387a": {
          "model_module": "@jupyter-widgets/base",
          "model_name": "LayoutModel",
          "model_module_version": "1.2.0",
          "state": {
            "_view_name": "LayoutView",
            "grid_template_rows": null,
            "right": null,
            "justify_content": null,
            "_view_module": "@jupyter-widgets/base",
            "overflow": null,
            "_model_module_version": "1.2.0",
            "_view_count": null,
            "flex_flow": null,
            "width": null,
            "min_width": null,
            "border": null,
            "align_items": null,
            "bottom": null,
            "_model_module": "@jupyter-widgets/base",
            "top": null,
            "grid_column": null,
            "overflow_y": null,
            "overflow_x": null,
            "grid_auto_flow": null,
            "grid_area": null,
            "grid_template_columns": null,
            "flex": null,
            "_model_name": "LayoutModel",
            "justify_items": null,
            "grid_row": null,
            "max_height": null,
            "align_content": null,
            "visibility": null,
            "align_self": null,
            "height": null,
            "min_height": null,
            "padding": null,
            "grid_auto_rows": null,
            "grid_gap": null,
            "max_width": null,
            "order": null,
            "_view_module_version": "1.2.0",
            "grid_template_areas": null,
            "object_position": null,
            "object_fit": null,
            "grid_auto_columns": null,
            "margin": null,
            "display": null,
            "left": null
          }
        },
        "c14af6a071954a2e9c87d2f134b5939c": {
          "model_module": "@jupyter-widgets/controls",
          "model_name": "DescriptionStyleModel",
          "model_module_version": "1.5.0",
          "state": {
            "_view_name": "StyleView",
            "_model_name": "DescriptionStyleModel",
            "description_width": "",
            "_view_module": "@jupyter-widgets/base",
            "_model_module_version": "1.5.0",
            "_view_count": null,
            "_view_module_version": "1.2.0",
            "_model_module": "@jupyter-widgets/controls"
          }
        },
        "e1eaca5a21484ef9b23caf5e3782fbec": {
          "model_module": "@jupyter-widgets/base",
          "model_name": "LayoutModel",
          "model_module_version": "1.2.0",
          "state": {
            "_view_name": "LayoutView",
            "grid_template_rows": null,
            "right": null,
            "justify_content": null,
            "_view_module": "@jupyter-widgets/base",
            "overflow": null,
            "_model_module_version": "1.2.0",
            "_view_count": null,
            "flex_flow": null,
            "width": null,
            "min_width": null,
            "border": null,
            "align_items": null,
            "bottom": null,
            "_model_module": "@jupyter-widgets/base",
            "top": null,
            "grid_column": null,
            "overflow_y": null,
            "overflow_x": null,
            "grid_auto_flow": null,
            "grid_area": null,
            "grid_template_columns": null,
            "flex": null,
            "_model_name": "LayoutModel",
            "justify_items": null,
            "grid_row": null,
            "max_height": null,
            "align_content": null,
            "visibility": null,
            "align_self": null,
            "height": null,
            "min_height": null,
            "padding": null,
            "grid_auto_rows": null,
            "grid_gap": null,
            "max_width": null,
            "order": null,
            "_view_module_version": "1.2.0",
            "grid_template_areas": null,
            "object_position": null,
            "object_fit": null,
            "grid_auto_columns": null,
            "margin": null,
            "display": null,
            "left": null
          }
        },
        "cd293c9411684c35a081feb8d5c7690d": {
          "model_module": "@jupyter-widgets/controls",
          "model_name": "HBoxModel",
          "model_module_version": "1.5.0",
          "state": {
            "_view_name": "HBoxView",
            "_dom_classes": [],
            "_model_name": "HBoxModel",
            "_view_module": "@jupyter-widgets/controls",
            "_model_module_version": "1.5.0",
            "_view_count": null,
            "_view_module_version": "1.5.0",
            "box_style": "",
            "layout": "IPY_MODEL_522a34a007374279ab5ab375cd7c6c6f",
            "_model_module": "@jupyter-widgets/controls",
            "children": [
              "IPY_MODEL_25d56dd7ca1d49619b5db1df2f7c2f61",
              "IPY_MODEL_36a89a7949774c29b1a72cc4db6f9ad9",
              "IPY_MODEL_a533ecc33f9f457baa148f2a6d2d4602"
            ]
          }
        },
        "522a34a007374279ab5ab375cd7c6c6f": {
          "model_module": "@jupyter-widgets/base",
          "model_name": "LayoutModel",
          "model_module_version": "1.2.0",
          "state": {
            "_view_name": "LayoutView",
            "grid_template_rows": null,
            "right": null,
            "justify_content": null,
            "_view_module": "@jupyter-widgets/base",
            "overflow": null,
            "_model_module_version": "1.2.0",
            "_view_count": null,
            "flex_flow": null,
            "width": null,
            "min_width": null,
            "border": null,
            "align_items": null,
            "bottom": null,
            "_model_module": "@jupyter-widgets/base",
            "top": null,
            "grid_column": null,
            "overflow_y": null,
            "overflow_x": null,
            "grid_auto_flow": null,
            "grid_area": null,
            "grid_template_columns": null,
            "flex": null,
            "_model_name": "LayoutModel",
            "justify_items": null,
            "grid_row": null,
            "max_height": null,
            "align_content": null,
            "visibility": null,
            "align_self": null,
            "height": null,
            "min_height": null,
            "padding": null,
            "grid_auto_rows": null,
            "grid_gap": null,
            "max_width": null,
            "order": null,
            "_view_module_version": "1.2.0",
            "grid_template_areas": null,
            "object_position": null,
            "object_fit": null,
            "grid_auto_columns": null,
            "margin": null,
            "display": null,
            "left": null
          }
        },
        "25d56dd7ca1d49619b5db1df2f7c2f61": {
          "model_module": "@jupyter-widgets/controls",
          "model_name": "HTMLModel",
          "model_module_version": "1.5.0",
          "state": {
            "_view_name": "HTMLView",
            "style": "IPY_MODEL_13b5d702b8754387bd541f9754f49565",
            "_dom_classes": [],
            "description": "",
            "_model_name": "HTMLModel",
            "placeholder": "​",
            "_view_module": "@jupyter-widgets/controls",
            "_model_module_version": "1.5.0",
            "value": "Downloading: 100%",
            "_view_count": null,
            "_view_module_version": "1.5.0",
            "description_tooltip": null,
            "_model_module": "@jupyter-widgets/controls",
            "layout": "IPY_MODEL_0b7169d817b7465fab358b368d64f9e8"
          }
        },
        "36a89a7949774c29b1a72cc4db6f9ad9": {
          "model_module": "@jupyter-widgets/controls",
          "model_name": "FloatProgressModel",
          "model_module_version": "1.5.0",
          "state": {
            "_view_name": "ProgressView",
            "style": "IPY_MODEL_6e13dafa8201439088adeadd6edb8881",
            "_dom_classes": [],
            "description": "",
            "_model_name": "FloatProgressModel",
            "bar_style": "success",
            "max": 714313344,
            "_view_module": "@jupyter-widgets/controls",
            "_model_module_version": "1.5.0",
            "value": 714313344,
            "_view_count": null,
            "_view_module_version": "1.5.0",
            "orientation": "horizontal",
            "min": 0,
            "description_tooltip": null,
            "_model_module": "@jupyter-widgets/controls",
            "layout": "IPY_MODEL_ac3b0a86e67b41c49fa19c9887ae71bd"
          }
        },
        "a533ecc33f9f457baa148f2a6d2d4602": {
          "model_module": "@jupyter-widgets/controls",
          "model_name": "HTMLModel",
          "model_module_version": "1.5.0",
          "state": {
            "_view_name": "HTMLView",
            "style": "IPY_MODEL_df4af9b685f349139aaeb47fc8bdcd40",
            "_dom_classes": [],
            "description": "",
            "_model_name": "HTMLModel",
            "placeholder": "​",
            "_view_module": "@jupyter-widgets/controls",
            "_model_module_version": "1.5.0",
            "value": " 681M/681M [00:34&lt;00:00, 22.1MB/s]",
            "_view_count": null,
            "_view_module_version": "1.5.0",
            "description_tooltip": null,
            "_model_module": "@jupyter-widgets/controls",
            "layout": "IPY_MODEL_f01418024e4644d5832fd990c53d826c"
          }
        },
        "13b5d702b8754387bd541f9754f49565": {
          "model_module": "@jupyter-widgets/controls",
          "model_name": "DescriptionStyleModel",
          "model_module_version": "1.5.0",
          "state": {
            "_view_name": "StyleView",
            "_model_name": "DescriptionStyleModel",
            "description_width": "",
            "_view_module": "@jupyter-widgets/base",
            "_model_module_version": "1.5.0",
            "_view_count": null,
            "_view_module_version": "1.2.0",
            "_model_module": "@jupyter-widgets/controls"
          }
        },
        "0b7169d817b7465fab358b368d64f9e8": {
          "model_module": "@jupyter-widgets/base",
          "model_name": "LayoutModel",
          "model_module_version": "1.2.0",
          "state": {
            "_view_name": "LayoutView",
            "grid_template_rows": null,
            "right": null,
            "justify_content": null,
            "_view_module": "@jupyter-widgets/base",
            "overflow": null,
            "_model_module_version": "1.2.0",
            "_view_count": null,
            "flex_flow": null,
            "width": null,
            "min_width": null,
            "border": null,
            "align_items": null,
            "bottom": null,
            "_model_module": "@jupyter-widgets/base",
            "top": null,
            "grid_column": null,
            "overflow_y": null,
            "overflow_x": null,
            "grid_auto_flow": null,
            "grid_area": null,
            "grid_template_columns": null,
            "flex": null,
            "_model_name": "LayoutModel",
            "justify_items": null,
            "grid_row": null,
            "max_height": null,
            "align_content": null,
            "visibility": null,
            "align_self": null,
            "height": null,
            "min_height": null,
            "padding": null,
            "grid_auto_rows": null,
            "grid_gap": null,
            "max_width": null,
            "order": null,
            "_view_module_version": "1.2.0",
            "grid_template_areas": null,
            "object_position": null,
            "object_fit": null,
            "grid_auto_columns": null,
            "margin": null,
            "display": null,
            "left": null
          }
        },
        "6e13dafa8201439088adeadd6edb8881": {
          "model_module": "@jupyter-widgets/controls",
          "model_name": "ProgressStyleModel",
          "model_module_version": "1.5.0",
          "state": {
            "_view_name": "StyleView",
            "_model_name": "ProgressStyleModel",
            "description_width": "",
            "_view_module": "@jupyter-widgets/base",
            "_model_module_version": "1.5.0",
            "_view_count": null,
            "_view_module_version": "1.2.0",
            "bar_color": null,
            "_model_module": "@jupyter-widgets/controls"
          }
        },
        "ac3b0a86e67b41c49fa19c9887ae71bd": {
          "model_module": "@jupyter-widgets/base",
          "model_name": "LayoutModel",
          "model_module_version": "1.2.0",
          "state": {
            "_view_name": "LayoutView",
            "grid_template_rows": null,
            "right": null,
            "justify_content": null,
            "_view_module": "@jupyter-widgets/base",
            "overflow": null,
            "_model_module_version": "1.2.0",
            "_view_count": null,
            "flex_flow": null,
            "width": null,
            "min_width": null,
            "border": null,
            "align_items": null,
            "bottom": null,
            "_model_module": "@jupyter-widgets/base",
            "top": null,
            "grid_column": null,
            "overflow_y": null,
            "overflow_x": null,
            "grid_auto_flow": null,
            "grid_area": null,
            "grid_template_columns": null,
            "flex": null,
            "_model_name": "LayoutModel",
            "justify_items": null,
            "grid_row": null,
            "max_height": null,
            "align_content": null,
            "visibility": null,
            "align_self": null,
            "height": null,
            "min_height": null,
            "padding": null,
            "grid_auto_rows": null,
            "grid_gap": null,
            "max_width": null,
            "order": null,
            "_view_module_version": "1.2.0",
            "grid_template_areas": null,
            "object_position": null,
            "object_fit": null,
            "grid_auto_columns": null,
            "margin": null,
            "display": null,
            "left": null
          }
        },
        "df4af9b685f349139aaeb47fc8bdcd40": {
          "model_module": "@jupyter-widgets/controls",
          "model_name": "DescriptionStyleModel",
          "model_module_version": "1.5.0",
          "state": {
            "_view_name": "StyleView",
            "_model_name": "DescriptionStyleModel",
            "description_width": "",
            "_view_module": "@jupyter-widgets/base",
            "_model_module_version": "1.5.0",
            "_view_count": null,
            "_view_module_version": "1.2.0",
            "_model_module": "@jupyter-widgets/controls"
          }
        },
        "f01418024e4644d5832fd990c53d826c": {
          "model_module": "@jupyter-widgets/base",
          "model_name": "LayoutModel",
          "model_module_version": "1.2.0",
          "state": {
            "_view_name": "LayoutView",
            "grid_template_rows": null,
            "right": null,
            "justify_content": null,
            "_view_module": "@jupyter-widgets/base",
            "overflow": null,
            "_model_module_version": "1.2.0",
            "_view_count": null,
            "flex_flow": null,
            "width": null,
            "min_width": null,
            "border": null,
            "align_items": null,
            "bottom": null,
            "_model_module": "@jupyter-widgets/base",
            "top": null,
            "grid_column": null,
            "overflow_y": null,
            "overflow_x": null,
            "grid_auto_flow": null,
            "grid_area": null,
            "grid_template_columns": null,
            "flex": null,
            "_model_name": "LayoutModel",
            "justify_items": null,
            "grid_row": null,
            "max_height": null,
            "align_content": null,
            "visibility": null,
            "align_self": null,
            "height": null,
            "min_height": null,
            "padding": null,
            "grid_auto_rows": null,
            "grid_gap": null,
            "max_width": null,
            "order": null,
            "_view_module_version": "1.2.0",
            "grid_template_areas": null,
            "object_position": null,
            "object_fit": null,
            "grid_auto_columns": null,
            "margin": null,
            "display": null,
            "left": null
          }
        }
      }
    }
  },
  "cells": [
    {
      "cell_type": "markdown",
      "metadata": {
        "id": "EPhOcilE_dcd"
      },
      "source": [
        "### Imports"
      ]
    },
    {
      "cell_type": "code",
      "metadata": {
        "colab": {
          "base_uri": "https://localhost:8080/"
        },
        "id": "n7iM6xlsr8nw",
        "outputId": "2f93eaf0-7856-4672-c839-6aeea581c972"
      },
      "source": [
        "!pip install fasttext\n",
        "\n",
        "!pip install transformers\n",
        "\n",
        "!pip install --upgrade --force-reinstall --no-deps kaggle"
      ],
      "execution_count": 1,
      "outputs": [
        {
          "output_type": "stream",
          "name": "stdout",
          "text": [
            "Collecting fasttext\n",
            "  Downloading fasttext-0.9.2.tar.gz (68 kB)\n",
            "\u001b[?25l\r\u001b[K     |████▊                           | 10 kB 26.2 MB/s eta 0:00:01\r\u001b[K     |█████████▌                      | 20 kB 8.7 MB/s eta 0:00:01\r\u001b[K     |██████████████▎                 | 30 kB 7.6 MB/s eta 0:00:01\r\u001b[K     |███████████████████             | 40 kB 7.1 MB/s eta 0:00:01\r\u001b[K     |███████████████████████▉        | 51 kB 4.3 MB/s eta 0:00:01\r\u001b[K     |████████████████████████████▋   | 61 kB 4.5 MB/s eta 0:00:01\r\u001b[K     |████████████████████████████████| 68 kB 2.9 MB/s \n",
            "\u001b[?25hCollecting pybind11>=2.2\n",
            "  Using cached pybind11-2.9.0-py2.py3-none-any.whl (210 kB)\n",
            "Requirement already satisfied: setuptools>=0.7.0 in /usr/local/lib/python3.7/dist-packages (from fasttext) (57.4.0)\n",
            "Requirement already satisfied: numpy in /usr/local/lib/python3.7/dist-packages (from fasttext) (1.19.5)\n",
            "Building wheels for collected packages: fasttext\n",
            "  Building wheel for fasttext (setup.py) ... \u001b[?25l\u001b[?25hdone\n",
            "  Created wheel for fasttext: filename=fasttext-0.9.2-cp37-cp37m-linux_x86_64.whl size=3129963 sha256=63886d4d5a85c9f0969dbcf40acd37f14224ade0989bf9965e5410143aa18249\n",
            "  Stored in directory: /root/.cache/pip/wheels/4e/ca/bf/b020d2be95f7641801a6597a29c8f4f19e38f9c02a345bab9b\n",
            "Successfully built fasttext\n",
            "Installing collected packages: pybind11, fasttext\n",
            "Successfully installed fasttext-0.9.2 pybind11-2.9.0\n",
            "Collecting transformers\n",
            "  Downloading transformers-4.15.0-py3-none-any.whl (3.4 MB)\n",
            "\u001b[K     |████████████████████████████████| 3.4 MB 4.2 MB/s \n",
            "\u001b[?25hRequirement already satisfied: filelock in /usr/local/lib/python3.7/dist-packages (from transformers) (3.4.0)\n",
            "Collecting huggingface-hub<1.0,>=0.1.0\n",
            "  Downloading huggingface_hub-0.2.1-py3-none-any.whl (61 kB)\n",
            "\u001b[K     |████████████████████████████████| 61 kB 500 kB/s \n",
            "\u001b[?25hCollecting tokenizers<0.11,>=0.10.1\n",
            "  Downloading tokenizers-0.10.3-cp37-cp37m-manylinux_2_5_x86_64.manylinux1_x86_64.manylinux_2_12_x86_64.manylinux2010_x86_64.whl (3.3 MB)\n",
            "\u001b[K     |████████████████████████████████| 3.3 MB 34.1 MB/s \n",
            "\u001b[?25hRequirement already satisfied: numpy>=1.17 in /usr/local/lib/python3.7/dist-packages (from transformers) (1.19.5)\n",
            "Requirement already satisfied: regex!=2019.12.17 in /usr/local/lib/python3.7/dist-packages (from transformers) (2019.12.20)\n",
            "Collecting pyyaml>=5.1\n",
            "  Downloading PyYAML-6.0-cp37-cp37m-manylinux_2_5_x86_64.manylinux1_x86_64.manylinux_2_12_x86_64.manylinux2010_x86_64.whl (596 kB)\n",
            "\u001b[K     |████████████████████████████████| 596 kB 49.4 MB/s \n",
            "\u001b[?25hRequirement already satisfied: tqdm>=4.27 in /usr/local/lib/python3.7/dist-packages (from transformers) (4.62.3)\n",
            "Collecting sacremoses\n",
            "  Downloading sacremoses-0.0.47-py2.py3-none-any.whl (895 kB)\n",
            "\u001b[K     |████████████████████████████████| 895 kB 46.7 MB/s \n",
            "\u001b[?25hRequirement already satisfied: requests in /usr/local/lib/python3.7/dist-packages (from transformers) (2.23.0)\n",
            "Requirement already satisfied: importlib-metadata in /usr/local/lib/python3.7/dist-packages (from transformers) (4.8.2)\n",
            "Requirement already satisfied: packaging>=20.0 in /usr/local/lib/python3.7/dist-packages (from transformers) (21.3)\n",
            "Requirement already satisfied: typing-extensions>=3.7.4.3 in /usr/local/lib/python3.7/dist-packages (from huggingface-hub<1.0,>=0.1.0->transformers) (3.10.0.2)\n",
            "Requirement already satisfied: pyparsing!=3.0.5,>=2.0.2 in /usr/local/lib/python3.7/dist-packages (from packaging>=20.0->transformers) (3.0.6)\n",
            "Requirement already satisfied: zipp>=0.5 in /usr/local/lib/python3.7/dist-packages (from importlib-metadata->transformers) (3.6.0)\n",
            "Requirement already satisfied: chardet<4,>=3.0.2 in /usr/local/lib/python3.7/dist-packages (from requests->transformers) (3.0.4)\n",
            "Requirement already satisfied: certifi>=2017.4.17 in /usr/local/lib/python3.7/dist-packages (from requests->transformers) (2021.10.8)\n",
            "Requirement already satisfied: idna<3,>=2.5 in /usr/local/lib/python3.7/dist-packages (from requests->transformers) (2.10)\n",
            "Requirement already satisfied: urllib3!=1.25.0,!=1.25.1,<1.26,>=1.21.1 in /usr/local/lib/python3.7/dist-packages (from requests->transformers) (1.24.3)\n",
            "Requirement already satisfied: joblib in /usr/local/lib/python3.7/dist-packages (from sacremoses->transformers) (1.1.0)\n",
            "Requirement already satisfied: click in /usr/local/lib/python3.7/dist-packages (from sacremoses->transformers) (7.1.2)\n",
            "Requirement already satisfied: six in /usr/local/lib/python3.7/dist-packages (from sacremoses->transformers) (1.15.0)\n",
            "Installing collected packages: pyyaml, tokenizers, sacremoses, huggingface-hub, transformers\n",
            "  Attempting uninstall: pyyaml\n",
            "    Found existing installation: PyYAML 3.13\n",
            "    Uninstalling PyYAML-3.13:\n",
            "      Successfully uninstalled PyYAML-3.13\n",
            "Successfully installed huggingface-hub-0.2.1 pyyaml-6.0 sacremoses-0.0.47 tokenizers-0.10.3 transformers-4.15.0\n",
            "Collecting kaggle\n",
            "  Downloading kaggle-1.5.12.tar.gz (58 kB)\n",
            "\u001b[K     |████████████████████████████████| 58 kB 2.6 MB/s \n",
            "\u001b[?25hBuilding wheels for collected packages: kaggle\n",
            "  Building wheel for kaggle (setup.py) ... \u001b[?25l\u001b[?25hdone\n",
            "  Created wheel for kaggle: filename=kaggle-1.5.12-py3-none-any.whl size=73051 sha256=5619cd0e24629008b760cb7494186ee38c9705226cd319810fcbec4d910d2986\n",
            "  Stored in directory: /root/.cache/pip/wheels/62/d6/58/5853130f941e75b2177d281eb7e44b4a98ed46dd155f556dc5\n",
            "Successfully built kaggle\n",
            "Installing collected packages: kaggle\n",
            "  Attempting uninstall: kaggle\n",
            "    Found existing installation: kaggle 1.5.12\n",
            "    Uninstalling kaggle-1.5.12:\n",
            "      Successfully uninstalled kaggle-1.5.12\n",
            "Successfully installed kaggle-1.5.12\n"
          ]
        }
      ]
    },
    {
      "cell_type": "code",
      "metadata": {
        "id": "ZLCXe3lG_cOV"
      },
      "source": [
        "import numpy as np\n",
        "import pandas as pd\n",
        "\n",
        "import transformers\n",
        "from transformers import BertModel, BertTokenizer, AdamW, get_linear_schedule_with_warmup,  AutoTokenizer, AutoModel\n",
        "import torch\n",
        "import numpy as np\n",
        "import pandas as pd\n",
        "import seaborn as sns\n",
        "from pylab import rcParams\n",
        "import matplotlib.pyplot as plt\n",
        "from matplotlib import rc\n",
        "from sklearn.model_selection import train_test_split\n",
        "from sklearn.metrics import confusion_matrix, classification_report\n",
        "from collections import defaultdict\n",
        "from textwrap import wrap\n",
        "from torch import nn, optim\n",
        "from torch.utils.data import Dataset, DataLoader\n",
        "import torch.nn.functional as F"
      ],
      "execution_count": 2,
      "outputs": []
    },
    {
      "cell_type": "markdown",
      "metadata": {
        "id": "5X9zPPYbtbzb"
      },
      "source": [
        "### Downloading data"
      ]
    },
    {
      "cell_type": "code",
      "metadata": {
        "colab": {
          "resources": {
            "http://localhost:8080/nbextensions/google.colab/files.js": {
              "data": "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",
              "ok": true,
              "headers": [
                [
                  "content-type",
                  "application/javascript"
                ]
              ],
              "status": 200,
              "status_text": ""
            }
          },
          "base_uri": "https://localhost:8080/",
          "height": 92
        },
        "id": "kM_LvxSEzjLi",
        "outputId": "9a3c7dc1-2567-46c4-d28e-aaaafaf52232"
      },
      "source": [
        "from google.colab import files\n",
        "\n",
        "uploaded = files.upload()\n",
        "\n",
        "for fn in uploaded.keys():\n",
        "  print('User uploaded file \"{name}\" with length {length} bytes'.format(\n",
        "      name=fn, length=len(uploaded[fn])))\n",
        "  \n",
        "# Then move kaggle.json into the folder where the API expects to find it.\n",
        "!mkdir -p ~/.kaggle/ && mv kaggle.json ~/.kaggle/ && chmod 600 ~/.kaggle/kaggle.json"
      ],
      "execution_count": 3,
      "outputs": [
        {
          "output_type": "display_data",
          "data": {
            "text/html": [
              "\n",
              "     <input type=\"file\" id=\"files-a1b2dc55-caea-4f45-a209-a8ca7e5557cf\" name=\"files[]\" multiple disabled\n",
              "        style=\"border:none\" />\n",
              "     <output id=\"result-a1b2dc55-caea-4f45-a209-a8ca7e5557cf\">\n",
              "      Upload widget is only available when the cell has been executed in the\n",
              "      current browser session. Please rerun this cell to enable.\n",
              "      </output>\n",
              "      <script src=\"/nbextensions/google.colab/files.js\"></script> "
            ],
            "text/plain": [
              "<IPython.core.display.HTML object>"
            ]
          },
          "metadata": {}
        },
        {
          "output_type": "stream",
          "name": "stdout",
          "text": [
            "Saving kaggle.json to kaggle.json\n",
            "User uploaded file \"kaggle.json\" with length 62 bytes\n"
          ]
        }
      ]
    },
    {
      "cell_type": "code",
      "metadata": {
        "id": "z1LahXXWs5j3",
        "colab": {
          "base_uri": "https://localhost:8080/"
        },
        "outputId": "a2f859ea-fcd9-4e15-bf81-eac65ecd8c46"
      },
      "source": [
        "! kaggle competitions download -c nlp-2021-hw1\n",
        "\n",
        "!unzip nlp-2021-hw1.zip"
      ],
      "execution_count": 4,
      "outputs": [
        {
          "output_type": "stream",
          "name": "stdout",
          "text": [
            "Downloading nlp-2021-hw1.zip to /content\n",
            "\r  0% 0.00/1.62M [00:00<?, ?B/s]\n",
            "\r100% 1.62M/1.62M [00:00<00:00, 148MB/s]\n",
            "Archive:  nlp-2021-hw1.zip\n",
            "  inflating: test.tsv                \n",
            "  inflating: train.tsv               \n",
            "  inflating: valid.tsv               \n"
          ]
        }
      ]
    },
    {
      "cell_type": "markdown",
      "metadata": {
        "id": "zbBseIdobOTn"
      },
      "source": [
        "### Parameters\n"
      ]
    },
    {
      "cell_type": "code",
      "metadata": {
        "id": "w8iYRUGrbOGu"
      },
      "source": [
        "MAX_LEN = 100\n",
        "RANDOM_SEED = 42\n",
        "BATCH_SIZE = 32\n",
        "\n",
        "EPOCHS = 5\n",
        "LEARNING_RATE = 5e-4"
      ],
      "execution_count": 5,
      "outputs": []
    },
    {
      "cell_type": "markdown",
      "metadata": {
        "id": "wnpX0iMOVd1v"
      },
      "source": [
        "## Tokenizer"
      ]
    },
    {
      "cell_type": "code",
      "metadata": {
        "id": "ymTGgQgvVfSi",
        "colab": {
          "base_uri": "https://localhost:8080/",
          "height": 145,
          "referenced_widgets": [
            "fc93f352e74746b79c4792c0d5c9b44a",
            "3165cfdf162c434a9d8c61b5a8bc6c8c",
            "4742b06008ff429d9c6dbf08ded5f29e",
            "238e8b98b4134317b1f004d6062fbc7b",
            "602b6053d0b64767962443a35e87908c",
            "b7a95b0b7f454445bda9196f7e6de6fb",
            "e3b67a3fa8314134b41fc13e58f5a630",
            "93c34a55d3a14ed4b61d9b24167cf19c",
            "4f87393eb8674e3e9d273309f023cd01",
            "96d7ff0418904b63aa2820c55510fd2f",
            "90f898ac373740b29dffd44283152d4f",
            "27fcb69bf00948898288b8d33ad7e66d",
            "d6c5e116ea204c7198057961e4c8393d",
            "24756f53d7894728a79ada9775a91030",
            "5e92e77fd614453e9067259234258c95",
            "12ef03b925d0452e90fc78ed2801537e",
            "3bc8985af7d04c8a9091f9679e2d61b7",
            "833ecb5e6d13419faa27c9dd2f3b77cf",
            "2e94db4a953d435895e45c4d8daf96d3",
            "132cb53223584c55896ac2f3d319ea8e",
            "35b22f5ea2284931b40b4defcf2d4d13",
            "9d334be210f149e8b2ab9c99bcb5cbea",
            "1011c6abf3fb44599984fe0c4a08750e",
            "4aec8b57a10a4647a51eaa8f2b00f5a3",
            "7c4c38ba7ff54c33ae0ff0eda1d36ab0",
            "049de57378c549958f4f9d9d645559ff",
            "16f1f66c53104c8bb8a68b1e2331650c",
            "4066fa5bba994079b753f5d14b62264e",
            "9c308f29b44347339151201806032040",
            "3b6cd95986744f63a320f97f8f84f0e9",
            "a29e72c666f641fc9cf706cde230deef",
            "05993c34c67f44a6962a6075ab546e29",
            "5b3f4aea7e3748148053b8fbceb91b21",
            "147e50e0f2334501bc7ef5c35e6f045f",
            "057e5c82fd3f407394cc15e83d897955",
            "dd1738eda1c548408299e0800696d4b5",
            "a1042533316f44a2b337a5e1c64e8a8c",
            "4d059f0bd1d9415fb6602463ec5d274b",
            "8574d52a83c244e7bb666f2f09fd2002",
            "d375db77d0a64bedb428dd6449fc7c4f",
            "80e2efeb7246466d919cc7616eae7680",
            "458a9a0cb50e407a92a3b1756fcb387a",
            "c14af6a071954a2e9c87d2f134b5939c",
            "e1eaca5a21484ef9b23caf5e3782fbec"
          ]
        },
        "outputId": "c836888d-00ef-4269-9409-3c2e9493934b"
      },
      "source": [
        "tokenizer = AutoTokenizer.from_pretrained(\"cimm-kzn/rudr-bert\")"
      ],
      "execution_count": 6,
      "outputs": [
        {
          "output_type": "display_data",
          "data": {
            "application/vnd.jupyter.widget-view+json": {
              "model_id": "fc93f352e74746b79c4792c0d5c9b44a",
              "version_minor": 0,
              "version_major": 2
            },
            "text/plain": [
              "Downloading:   0%|          | 0.00/2.00 [00:00<?, ?B/s]"
            ]
          },
          "metadata": {}
        },
        {
          "output_type": "display_data",
          "data": {
            "application/vnd.jupyter.widget-view+json": {
              "model_id": "27fcb69bf00948898288b8d33ad7e66d",
              "version_minor": 0,
              "version_major": 2
            },
            "text/plain": [
              "Downloading:   0%|          | 0.00/521 [00:00<?, ?B/s]"
            ]
          },
          "metadata": {}
        },
        {
          "output_type": "display_data",
          "data": {
            "application/vnd.jupyter.widget-view+json": {
              "model_id": "1011c6abf3fb44599984fe0c4a08750e",
              "version_minor": 0,
              "version_major": 2
            },
            "text/plain": [
              "Downloading:   0%|          | 0.00/972k [00:00<?, ?B/s]"
            ]
          },
          "metadata": {}
        },
        {
          "output_type": "display_data",
          "data": {
            "application/vnd.jupyter.widget-view+json": {
              "model_id": "147e50e0f2334501bc7ef5c35e6f045f",
              "version_minor": 0,
              "version_major": 2
            },
            "text/plain": [
              "Downloading:   0%|          | 0.00/112 [00:00<?, ?B/s]"
            ]
          },
          "metadata": {}
        }
      ]
    },
    {
      "cell_type": "markdown",
      "metadata": {
        "id": "1jQWxrpPYitt"
      },
      "source": [
        "## Dataset"
      ]
    },
    {
      "cell_type": "code",
      "metadata": {
        "id": "CVQ922dxbE40"
      },
      "source": [
        "train_df = pd.read_csv('train.tsv', sep='\\t')\n",
        "eval_df = pd.read_csv('test.tsv', sep='\\t')\n",
        "val_df = pd.read_csv('valid.tsv', sep='\\t')\n",
        "\n",
        "# train_positive_class_df = train_df[train_df['label'] == 1]\n",
        "# train_negative_class_df = train_df[train_df['label'] == 0]\n",
        "\n",
        "# num_positive_examples = len(train_positive_class_df)\n",
        "\n",
        "# train_negative_class_df = train_negative_class_df.sample(num_positive_examples)\n",
        "# train_df = pd.concat((train_positive_class_df, train_negative_class_df)).sample(frac=1)"
      ],
      "execution_count": 7,
      "outputs": []
    },
    {
      "cell_type": "code",
      "metadata": {
        "id": "QoJBHi8BYOa-"
      },
      "source": [
        "class HWDataset(Dataset):\n",
        "  def __init__(self, tweets, labels, tokenizer, max_len):\n",
        "    self.tweets = tweets\n",
        "    self.labels = labels\n",
        "    self.tokenizer = tokenizer\n",
        "    self.max_len = max_len\n",
        "  \n",
        "  def __len__(self):\n",
        "    return len(self.labels)\n",
        "  \n",
        "  def __getitem__(self, item):\n",
        "    tweet = str(self.tweets[item])\n",
        "    label = self.labels[item]\n",
        "\n",
        "    encoding = self.tokenizer.encode_plus(\n",
        "      tweet,\n",
        "      add_special_tokens=True,\n",
        "      max_length=self.max_len,\n",
        "      return_token_type_ids=False,\n",
        "      padding='max_length',\n",
        "      truncation=True,\n",
        "      return_attention_mask=True,\n",
        "      return_tensors='pt',\n",
        "    )\n",
        "\n",
        "    return {\n",
        "      'tweet_text': tweet,\n",
        "      'input_ids': encoding['input_ids'].flatten(),\n",
        "      'attention_mask': encoding['attention_mask'].flatten(),\n",
        "      'targets': torch.tensor(label, dtype=torch.long)\n",
        "    }\n",
        "    "
      ],
      "execution_count": 8,
      "outputs": []
    },
    {
      "cell_type": "code",
      "metadata": {
        "id": "yTWNs8_oZTty"
      },
      "source": [
        "np.random.seed(RANDOM_SEED)\n",
        "torch.manual_seed(RANDOM_SEED)\n",
        "device = torch.device(\"cuda:0\" if torch.cuda.is_available() else \"cpu\")"
      ],
      "execution_count": 9,
      "outputs": []
    },
    {
      "cell_type": "code",
      "metadata": {
        "id": "c6umrw0tZ7wB"
      },
      "source": [
        "def create_data_loader(df, tokenizer, max_len, batch_size):\n",
        "  ds = HWDataset(\n",
        "    tweets=df.tweet.to_numpy(),\n",
        "    labels=df.label.to_numpy(),\n",
        "    tokenizer=tokenizer,\n",
        "    max_len=max_len\n",
        "  )\n",
        "\n",
        "  return DataLoader(\n",
        "    ds,\n",
        "    batch_size=batch_size,\n",
        "    num_workers=2\n",
        "  )"
      ],
      "execution_count": 10,
      "outputs": []
    },
    {
      "cell_type": "code",
      "metadata": {
        "id": "x6cnUt-Pa3MP"
      },
      "source": [
        "train_data_loader = create_data_loader(train_df, tokenizer, MAX_LEN, BATCH_SIZE)\n",
        "val_data_loader = create_data_loader(val_df, tokenizer, MAX_LEN, BATCH_SIZE)"
      ],
      "execution_count": 11,
      "outputs": []
    },
    {
      "cell_type": "markdown",
      "metadata": {
        "id": "T3D1wXs767Ir"
      },
      "source": [
        "### Model"
      ]
    },
    {
      "cell_type": "code",
      "metadata": {
        "id": "QFf0lnTJcKTb"
      },
      "source": [
        "class ADRClassifier(nn.Module):\n",
        "\n",
        "  def __init__(self, n_classes):\n",
        "    super(ADRClassifier, self).__init__()\n",
        "    self.bert = AutoModel.from_pretrained(\"cimm-kzn/rudr-bert\")\n",
        "    self.drop = nn.Dropout(p=0.5)\n",
        "    self.out = nn.Linear(self.bert.config.hidden_size, n_classes)\n",
        "  \n",
        "  def forward(self, input_ids, attention_mask):\n",
        "    outputs = self.bert(\n",
        "      input_ids=input_ids,\n",
        "      attention_mask=attention_mask\n",
        "    )\n",
        "    output = self.drop(outputs[\"pooler_output\"])\n",
        "    return self.out(output)"
      ],
      "execution_count": 12,
      "outputs": []
    },
    {
      "cell_type": "code",
      "metadata": {
        "colab": {
          "base_uri": "https://localhost:8080/",
          "height": 124,
          "referenced_widgets": [
            "cd293c9411684c35a081feb8d5c7690d",
            "522a34a007374279ab5ab375cd7c6c6f",
            "25d56dd7ca1d49619b5db1df2f7c2f61",
            "36a89a7949774c29b1a72cc4db6f9ad9",
            "a533ecc33f9f457baa148f2a6d2d4602",
            "13b5d702b8754387bd541f9754f49565",
            "0b7169d817b7465fab358b368d64f9e8",
            "6e13dafa8201439088adeadd6edb8881",
            "ac3b0a86e67b41c49fa19c9887ae71bd",
            "df4af9b685f349139aaeb47fc8bdcd40",
            "f01418024e4644d5832fd990c53d826c"
          ]
        },
        "id": "N6fc1Y-idZsy",
        "outputId": "930afee8-2972-4f7e-c633-8dc1a7ee7fe1"
      },
      "source": [
        "model = ADRClassifier(2)\n",
        "model = model.to(device)"
      ],
      "execution_count": 13,
      "outputs": [
        {
          "output_type": "display_data",
          "data": {
            "application/vnd.jupyter.widget-view+json": {
              "model_id": "cd293c9411684c35a081feb8d5c7690d",
              "version_minor": 0,
              "version_major": 2
            },
            "text/plain": [
              "Downloading:   0%|          | 0.00/681M [00:00<?, ?B/s]"
            ]
          },
          "metadata": {}
        },
        {
          "output_type": "stream",
          "name": "stderr",
          "text": [
            "Some weights of the model checkpoint at cimm-kzn/rudr-bert were not used when initializing BertModel: ['cls.predictions.decoder.weight', 'cls.predictions.transform.LayerNorm.weight', 'cls.seq_relationship.bias', 'cls.predictions.bias', 'cls.seq_relationship.weight', 'cls.predictions.transform.dense.bias', 'cls.predictions.decoder.bias', 'cls.predictions.transform.LayerNorm.bias', 'cls.predictions.transform.dense.weight']\n",
            "- This IS expected if you are initializing BertModel from the checkpoint of a model trained on another task or with another architecture (e.g. initializing a BertForSequenceClassification model from a BertForPreTraining model).\n",
            "- This IS NOT expected if you are initializing BertModel from the checkpoint of a model that you expect to be exactly identical (initializing a BertForSequenceClassification model from a BertForSequenceClassification model).\n"
          ]
        }
      ]
    },
    {
      "cell_type": "markdown",
      "metadata": {
        "id": "6FJRbS2r67Iy"
      },
      "source": [
        "### Training:"
      ]
    },
    {
      "cell_type": "code",
      "metadata": {
        "id": "aJ80WUl0cD7H"
      },
      "source": [
        "optimizer = AdamW(model.parameters(), lr=LEARNING_RATE, correct_bias=False)\n",
        "total_steps = len(train_data_loader) * EPOCHS\n",
        "\n",
        "scheduler = get_linear_schedule_with_warmup(\n",
        "  optimizer,\n",
        "  num_warmup_steps=0,\n",
        "  num_training_steps=total_steps\n",
        ")\n",
        "\n",
        "loss_fn = nn.CrossEntropyLoss().to(device)"
      ],
      "execution_count": 14,
      "outputs": []
    },
    {
      "cell_type": "code",
      "metadata": {
        "id": "dxnkZ0p7dw62"
      },
      "source": [
        "def train_epoch(\n",
        "  model, \n",
        "  data_loader, \n",
        "  loss_fn, \n",
        "  optimizer, \n",
        "  device, \n",
        "  scheduler, \n",
        "  n_examples\n",
        "):\n",
        "  model = model.train()\n",
        "\n",
        "  losses = []\n",
        "  correct_predictions = 0\n",
        "  \n",
        "  for d in data_loader:\n",
        "    input_ids = d[\"input_ids\"].to(device)\n",
        "    attention_mask = d[\"attention_mask\"].to(device)\n",
        "    targets = d[\"targets\"].to(device)\n",
        "\n",
        "    outputs = model(\n",
        "      input_ids=input_ids,\n",
        "      attention_mask=attention_mask\n",
        "    )\n",
        "\n",
        "    _, preds = torch.max(outputs, dim=1)\n",
        "    loss = loss_fn(outputs, targets)\n",
        "\n",
        "    correct_predictions += torch.sum(preds == targets)\n",
        "    losses.append(loss.item())\n",
        "\n",
        "    loss.backward()\n",
        "    nn.utils.clip_grad_norm_(model.parameters(), max_norm=1.0)\n",
        "    optimizer.step()\n",
        "    scheduler.step()\n",
        "    optimizer.zero_grad()\n",
        "\n",
        "  return correct_predictions.double() / n_examples, np.mean(losses)"
      ],
      "execution_count": 15,
      "outputs": []
    },
    {
      "cell_type": "code",
      "metadata": {
        "id": "LNeiWpUKd5xI"
      },
      "source": [
        "def eval_model(model, data_loader, loss_fn, device, n_examples):\n",
        "  model = model.eval()\n",
        "\n",
        "  losses = []\n",
        "  correct_predictions = 0\n",
        "\n",
        "  with torch.no_grad():\n",
        "    for d in data_loader:\n",
        "      input_ids = d[\"input_ids\"].to(device)\n",
        "      attention_mask = d[\"attention_mask\"].to(device)\n",
        "      targets = d[\"targets\"].to(device)\n",
        "\n",
        "      outputs = model(\n",
        "        input_ids=input_ids,\n",
        "        attention_mask=attention_mask\n",
        "      )\n",
        "      _, preds = torch.max(outputs, dim=1)\n",
        "\n",
        "      loss = loss_fn(outputs, targets)\n",
        "\n",
        "      correct_predictions += torch.sum(preds == targets)\n",
        "      losses.append(loss.item())\n",
        "\n",
        "  return correct_predictions.double() / n_examples, np.mean(losses)"
      ],
      "execution_count": 16,
      "outputs": []
    },
    {
      "cell_type": "code",
      "metadata": {
        "colab": {
          "base_uri": "https://localhost:8080/"
        },
        "id": "10kijcM7d_BN",
        "outputId": "10861e0b-1ca3-4396-b3bc-30592fd0f883"
      },
      "source": [
        "%%time\n",
        "\n",
        "history = defaultdict(list)\n",
        "best_accuracy = 0\n",
        "\n",
        "for epoch in range(EPOCHS):\n",
        "\n",
        "  print(f'Epoch {epoch + 1}/{EPOCHS}')\n",
        "  print('-' * 10)\n",
        "\n",
        "  train_acc, train_loss = train_epoch(\n",
        "    model,\n",
        "    train_data_loader,    \n",
        "    loss_fn, \n",
        "    optimizer, \n",
        "    device, \n",
        "    scheduler, \n",
        "    len(train_df)\n",
        "  )\n",
        "\n",
        "  print(f'Train loss {train_loss} accuracy {train_acc}')\n",
        "\n",
        "  val_acc, val_loss = eval_model(\n",
        "    model,\n",
        "    val_data_loader,\n",
        "    loss_fn, \n",
        "    device, \n",
        "    len(val_df)\n",
        "  )\n",
        "\n",
        "  print(f'Val   loss {val_loss} accuracy {val_acc}')\n",
        "  print()\n",
        "\n",
        "  history['train_acc'].append(train_acc)\n",
        "  history['train_loss'].append(train_loss)\n",
        "  history['val_acc'].append(val_acc)\n",
        "  history['val_loss'].append(val_loss)\n",
        "\n",
        "  if val_acc > best_accuracy:\n",
        "    torch.save(model.state_dict(), 'best_model_state.bin')\n",
        "    best_accuracy = val_acc"
      ],
      "execution_count": 17,
      "outputs": [
        {
          "output_type": "stream",
          "name": "stdout",
          "text": [
            "Epoch 1/5\n",
            "----------\n",
            "Train loss 0.3999473293115443 accuracy 0.8835532746823069\n",
            "Val   loss 0.4111385286561455 accuracy 0.9127007299270073\n",
            "\n",
            "Epoch 2/5\n",
            "----------\n",
            "Train loss 0.34601617173757404 accuracy 0.9046920821114369\n",
            "Val   loss 0.33577136172809535 accuracy 0.9127007299270073\n",
            "\n",
            "Epoch 3/5\n",
            "----------\n",
            "Train loss 0.3339831538614817 accuracy 0.9053030303030303\n",
            "Val   loss 0.30458947929933117 accuracy 0.9127007299270073\n",
            "\n",
            "Epoch 4/5\n",
            "----------\n",
            "Train loss 0.33016182664141525 accuracy 0.9055474095796676\n",
            "Val   loss 0.30502244309280757 accuracy 0.9127007299270073\n",
            "\n",
            "Epoch 5/5\n",
            "----------\n",
            "Train loss 0.3263749485195149 accuracy 0.9055474095796676\n",
            "Val   loss 0.2957930225465033 accuracy 0.9127007299270073\n",
            "\n",
            "CPU times: user 26min 2s, sys: 44.8 s, total: 26min 47s\n",
            "Wall time: 26min 55s\n"
          ]
        }
      ]
    },
    {
      "cell_type": "code",
      "metadata": {
        "colab": {
          "base_uri": "https://localhost:8080/",
          "height": 295
        },
        "id": "8CL0w2tSeHl4",
        "outputId": "e19f78cc-4a7c-4362-d102-beb05e66cd6f"
      },
      "source": [
        "plt.plot(history['train_acc'], label='train accuracy')\n",
        "plt.plot(history['val_acc'], label='validation accuracy')\n",
        "\n",
        "plt.title('Training history')\n",
        "plt.ylabel('Accuracy')\n",
        "plt.xlabel('Epoch')\n",
        "plt.legend()\n",
        "plt.ylim([0, 1]);"
      ],
      "execution_count": 18,
      "outputs": [
        {
          "output_type": "display_data",
          "data": {
            "image/png": "[encoded data removed]",
            "text/plain": [
              "<Figure size 432x288 with 1 Axes>"
            ]
          },
          "metadata": {
            "needs_background": "light"
          }
        }
      ]
    },
    {
      "cell_type": "markdown",
      "metadata": {
        "id": "gZmxj78867I5"
      },
      "source": [
        "### Predicting labels for valid and test sets:"
      ]
    },
    {
      "cell_type": "code",
      "metadata": {
        "id": "YqX_h96D1Dq8"
      },
      "source": [
        "eval_df['label'] = 0\n",
        "\n",
        "eval_data_loader = create_data_loader(eval_df, tokenizer, MAX_LEN, BATCH_SIZE)"
      ],
      "execution_count": 19,
      "outputs": []
    },
    {
      "cell_type": "code",
      "metadata": {
        "id": "3wQCsdPj0xBY"
      },
      "source": [
        "def get_predictions(model, data_loader):\n",
        "  model = model.eval()\n",
        "  \n",
        "  review_texts = []\n",
        "  predictions = []\n",
        "  prediction_probs = []\n",
        "  real_values = []\n",
        "\n",
        "  with torch.no_grad():\n",
        "    for d in data_loader:\n",
        "\n",
        "      texts = d[\"tweet_text\"]\n",
        "      input_ids = d[\"input_ids\"].to(device)\n",
        "      attention_mask = d[\"attention_mask\"].to(device)\n",
        "      targets = d[\"targets\"].to(device)\n",
        "\n",
        "      outputs = model(\n",
        "        input_ids=input_ids,\n",
        "        attention_mask=attention_mask\n",
        "      )\n",
        "      _, preds = torch.max(outputs, dim=1)\n",
        "\n",
        "      probs = F.softmax(outputs, dim=1)\n",
        "\n",
        "      review_texts.extend(texts)\n",
        "      predictions.extend(preds)\n",
        "      prediction_probs.extend(probs)\n",
        "      real_values.extend(targets)\n",
        "\n",
        "  predictions = torch.stack(predictions).cpu()\n",
        "  prediction_probs = torch.stack(prediction_probs).cpu()\n",
        "  real_values = torch.stack(real_values).cpu()\n",
        "  return review_texts, predictions, prediction_probs, real_values"
      ],
      "execution_count": 20,
      "outputs": []
    },
    {
      "cell_type": "code",
      "metadata": {
        "id": "ZXkRwCh741Pv"
      },
      "source": [
        "y_review_texts, y_pred, y_pred_probs, y_test = get_predictions(\n",
        "  model,\n",
        "    eval_data_loader\n",
        ")\n",
        "y_pred_probs = y_pred_probs.tolist()"
      ],
      "execution_count": 21,
      "outputs": []
    },
    {
      "cell_type": "code",
      "metadata": {
        "id": "nr51Z39j4Cql"
      },
      "source": [
        "res_dict = {'tweet': y_review_texts, 'label': [a[1] for a in y_pred_probs]} \n",
        "\n",
        "res = pd.DataFrame(res_dict)"
      ],
      "execution_count": 22,
      "outputs": []
    },
    {
      "cell_type": "code",
      "metadata": {
        "id": "ElQMRFXF7oVb"
      },
      "source": [
        "submit_df = pd.merge(left=res, right=eval_df.drop(columns=['label']), on='tweet').drop(columns=['tweet'])[['tweet_id', 'label']]"
      ],
      "execution_count": 23,
      "outputs": []
    },
    {
      "cell_type": "code",
      "metadata": {
        "id": "UwvyyHjd9qZ9"
      },
      "source": [
        "submit_df.to_csv('solution.csv', sep=',', index=False)"
      ],
      "execution_count": 24,
      "outputs": []
    },
    {
      "cell_type": "code",
      "metadata": {
        "id": "cly8MBwAryhX",
        "colab": {
          "base_uri": "https://localhost:8080/"
        },
        "outputId": "bcb762f4-4584-4212-ee7e-5bdc6243e4f7"
      },
      "source": [
        "print([a[1] for a in y_pred_probs])\n",
        "print(y_pred)"
      ],
      "execution_count": 25,
      "outputs": [
        {
          "output_type": "stream",
          "name": "stdout",
          "text": [
            "[0.10210588574409485, 0.10210588574409485, 0.10210588574409485, 0.10210588574409485, 0.10210588574409485, 0.10210588574409485, 0.10210588574409485, 0.10210588574409485, 0.10210588574409485, 0.10210588574409485, 0.10210588574409485, 0.10210588574409485, 0.10210588574409485, 0.10210588574409485, 0.10210588574409485, 0.10210588574409485, 0.10210588574409485, 0.10210588574409485, 0.10210588574409485, 0.10210588574409485, 0.10210588574409485, 0.10210588574409485, 0.10210587084293365, 0.10210587084293365, 0.10210588574409485, 0.10210588574409485, 0.10210588574409485, 0.10210588574409485, 0.10210588574409485, 0.10210587084293365, 0.10210587084293365, 0.10210587084293365, 0.10210588574409485, 0.10210588574409485, 0.10210588574409485, 0.10210588574409485, 0.10210588574409485, 0.10210588574409485, 0.10210588574409485, 0.10210588574409485, 0.10210588574409485, 0.10210588574409485, 0.10210588574409485, 0.10210587084293365, 0.10210588574409485, 0.10210588574409485, 0.10210588574409485, 0.10210588574409485, 0.10210588574409485, 0.10210587084293365, 0.10210588574409485, 0.10210588574409485, 0.10210588574409485, 0.10210587084293365, 0.10210588574409485, 0.10210587084293365, 0.10210588574409485, 0.10210588574409485, 0.10210588574409485, 0.10210588574409485, 0.10210588574409485, 0.10210588574409485, 0.10210588574409485, 0.10210588574409485, 0.10210588574409485, 0.10210588574409485, 0.10210587084293365, 0.10210588574409485, 0.10210588574409485, 0.10210588574409485, 0.10210587084293365, 0.10210587084293365, 0.10210588574409485, 0.10210588574409485, 0.10210588574409485, 0.10210588574409485, 0.10210588574409485, 0.10210587084293365, 0.10210588574409485, 0.10210588574409485, 0.10210588574409485, 0.10210587084293365, 0.10210588574409485, 0.10210588574409485, 0.10210588574409485, 0.10210588574409485, 0.10210588574409485, 0.10210588574409485, 0.10210588574409485, 0.10210587084293365, 0.10210588574409485, 0.10210588574409485, 0.10210588574409485, 0.10210588574409485, 0.10210588574409485, 0.10210588574409485, 0.10210588574409485, 0.10210588574409485, 0.10210588574409485, 0.10210587084293365, 0.10210588574409485, 0.10210587084293365, 0.10210588574409485, 0.10210588574409485, 0.10210588574409485, 0.10210588574409485, 0.10210587084293365, 0.10210587084293365, 0.10210588574409485, 0.10210587084293365, 0.10210588574409485, 0.10210588574409485, 0.10210588574409485, 0.10210587084293365, 0.10210588574409485, 0.10210588574409485, 0.10210588574409485, 0.10210588574409485, 0.10210588574409485, 0.10210587084293365, 0.10210588574409485, 0.10210588574409485, 0.10210588574409485, 0.10210588574409485, 0.10210587084293365, 0.10210587084293365, 0.10210588574409485, 0.10210588574409485, 0.10210588574409485, 0.10210588574409485, 0.10210588574409485, 0.10210588574409485, 0.10210588574409485, 0.10210588574409485, 0.10210588574409485, 0.10210588574409485, 0.10210588574409485, 0.10210588574409485, 0.10210587084293365, 0.10210587084293365, 0.10210588574409485, 0.10210588574409485, 0.10210588574409485, 0.10210588574409485, 0.10210588574409485, 0.10210588574409485, 0.10210588574409485, 0.10210588574409485, 0.10210588574409485, 0.10210588574409485, 0.10210588574409485, 0.10210588574409485, 0.10210587084293365, 0.10210588574409485, 0.10210588574409485, 0.10210587084293365, 0.10210588574409485, 0.10210588574409485, 0.10210588574409485, 0.10210588574409485, 0.10210588574409485, 0.10210588574409485, 0.10210588574409485, 0.10210588574409485, 0.10210588574409485, 0.10210588574409485, 0.10210587084293365, 0.10210588574409485, 0.10210588574409485, 0.10210588574409485, 0.10210588574409485, 0.10210588574409485, 0.10210588574409485, 0.10210588574409485, 0.10210588574409485, 0.10210587084293365, 0.10210587084293365, 0.10210588574409485, 0.10210588574409485, 0.10210588574409485, 0.10210588574409485, 0.10210588574409485, 0.10210588574409485, 0.10210587084293365, 0.10210588574409485, 0.10210587084293365, 0.10210587084293365, 0.10210588574409485, 0.10210587084293365, 0.10210588574409485, 0.10210588574409485, 0.10210588574409485, 0.10210588574409485, 0.10210588574409485, 0.10210587084293365, 0.10210588574409485, 0.10210587084293365, 0.10210588574409485, 0.10210587084293365, 0.10210588574409485, 0.10210588574409485, 0.10210588574409485, 0.10210587084293365, 0.10210588574409485, 0.10210588574409485, 0.10210587084293365, 0.10210588574409485, 0.10210587084293365, 0.10210588574409485, 0.10210587084293365, 0.10210588574409485, 0.10210587084293365, 0.10210587084293365, 0.10210588574409485, 0.10210588574409485, 0.10210588574409485, 0.10210588574409485, 0.10210588574409485, 0.10210587084293365, 0.10210588574409485, 0.10210588574409485, 0.10210588574409485, 0.10210588574409485, 0.10210587084293365, 0.10210588574409485, 0.10210588574409485, 0.10210588574409485, 0.10210588574409485, 0.10210588574409485, 0.10210587084293365, 0.10210588574409485, 0.10210588574409485, 0.10210588574409485, 0.10210588574409485, 0.10210588574409485, 0.10210588574409485, 0.10210588574409485, 0.10210588574409485, 0.10210588574409485, 0.10210588574409485, 0.10210588574409485, 0.10210588574409485, 0.10210588574409485, 0.10210588574409485, 0.10210588574409485, 0.10210587084293365, 0.10210587084293365, 0.10210588574409485, 0.10210588574409485, 0.10210587084293365, 0.10210588574409485, 0.10210588574409485, 0.10210588574409485, 0.10210587084293365, 0.10210588574409485, 0.10210588574409485, 0.10210588574409485, 0.10210588574409485, 0.10210587084293365, 0.10210588574409485, 0.10210588574409485, 0.10210588574409485, 0.10210588574409485, 0.10210587084293365, 0.10210588574409485, 0.10210588574409485, 0.10210588574409485, 0.10210588574409485, 0.10210588574409485, 0.10210588574409485, 0.10210588574409485, 0.10210588574409485, 0.10210588574409485, 0.10210588574409485, 0.10210588574409485, 0.10210588574409485, 0.10210588574409485, 0.10210588574409485, 0.10210588574409485, 0.10210588574409485, 0.10210588574409485, 0.10210588574409485, 0.10210588574409485, 0.10210587084293365, 0.10210587084293365, 0.10210588574409485, 0.10210588574409485, 0.10210587084293365, 0.10210587084293365, 0.10210588574409485, 0.10210588574409485, 0.10210588574409485, 0.10210588574409485, 0.10210588574409485, 0.10210588574409485, 0.10210587084293365, 0.10210588574409485, 0.10210588574409485, 0.10210587084293365, 0.10210588574409485, 0.10210588574409485, 0.10210588574409485, 0.10210588574409485, 0.10210587084293365, 0.10210588574409485, 0.10210588574409485, 0.10210588574409485, 0.10210588574409485, 0.10210588574409485, 0.10210588574409485, 0.10210588574409485, 0.10210588574409485, 0.10210588574409485, 0.10210588574409485, 0.10210587084293365, 0.10210588574409485, 0.10210588574409485, 0.10210587084293365, 0.10210588574409485, 0.10210588574409485, 0.10210588574409485, 0.10210587084293365, 0.10210587084293365, 0.10210588574409485, 0.10210588574409485, 0.10210588574409485, 0.10210588574409485, 0.10210588574409485, 0.10210588574409485, 0.10210587084293365, 0.10210588574409485, 0.10210587084293365, 0.10210587084293365, 0.10210587084293365, 0.10210588574409485, 0.10210587084293365, 0.10210588574409485, 0.10210588574409485, 0.10210588574409485, 0.10210588574409485, 0.10210587084293365, 0.10210587084293365, 0.10210588574409485, 0.10210588574409485, 0.10210588574409485, 0.10210588574409485, 0.10210588574409485, 0.10210587084293365, 0.10210588574409485, 0.10210588574409485, 0.10210588574409485, 0.10210588574409485, 0.10210588574409485, 0.10210588574409485, 0.10210587084293365, 0.10210587084293365, 0.10210588574409485, 0.10210588574409485, 0.10210588574409485, 0.10210588574409485, 0.10210588574409485, 0.10210588574409485, 0.10210587084293365, 0.10210588574409485, 0.10210587084293365, 0.10210587084293365, 0.10210588574409485, 0.10210587084293365, 0.10210587084293365, 0.10210588574409485, 0.10210588574409485, 0.10210588574409485, 0.10210587084293365, 0.10210588574409485, 0.10210588574409485, 0.10210588574409485, 0.10210588574409485, 0.10210587084293365, 0.10210588574409485, 0.10210588574409485, 0.10210588574409485, 0.10210587084293365, 0.10210588574409485, 0.10210587084293365, 0.10210588574409485, 0.10210587084293365, 0.10210588574409485, 0.10210588574409485, 0.10210588574409485, 0.10210587084293365, 0.10210587084293365, 0.10210588574409485, 0.10210588574409485, 0.10210588574409485, 0.10210588574409485, 0.10210588574409485, 0.10210588574409485, 0.10210588574409485, 0.10210588574409485, 0.10210588574409485, 0.10210587084293365, 0.10210588574409485, 0.10210587084293365, 0.10210588574409485, 0.10210587084293365, 0.10210588574409485, 0.10210588574409485, 0.10210588574409485, 0.10210587084293365, 0.10210587084293365, 0.10210588574409485, 0.10210587084293365, 0.10210588574409485, 0.10210588574409485, 0.10210588574409485, 0.10210588574409485, 0.10210588574409485, 0.10210588574409485, 0.10210588574409485, 0.10210588574409485, 0.10210588574409485, 0.10210588574409485, 0.10210588574409485, 0.10210588574409485, 0.10210587084293365, 0.10210587084293365, 0.10210588574409485, 0.10210588574409485, 0.10210587084293365, 0.10210588574409485, 0.10210588574409485, 0.10210587084293365, 0.10210588574409485, 0.10210588574409485, 0.10210587084293365, 0.10210588574409485, 0.10210588574409485, 0.10210588574409485, 0.10210588574409485, 0.10210588574409485, 0.10210588574409485, 0.10210588574409485, 0.10210588574409485, 0.10210588574409485, 0.10210588574409485, 0.10210588574409485, 0.10210588574409485, 0.10210587084293365, 0.10210588574409485, 0.10210588574409485, 0.10210588574409485, 0.10210588574409485, 0.10210588574409485, 0.10210588574409485, 0.10210588574409485, 0.10210588574409485, 0.10210588574409485, 0.10210587084293365, 0.10210588574409485, 0.10210588574409485, 0.10210588574409485, 0.10210588574409485, 0.10210588574409485, 0.10210588574409485, 0.10210588574409485, 0.10210588574409485, 0.10210588574409485, 0.10210588574409485, 0.10210588574409485, 0.10210588574409485, 0.10210588574409485, 0.10210587084293365, 0.10210588574409485, 0.10210588574409485, 0.10210588574409485, 0.10210587084293365, 0.10210588574409485, 0.10210588574409485, 0.10210588574409485, 0.10210587084293365, 0.10210587084293365, 0.10210588574409485, 0.10210588574409485, 0.10210588574409485, 0.10210588574409485, 0.10210587084293365, 0.10210584104061127, 0.10210588574409485, 0.10210588574409485, 0.10210588574409485, 0.10210588574409485, 0.10210587084293365, 0.10210588574409485, 0.10210588574409485, 0.10210587084293365, 0.10210588574409485, 0.10210588574409485, 0.10210587084293365, 0.10210588574409485, 0.10210587084293365, 0.10210588574409485, 0.10210588574409485, 0.10210588574409485, 0.10210588574409485, 0.10210588574409485, 0.10210588574409485, 0.10210588574409485, 0.10210588574409485, 0.10210588574409485, 0.10210588574409485, 0.10210588574409485, 0.10210588574409485, 0.10210587084293365, 0.10210587084293365, 0.10210588574409485, 0.10210588574409485, 0.10210587084293365, 0.10210588574409485, 0.10210588574409485, 0.10210588574409485, 0.10210588574409485, 0.10210588574409485, 0.10210588574409485, 0.10210588574409485, 0.10210588574409485, 0.10210588574409485, 0.10210588574409485, 0.10210588574409485, 0.10210588574409485, 0.10210587084293365, 0.10210588574409485, 0.10210588574409485, 0.10210588574409485, 0.10210587084293365, 0.10210588574409485, 0.10210588574409485, 0.10210588574409485, 0.10210588574409485, 0.10210588574409485, 0.10210588574409485, 0.10210588574409485, 0.10210588574409485, 0.10210587084293365, 0.10210588574409485, 0.10210588574409485, 0.10210588574409485, 0.10210587084293365, 0.10210588574409485, 0.10210588574409485, 0.10210588574409485, 0.10210588574409485, 0.10210588574409485, 0.10210587084293365, 0.10210588574409485, 0.10210588574409485, 0.10210588574409485, 0.10210588574409485, 0.10210588574409485, 0.10210588574409485, 0.10210588574409485, 0.10210587084293365, 0.10210587084293365, 0.10210588574409485, 0.10210587084293365, 0.10210588574409485, 0.10210587084293365, 0.10210588574409485, 0.10210588574409485, 0.10210588574409485, 0.10210588574409485, 0.10210588574409485, 0.10210588574409485, 0.10210588574409485, 0.10210588574409485, 0.10210587084293365, 0.10210588574409485, 0.10210588574409485, 0.10210588574409485, 0.10210588574409485, 0.10210588574409485, 0.10210588574409485, 0.10210588574409485, 0.10210587084293365, 0.10210588574409485, 0.10210588574409485, 0.10210588574409485, 0.10210587084293365, 0.10210587084293365, 0.10210588574409485, 0.10210587084293365, 0.10210588574409485, 0.10210588574409485, 0.10210587084293365, 0.10210588574409485, 0.10210587084293365, 0.10210587084293365, 0.10210588574409485, 0.10210588574409485, 0.10210588574409485, 0.10210588574409485, 0.10210588574409485, 0.10210588574409485, 0.10210588574409485, 0.10210588574409485, 0.10210587084293365, 0.10210588574409485, 0.10210588574409485, 0.10210587084293365, 0.10210588574409485, 0.10210588574409485, 0.10210588574409485, 0.10210588574409485, 0.10210587084293365, 0.10210588574409485, 0.10210588574409485, 0.10210588574409485, 0.10210588574409485, 0.10210588574409485, 0.10210588574409485, 0.10210587084293365, 0.10210588574409485, 0.10210588574409485, 0.10210587084293365, 0.10210587084293365, 0.10210588574409485, 0.10210588574409485, 0.10210588574409485, 0.10210588574409485, 0.10210588574409485, 0.10210588574409485, 0.10210587084293365, 0.10210588574409485, 0.10210588574409485, 0.10210588574409485, 0.10210588574409485, 0.10210588574409485, 0.10210588574409485, 0.10210588574409485, 0.10210588574409485, 0.10210587084293365, 0.10210588574409485, 0.10210588574409485, 0.10210588574409485, 0.10210587084293365, 0.10210588574409485, 0.10210587084293365, 0.10210588574409485, 0.10210588574409485, 0.10210588574409485, 0.10210588574409485, 0.10210588574409485, 0.10210588574409485, 0.10210588574409485, 0.10210588574409485, 0.10210588574409485, 0.10210588574409485, 0.10210588574409485, 0.10210588574409485, 0.10210587084293365, 0.10210588574409485, 0.10210588574409485, 0.10210588574409485, 0.10210587084293365, 0.10210587084293365, 0.10210588574409485, 0.10210588574409485, 0.10210587084293365, 0.10210588574409485, 0.10210588574409485, 0.10210587084293365, 0.10210588574409485, 0.10210588574409485, 0.10210588574409485, 0.10210588574409485, 0.10210588574409485, 0.10210588574409485, 0.10210588574409485, 0.10210588574409485, 0.10210588574409485, 0.10210587084293365, 0.10210587084293365, 0.10210588574409485, 0.10210588574409485, 0.10210588574409485, 0.10210588574409485, 0.10210587084293365, 0.10210588574409485, 0.10210588574409485, 0.10210588574409485, 0.10210587084293365, 0.10210588574409485, 0.10210587084293365, 0.10210588574409485, 0.10210588574409485, 0.10210588574409485, 0.10210588574409485, 0.10210587084293365, 0.10210588574409485, 0.10210588574409485, 0.10210588574409485, 0.10210587084293365, 0.10210588574409485, 0.10210587084293365, 0.10210588574409485, 0.10210587084293365, 0.10210588574409485, 0.10210588574409485, 0.10210588574409485, 0.10210588574409485, 0.10210588574409485, 0.10210587084293365, 0.10210587084293365, 0.10210587084293365, 0.10210588574409485, 0.10210588574409485, 0.10210587084293365, 0.10210588574409485, 0.10210587084293365, 0.10210588574409485, 0.10210587084293365, 0.10210587084293365, 0.10210588574409485, 0.10210588574409485, 0.10210588574409485, 0.10210588574409485, 0.10210588574409485, 0.10210588574409485, 0.10210588574409485, 0.10210588574409485, 0.10210587084293365, 0.10210587084293365, 0.10210588574409485, 0.10210588574409485, 0.10210588574409485, 0.10210588574409485, 0.10210588574409485, 0.10210588574409485, 0.10210588574409485, 0.10210587084293365, 0.10210587084293365, 0.10210588574409485, 0.10210588574409485, 0.10210588574409485, 0.10210587084293365, 0.10210588574409485, 0.10210588574409485, 0.10210588574409485, 0.10210588574409485, 0.10210588574409485, 0.10210587084293365, 0.10210588574409485, 0.10210588574409485, 0.10210588574409485, 0.10210588574409485, 0.10210587084293365, 0.10210588574409485, 0.10210588574409485, 0.10210587084293365, 0.10210588574409485, 0.10210588574409485, 0.10210588574409485, 0.10210587084293365, 0.10210588574409485, 0.10210588574409485, 0.10210588574409485, 0.10210588574409485, 0.10210588574409485, 0.10210588574409485, 0.10210588574409485, 0.10210588574409485, 0.10210587084293365, 0.10210588574409485, 0.10210588574409485, 0.10210588574409485, 0.10210587084293365, 0.10210588574409485, 0.10210588574409485, 0.10210587084293365, 0.10210588574409485, 0.10210588574409485, 0.10210588574409485, 0.10210588574409485, 0.10210588574409485, 0.10210588574409485, 0.10210588574409485, 0.10210588574409485, 0.10210587084293365, 0.10210588574409485, 0.10210588574409485, 0.10210588574409485, 0.10210588574409485, 0.10210588574409485, 0.10210588574409485, 0.10210588574409485, 0.10210587084293365, 0.10210587084293365, 0.10210588574409485, 0.10210588574409485, 0.10210588574409485, 0.10210588574409485, 0.10210588574409485, 0.10210587084293365, 0.10210588574409485, 0.10210588574409485, 0.10210588574409485, 0.10210588574409485, 0.10210588574409485, 0.10210588574409485, 0.10210587084293365, 0.10210588574409485, 0.10210587084293365, 0.10210587084293365, 0.10210588574409485, 0.10210588574409485, 0.10210587084293365, 0.10210587084293365, 0.10210588574409485, 0.10210588574409485, 0.10210588574409485, 0.10210588574409485, 0.10210588574409485, 0.10210588574409485, 0.10210588574409485, 0.10210588574409485, 0.10210588574409485, 0.10210588574409485, 0.10210587084293365, 0.10210588574409485, 0.10210587084293365, 0.10210588574409485, 0.10210588574409485, 0.10210587084293365, 0.10210588574409485, 0.10210588574409485, 0.10210588574409485, 0.10210588574409485, 0.10210587084293365, 0.10210588574409485, 0.10210588574409485, 0.10210588574409485, 0.10210588574409485, 0.10210588574409485, 0.10210588574409485, 0.10210587084293365, 0.10210588574409485, 0.10210588574409485, 0.10210588574409485, 0.10210587084293365, 0.10210588574409485, 0.10210588574409485, 0.10210588574409485, 0.10210588574409485, 0.10210588574409485, 0.10210588574409485, 0.10210588574409485, 0.10210588574409485, 0.10210587084293365, 0.10210588574409485, 0.10210588574409485, 0.10210587084293365, 0.10210588574409485, 0.10210587084293365, 0.10210588574409485, 0.10210588574409485, 0.10210587084293365, 0.10210588574409485, 0.10210588574409485, 0.10210588574409485, 0.10210588574409485, 0.10210588574409485, 0.10210588574409485, 0.10210587084293365, 0.10210587084293365, 0.10210588574409485, 0.10210587084293365, 0.10210587084293365, 0.10210588574409485, 0.10210587084293365, 0.10210588574409485, 0.10210588574409485, 0.10210587084293365, 0.10210588574409485, 0.10210588574409485, 0.10210588574409485, 0.10210588574409485, 0.10210588574409485, 0.10210587084293365, 0.10210588574409485, 0.10210587084293365, 0.10210587084293365, 0.10210587084293365, 0.10210588574409485, 0.10210588574409485, 0.10210588574409485, 0.10210588574409485, 0.10210588574409485, 0.10210587084293365, 0.10210588574409485, 0.10210588574409485, 0.10210588574409485, 0.10210588574409485, 0.10210588574409485, 0.10210587084293365, 0.10210587084293365, 0.10210588574409485, 0.10210588574409485, 0.10210587084293365, 0.10210588574409485, 0.10210588574409485, 0.10210587084293365, 0.10210587084293365, 0.10210588574409485, 0.10210588574409485, 0.10210587084293365, 0.10210587084293365, 0.10210588574409485, 0.10210588574409485, 0.10210587084293365, 0.10210588574409485, 0.10210588574409485, 0.10210588574409485, 0.10210588574409485, 0.10210588574409485, 0.10210587084293365, 0.10210588574409485, 0.10210588574409485, 0.10210588574409485, 0.10210588574409485, 0.10210588574409485, 0.10210588574409485, 0.10210588574409485, 0.10210587084293365, 0.10210588574409485, 0.10210587084293365, 0.10210588574409485, 0.10210588574409485, 0.10210588574409485, 0.10210588574409485, 0.10210588574409485, 0.10210588574409485, 0.10210587084293365, 0.10210588574409485, 0.10210588574409485, 0.10210588574409485, 0.10210588574409485, 0.10210588574409485, 0.10210587084293365, 0.10210587084293365, 0.10210588574409485, 0.10210588574409485, 0.10210587084293365, 0.10210588574409485, 0.10210587084293365, 0.10210588574409485, 0.10210587084293365, 0.10210588574409485, 0.10210588574409485, 0.10210587084293365, 0.10210588574409485, 0.10210588574409485, 0.10210588574409485, 0.10210588574409485, 0.10210588574409485, 0.10210588574409485, 0.10210588574409485, 0.10210588574409485, 0.10210588574409485, 0.10210588574409485, 0.10210588574409485, 0.10210588574409485, 0.10210588574409485, 0.10210588574409485, 0.10210588574409485, 0.10210587084293365, 0.10210588574409485, 0.10210587084293365, 0.10210588574409485, 0.10210587084293365, 0.10210588574409485, 0.10210588574409485, 0.10210588574409485, 0.10210588574409485, 0.10210588574409485, 0.10210588574409485, 0.10210588574409485, 0.10210588574409485, 0.10210588574409485, 0.10210588574409485, 0.10210587084293365, 0.10210588574409485, 0.10210587084293365, 0.10210588574409485, 0.10210588574409485, 0.10210588574409485, 0.10210588574409485, 0.10210588574409485, 0.10210588574409485, 0.10210588574409485, 0.10210587084293365, 0.10210588574409485, 0.10210588574409485, 0.10210588574409485, 0.10210587084293365, 0.10210588574409485, 0.10210587084293365, 0.10210588574409485, 0.10210587084293365, 0.10210588574409485, 0.10210588574409485, 0.10210588574409485, 0.10210588574409485, 0.10210588574409485, 0.10210588574409485, 0.10210588574409485, 0.10210588574409485, 0.10210588574409485, 0.10210587084293365, 0.10210588574409485, 0.10210588574409485, 0.10210588574409485, 0.10210588574409485, 0.10210588574409485, 0.10210587084293365, 0.10210588574409485, 0.10210588574409485, 0.10210588574409485, 0.10210587084293365, 0.10210588574409485, 0.10210588574409485, 0.10210588574409485, 0.10210588574409485, 0.10210588574409485, 0.10210588574409485, 0.10210588574409485, 0.10210588574409485, 0.10210588574409485, 0.10210587084293365, 0.10210588574409485, 0.10210588574409485, 0.10210588574409485, 0.10210588574409485, 0.10210588574409485, 0.10210588574409485, 0.10210587084293365, 0.10210588574409485, 0.10210588574409485, 0.10210587084293365, 0.10210588574409485, 0.10210588574409485, 0.10210588574409485, 0.10210588574409485, 0.10210588574409485, 0.10210588574409485, 0.10210587084293365, 0.10210588574409485, 0.10210588574409485, 0.10210588574409485, 0.10210588574409485, 0.10210588574409485, 0.10210588574409485, 0.10210588574409485, 0.10210588574409485, 0.10210588574409485, 0.10210587084293365, 0.10210588574409485, 0.10210588574409485, 0.10210587084293365, 0.10210588574409485, 0.10210588574409485, 0.10210587084293365, 0.10210588574409485, 0.10210588574409485, 0.10210588574409485, 0.10210588574409485, 0.10210588574409485, 0.10210587084293365, 0.10210588574409485, 0.10210587084293365, 0.10210588574409485, 0.10210588574409485, 0.10210588574409485, 0.10210588574409485, 0.10210588574409485, 0.10210587084293365, 0.10210588574409485, 0.10210588574409485, 0.10210588574409485, 0.10210588574409485, 0.10210588574409485, 0.10210588574409485, 0.10210588574409485, 0.10210588574409485, 0.10210588574409485, 0.10210588574409485, 0.10210588574409485, 0.10210587084293365, 0.10210588574409485, 0.10210588574409485, 0.10210587084293365, 0.10210588574409485, 0.10210587084293365, 0.10210588574409485, 0.10210588574409485, 0.10210588574409485, 0.10210587084293365, 0.10210588574409485, 0.10210588574409485, 0.10210587084293365, 0.10210588574409485, 0.10210588574409485, 0.10210588574409485, 0.10210587084293365, 0.10210587084293365, 0.10210588574409485, 0.10210588574409485, 0.10210588574409485, 0.10210588574409485, 0.10210588574409485, 0.10210588574409485, 0.10210588574409485, 0.10210587084293365, 0.10210588574409485, 0.10210588574409485, 0.10210588574409485, 0.10210588574409485, 0.10210588574409485, 0.10210587084293365, 0.10210588574409485, 0.10210588574409485, 0.10210588574409485, 0.10210587084293365, 0.10210588574409485, 0.10210588574409485, 0.10210588574409485, 0.10210587084293365, 0.10210588574409485, 0.10210588574409485, 0.10210588574409485, 0.10210587084293365, 0.10210588574409485, 0.10210588574409485, 0.10210588574409485, 0.10210588574409485, 0.10210588574409485, 0.10210588574409485, 0.10210588574409485, 0.10210588574409485, 0.10210588574409485, 0.10210588574409485, 0.10210588574409485, 0.10210588574409485, 0.10210588574409485, 0.10210587084293365, 0.10210588574409485, 0.10210587084293365, 0.10210587084293365, 0.10210587084293365, 0.10210588574409485, 0.10210588574409485, 0.10210588574409485, 0.10210587084293365, 0.10210587084293365, 0.10210587084293365, 0.10210588574409485, 0.10210588574409485, 0.10210588574409485, 0.10210588574409485, 0.10210588574409485, 0.10210587084293365, 0.10210588574409485, 0.10210587084293365, 0.10210587084293365, 0.10210587084293365, 0.10210588574409485, 0.10210587084293365, 0.10210588574409485, 0.10210588574409485, 0.10210587084293365, 0.10210588574409485, 0.10210587084293365, 0.10210587084293365, 0.10210588574409485, 0.10210587084293365, 0.10210588574409485, 0.10210588574409485, 0.10210587084293365, 0.10210587084293365, 0.10210588574409485, 0.10210588574409485, 0.10210588574409485, 0.10210588574409485, 0.10210588574409485, 0.10210587084293365, 0.10210588574409485, 0.10210588574409485, 0.10210587084293365, 0.10210588574409485, 0.10210587084293365, 0.10210588574409485, 0.10210588574409485, 0.10210588574409485, 0.10210588574409485, 0.10210588574409485, 0.10210587084293365, 0.10210588574409485, 0.10210588574409485, 0.10210587084293365, 0.10210588574409485, 0.10210588574409485, 0.10210588574409485, 0.10210588574409485, 0.10210588574409485, 0.10210588574409485, 0.10210588574409485, 0.10210588574409485, 0.10210587084293365, 0.10210588574409485, 0.10210587084293365, 0.10210588574409485, 0.10210588574409485, 0.10210588574409485, 0.10210588574409485, 0.10210588574409485, 0.10210587084293365, 0.10210588574409485, 0.10210588574409485, 0.10210588574409485, 0.10210588574409485, 0.10210587084293365, 0.10210588574409485, 0.10210588574409485, 0.10210587084293365, 0.10210588574409485, 0.10210588574409485, 0.10210588574409485, 0.10210588574409485, 0.10210588574409485, 0.10210588574409485, 0.10210587084293365, 0.10210588574409485, 0.10210588574409485, 0.10210588574409485, 0.10210588574409485, 0.10210588574409485, 0.10210588574409485, 0.10210588574409485, 0.10210587084293365, 0.10210588574409485, 0.10210588574409485, 0.10210587084293365, 0.10210587084293365, 0.10210587084293365, 0.10210587084293365, 0.10210588574409485, 0.10210588574409485, 0.10210587084293365, 0.10210588574409485, 0.10210587084293365, 0.10210588574409485, 0.10210588574409485, 0.10210587084293365, 0.10210588574409485, 0.10210588574409485, 0.10210587084293365, 0.10210588574409485, 0.10210588574409485, 0.10210587084293365, 0.10210588574409485, 0.10210588574409485, 0.10210588574409485, 0.10210587084293365, 0.10210588574409485, 0.10210588574409485, 0.10210588574409485, 0.10210588574409485, 0.10210587084293365, 0.10210588574409485, 0.10210588574409485, 0.10210588574409485, 0.10210587084293365, 0.10210588574409485, 0.10210588574409485, 0.10210588574409485, 0.10210588574409485, 0.10210587084293365, 0.10210588574409485, 0.10210587084293365, 0.10210588574409485, 0.10210587084293365, 0.10210587084293365, 0.10210587084293365, 0.10210588574409485, 0.10210587084293365, 0.10210588574409485, 0.10210588574409485, 0.10210588574409485, 0.10210588574409485, 0.10210588574409485, 0.10210588574409485, 0.10210588574409485, 0.10210588574409485, 0.10210588574409485, 0.10210587084293365, 0.10210588574409485, 0.10210588574409485, 0.10210588574409485, 0.10210587084293365, 0.10210588574409485, 0.10210587084293365, 0.10210588574409485, 0.10210587084293365, 0.10210587084293365, 0.10210588574409485, 0.10210588574409485, 0.10210587084293365, 0.10210587084293365, 0.10210588574409485, 0.10210588574409485, 0.10210588574409485, 0.10210587084293365, 0.10210588574409485, 0.10210587084293365, 0.10210587084293365, 0.10210588574409485, 0.10210588574409485, 0.10210588574409485, 0.10210588574409485, 0.10210587084293365, 0.10210588574409485, 0.10210588574409485, 0.10210588574409485, 0.10210588574409485, 0.10210588574409485, 0.10210588574409485, 0.10210588574409485, 0.10210587084293365, 0.10210588574409485, 0.10210587084293365, 0.10210588574409485, 0.10210588574409485, 0.10210588574409485, 0.10210588574409485, 0.10210588574409485, 0.10210588574409485, 0.10210587084293365, 0.10210588574409485, 0.10210588574409485, 0.10210588574409485, 0.10210588574409485, 0.10210588574409485, 0.10210588574409485, 0.10210588574409485, 0.10210588574409485, 0.10210588574409485, 0.10210588574409485, 0.10210588574409485, 0.10210588574409485, 0.10210587084293365, 0.10210587084293365, 0.10210588574409485, 0.10210588574409485, 0.10210588574409485, 0.10210588574409485, 0.10210588574409485, 0.10210588574409485, 0.10210587084293365, 0.10210587084293365, 0.10210588574409485, 0.10210588574409485, 0.10210588574409485, 0.10210588574409485, 0.10210588574409485, 0.10210588574409485, 0.10210588574409485, 0.10210588574409485, 0.10210588574409485, 0.10210588574409485, 0.10210587084293365, 0.10210588574409485, 0.10210588574409485, 0.10210587084293365, 0.10210588574409485, 0.10210587084293365, 0.10210588574409485, 0.10210588574409485, 0.10210587084293365, 0.10210588574409485, 0.10210587084293365, 0.10210588574409485, 0.10210588574409485, 0.10210587084293365, 0.10210588574409485, 0.10210587084293365, 0.10210588574409485, 0.10210588574409485, 0.10210588574409485, 0.10210588574409485, 0.10210588574409485, 0.10210588574409485, 0.10210588574409485, 0.10210587084293365, 0.10210588574409485, 0.10210588574409485, 0.10210588574409485, 0.10210588574409485, 0.10210588574409485, 0.10210588574409485, 0.10210588574409485, 0.10210588574409485, 0.10210588574409485, 0.10210588574409485, 0.10210588574409485, 0.10210588574409485, 0.10210587084293365, 0.10210587084293365, 0.10210588574409485, 0.10210588574409485, 0.10210588574409485, 0.10210588574409485, 0.10210587084293365, 0.10210588574409485, 0.10210587084293365, 0.10210588574409485, 0.10210588574409485, 0.10210587084293365, 0.10210587084293365, 0.10210587084293365, 0.10210587084293365, 0.10210588574409485, 0.10210588574409485, 0.10210588574409485, 0.10210588574409485, 0.10210587084293365, 0.10210587084293365, 0.10210588574409485, 0.10210587084293365, 0.10210588574409485, 0.10210588574409485, 0.10210588574409485, 0.10210587084293365, 0.10210587084293365, 0.10210588574409485, 0.10210588574409485, 0.10210587084293365, 0.10210588574409485, 0.10210588574409485, 0.10210588574409485, 0.10210588574409485, 0.10210588574409485, 0.10210588574409485, 0.10210588574409485, 0.10210588574409485, 0.10210588574409485, 0.10210588574409485, 0.10210588574409485, 0.10210588574409485, 0.10210587084293365, 0.10210588574409485, 0.10210587084293365, 0.10210588574409485, 0.10210587084293365, 0.10210588574409485, 0.10210588574409485, 0.10210587084293365, 0.10210587084293365, 0.10210587084293365, 0.10210588574409485, 0.10210588574409485, 0.10210588574409485, 0.10210588574409485, 0.10210588574409485, 0.10210587084293365, 0.10210588574409485, 0.10210587084293365, 0.10210587084293365, 0.10210587084293365, 0.10210588574409485, 0.10210588574409485, 0.10210588574409485, 0.10210587084293365, 0.10210588574409485, 0.10210588574409485, 0.10210588574409485, 0.10210588574409485, 0.10210588574409485, 0.10210587084293365, 0.10210588574409485, 0.10210588574409485, 0.10210587084293365, 0.10210588574409485, 0.10210587084293365, 0.10210588574409485, 0.10210588574409485, 0.10210588574409485, 0.10210588574409485, 0.10210588574409485, 0.10210587084293365, 0.10210588574409485, 0.10210588574409485, 0.10210588574409485, 0.10210588574409485, 0.10210588574409485, 0.10210588574409485, 0.10210588574409485, 0.10210588574409485, 0.10210588574409485, 0.10210587084293365, 0.10210587084293365, 0.10210587084293365, 0.10210587084293365, 0.10210588574409485, 0.10210588574409485, 0.10210588574409485, 0.10210588574409485, 0.10210588574409485, 0.10210588574409485, 0.10210588574409485, 0.10210588574409485, 0.10210588574409485, 0.10210588574409485, 0.10210588574409485, 0.10210588574409485, 0.10210588574409485, 0.10210588574409485, 0.10210588574409485, 0.10210588574409485, 0.10210588574409485, 0.10210588574409485, 0.10210588574409485, 0.10210588574409485, 0.10210588574409485, 0.10210588574409485, 0.10210587084293365, 0.10210588574409485, 0.10210588574409485, 0.10210588574409485, 0.10210588574409485, 0.10210587084293365, 0.10210588574409485, 0.10210588574409485, 0.10210588574409485, 0.10210588574409485, 0.10210587084293365, 0.10210588574409485, 0.10210588574409485, 0.10210588574409485, 0.10210588574409485, 0.10210588574409485, 0.10210588574409485, 0.10210588574409485, 0.10210588574409485, 0.10210587084293365, 0.10210588574409485, 0.10210587084293365, 0.10210588574409485, 0.10210588574409485, 0.10210588574409485, 0.10210587084293365, 0.10210588574409485, 0.10210588574409485, 0.10210588574409485, 0.10210587084293365, 0.10210588574409485, 0.10210588574409485, 0.10210588574409485, 0.10210587084293365, 0.10210588574409485, 0.10210588574409485, 0.10210588574409485, 0.10210588574409485, 0.10210588574409485, 0.10210588574409485, 0.10210587084293365, 0.10210587084293365, 0.10210588574409485, 0.10210588574409485, 0.10210587084293365, 0.10210588574409485, 0.10210588574409485, 0.10210588574409485, 0.10210587084293365, 0.10210588574409485, 0.10210587084293365, 0.10210588574409485, 0.10210588574409485, 0.10210587084293365, 0.10210588574409485, 0.10210588574409485, 0.10210588574409485, 0.10210588574409485, 0.10210588574409485, 0.10210588574409485, 0.10210587084293365, 0.10210588574409485, 0.10210588574409485, 0.10210588574409485, 0.10210588574409485, 0.10210588574409485, 0.10210587084293365, 0.10210588574409485, 0.10210588574409485, 0.10210588574409485, 0.10210588574409485, 0.10210588574409485, 0.10210588574409485, 0.10210588574409485, 0.10210588574409485, 0.10210588574409485, 0.10210588574409485, 0.10210587084293365, 0.10210588574409485, 0.10210588574409485, 0.10210588574409485, 0.10210587084293365, 0.10210588574409485, 0.10210588574409485, 0.10210588574409485, 0.10210588574409485, 0.10210588574409485, 0.10210588574409485, 0.10210588574409485, 0.10210587084293365, 0.10210588574409485, 0.10210587084293365, 0.10210588574409485, 0.10210588574409485, 0.10210588574409485, 0.10210588574409485, 0.10210588574409485, 0.10210588574409485, 0.10210588574409485, 0.10210588574409485, 0.10210588574409485, 0.10210588574409485, 0.10210588574409485, 0.10210588574409485, 0.10210588574409485, 0.10210588574409485, 0.10210588574409485, 0.10210588574409485, 0.10210588574409485, 0.10210588574409485, 0.10210587084293365, 0.10210588574409485, 0.10210588574409485, 0.10210588574409485, 0.10210588574409485, 0.10210588574409485, 0.10210587084293365, 0.10210587084293365, 0.10210587084293365, 0.10210588574409485, 0.10210588574409485, 0.10210588574409485, 0.10210588574409485, 0.10210588574409485, 0.10210588574409485, 0.10210588574409485, 0.10210587084293365, 0.10210588574409485, 0.10210588574409485, 0.10210588574409485, 0.10210588574409485, 0.10210587084293365, 0.10210587084293365, 0.10210588574409485, 0.10210588574409485, 0.10210588574409485, 0.10210588574409485, 0.10210587084293365, 0.10210588574409485, 0.10210588574409485, 0.10210588574409485, 0.10210588574409485, 0.10210588574409485, 0.10210588574409485, 0.10210587084293365, 0.10210588574409485, 0.10210588574409485, 0.10210587084293365, 0.10210588574409485, 0.10210588574409485, 0.10210587084293365, 0.10210588574409485, 0.10210588574409485, 0.10210588574409485, 0.10210588574409485, 0.10210588574409485, 0.10210588574409485, 0.10210588574409485, 0.10210588574409485, 0.10210588574409485, 0.10210588574409485, 0.10210588574409485, 0.10210588574409485, 0.10210587084293365, 0.10210588574409485, 0.10210587084293365, 0.10210587084293365, 0.10210588574409485, 0.10210588574409485, 0.10210588574409485, 0.10210588574409485, 0.10210588574409485, 0.10210587084293365, 0.10210587084293365, 0.10210587084293365, 0.10210588574409485, 0.10210588574409485, 0.10210588574409485, 0.10210588574409485, 0.10210588574409485, 0.10210588574409485, 0.10210588574409485, 0.10210588574409485, 0.10210588574409485, 0.10210587084293365, 0.10210588574409485, 0.10210587084293365, 0.10210588574409485, 0.10210588574409485, 0.10210588574409485, 0.10210587084293365, 0.10210588574409485, 0.10210588574409485, 0.10210588574409485, 0.10210588574409485, 0.10210588574409485, 0.10210588574409485, 0.10210588574409485, 0.10210588574409485, 0.10210588574409485, 0.10210587084293365, 0.10210588574409485, 0.10210588574409485, 0.10210587084293365, 0.10210588574409485, 0.10210588574409485, 0.10210588574409485, 0.10210587084293365, 0.10210588574409485, 0.10210588574409485, 0.10210588574409485, 0.10210588574409485, 0.10210587084293365, 0.10210588574409485, 0.10210588574409485, 0.10210587084293365, 0.10210587084293365, 0.10210588574409485, 0.10210588574409485, 0.10210588574409485, 0.10210588574409485, 0.10210587084293365, 0.10210588574409485, 0.10210588574409485, 0.10210588574409485, 0.10210588574409485, 0.10210588574409485, 0.10210588574409485, 0.10210588574409485, 0.10210588574409485, 0.10210588574409485, 0.10210588574409485, 0.10210587084293365, 0.10210587084293365, 0.10210587084293365, 0.10210588574409485, 0.10210587084293365, 0.10210588574409485, 0.10210588574409485, 0.10210588574409485, 0.10210588574409485, 0.10210587084293365, 0.10210588574409485, 0.10210587084293365, 0.10210588574409485, 0.10210588574409485, 0.10210587084293365, 0.10210588574409485, 0.10210588574409485, 0.10210587084293365, 0.10210588574409485, 0.10210588574409485, 0.10210588574409485, 0.10210588574409485, 0.10210588574409485, 0.10210588574409485, 0.10210588574409485, 0.10210588574409485, 0.10210588574409485, 0.10210588574409485, 0.10210588574409485, 0.10210588574409485, 0.10210587084293365, 0.10210588574409485, 0.10210588574409485, 0.10210587084293365, 0.10210588574409485, 0.10210588574409485, 0.10210588574409485, 0.10210587084293365, 0.10210588574409485, 0.10210588574409485, 0.10210587084293365, 0.10210588574409485, 0.10210587084293365, 0.10210588574409485, 0.10210588574409485, 0.10210588574409485, 0.10210588574409485, 0.10210587084293365, 0.10210588574409485, 0.10210587084293365, 0.10210588574409485, 0.10210587084293365, 0.10210588574409485, 0.10210588574409485, 0.10210588574409485, 0.10210588574409485, 0.10210588574409485, 0.10210588574409485, 0.10210588574409485, 0.10210588574409485, 0.10210587084293365, 0.10210587084293365, 0.10210588574409485, 0.10210587084293365, 0.10210588574409485, 0.10210588574409485, 0.10210587084293365, 0.10210587084293365, 0.10210588574409485, 0.10210588574409485, 0.10210588574409485, 0.10210588574409485, 0.10210588574409485, 0.10210588574409485, 0.10210588574409485, 0.10210588574409485, 0.10210588574409485, 0.10210588574409485, 0.10210587084293365, 0.10210588574409485, 0.10210588574409485, 0.10210588574409485, 0.10210587084293365, 0.10210588574409485, 0.10210588574409485, 0.10210588574409485, 0.10210587084293365, 0.10210587084293365, 0.10210588574409485, 0.10210587084293365, 0.10210588574409485, 0.10210587084293365, 0.10210588574409485, 0.10210588574409485, 0.10210588574409485, 0.10210588574409485, 0.10210587084293365, 0.10210587084293365, 0.10210587084293365, 0.10210588574409485, 0.10210588574409485, 0.10210588574409485, 0.10210588574409485, 0.10210588574409485, 0.10210588574409485, 0.10210588574409485, 0.10210587084293365, 0.10210588574409485, 0.10210587084293365, 0.10210587084293365, 0.10210588574409485, 0.10210588574409485, 0.10210587084293365, 0.10210588574409485, 0.10210588574409485, 0.10210588574409485, 0.10210587084293365, 0.10210588574409485, 0.10210588574409485, 0.10210588574409485, 0.10210588574409485, 0.10210587084293365, 0.10210587084293365, 0.10210587084293365, 0.10210588574409485, 0.10210588574409485, 0.10210588574409485, 0.10210587084293365, 0.10210588574409485, 0.10210588574409485, 0.10210588574409485, 0.10210588574409485, 0.10210587084293365, 0.10210587084293365, 0.10210587084293365, 0.10210588574409485, 0.10210588574409485, 0.10210587084293365, 0.10210588574409485, 0.10210587084293365, 0.10210588574409485, 0.10210588574409485, 0.10210588574409485, 0.10210588574409485, 0.10210588574409485, 0.10210588574409485, 0.10210588574409485, 0.10210588574409485, 0.10210588574409485, 0.10210588574409485, 0.10210588574409485, 0.10210588574409485, 0.10210588574409485, 0.10210587084293365, 0.10210587084293365, 0.10210588574409485, 0.10210588574409485, 0.10210587084293365, 0.10210588574409485, 0.10210588574409485, 0.10210588574409485, 0.10210588574409485, 0.10210588574409485, 0.10210588574409485, 0.10210587084293365, 0.10210588574409485, 0.10210588574409485, 0.10210587084293365, 0.10210588574409485, 0.10210588574409485, 0.10210588574409485, 0.10210588574409485, 0.10210588574409485, 0.10210587084293365, 0.10210588574409485, 0.10210587084293365, 0.10210588574409485, 0.10210588574409485, 0.10210588574409485, 0.10210587084293365, 0.10210588574409485, 0.10210588574409485, 0.10210588574409485, 0.10210588574409485, 0.10210588574409485, 0.10210588574409485, 0.10210588574409485, 0.10210587084293365, 0.10210588574409485, 0.10210587084293365, 0.10210588574409485, 0.10210587084293365, 0.10210588574409485, 0.10210588574409485, 0.10210587084293365, 0.10210588574409485, 0.10210587084293365, 0.10210587084293365, 0.10210588574409485, 0.10210588574409485, 0.10210588574409485, 0.10210587084293365, 0.10210587084293365, 0.10210588574409485, 0.10210588574409485, 0.10210588574409485, 0.10210587084293365, 0.10210588574409485, 0.10210587084293365, 0.10210588574409485, 0.10210588574409485, 0.10210588574409485, 0.10210588574409485, 0.10210588574409485, 0.10210588574409485, 0.10210588574409485, 0.10210587084293365, 0.10210588574409485, 0.10210588574409485, 0.10210587084293365, 0.10210588574409485, 0.10210587084293365, 0.10210588574409485, 0.10210588574409485, 0.10210588574409485, 0.10210588574409485, 0.10210588574409485, 0.10210588574409485, 0.10210588574409485, 0.10210588574409485, 0.10210588574409485, 0.10210588574409485, 0.10210588574409485, 0.10210588574409485, 0.10210587084293365, 0.10210587084293365, 0.10210588574409485, 0.10210588574409485, 0.10210588574409485, 0.10210587084293365, 0.10210588574409485, 0.10210587084293365, 0.10210587084293365, 0.10210588574409485, 0.10210588574409485, 0.10210588574409485, 0.10210588574409485, 0.10210588574409485, 0.10210587084293365, 0.10210588574409485, 0.10210588574409485, 0.10210588574409485, 0.10210588574409485, 0.10210588574409485, 0.10210588574409485, 0.10210588574409485, 0.10210588574409485, 0.10210588574409485, 0.10210588574409485, 0.10210588574409485, 0.10210588574409485, 0.10210588574409485, 0.10210588574409485, 0.10210587084293365, 0.10210588574409485, 0.10210588574409485, 0.10210588574409485, 0.10210587084293365, 0.10210588574409485, 0.10210588574409485, 0.10210587084293365, 0.10210587084293365, 0.10210587084293365, 0.10210587084293365, 0.10210588574409485, 0.10210588574409485, 0.10210588574409485, 0.10210588574409485, 0.10210588574409485, 0.10210588574409485, 0.10210587084293365, 0.10210588574409485, 0.10210587084293365, 0.10210588574409485, 0.10210588574409485, 0.10210588574409485, 0.10210588574409485, 0.10210587084293365, 0.10210588574409485, 0.10210588574409485, 0.10210588574409485, 0.10210588574409485, 0.10210588574409485, 0.10210588574409485, 0.10210587084293365, 0.10210588574409485, 0.10210588574409485, 0.10210588574409485, 0.10210588574409485, 0.10210588574409485, 0.10210588574409485, 0.10210588574409485, 0.10210588574409485, 0.10210588574409485, 0.10210588574409485, 0.10210587084293365, 0.10210587084293365, 0.10210588574409485, 0.10210587084293365, 0.10210588574409485, 0.10210588574409485, 0.10210588574409485, 0.10210588574409485, 0.10210588574409485, 0.10210588574409485, 0.10210587084293365, 0.10210588574409485, 0.10210588574409485, 0.10210588574409485, 0.10210588574409485, 0.10210588574409485, 0.10210588574409485, 0.10210588574409485, 0.10210588574409485, 0.10210588574409485, 0.10210588574409485, 0.10210588574409485, 0.10210588574409485, 0.10210588574409485, 0.10210588574409485, 0.10210588574409485, 0.10210587084293365, 0.10210588574409485, 0.10210588574409485, 0.10210588574409485, 0.10210587084293365, 0.10210587084293365, 0.10210588574409485, 0.10210588574409485, 0.10210588574409485, 0.10210588574409485, 0.10210588574409485, 0.10210588574409485, 0.10210588574409485, 0.10210587084293365, 0.10210588574409485, 0.10210587084293365, 0.10210587084293365, 0.10210587084293365, 0.10210588574409485, 0.10210587084293365, 0.10210587084293365, 0.10210587084293365, 0.10210588574409485, 0.10210588574409485, 0.10210588574409485, 0.10210588574409485, 0.10210588574409485, 0.10210588574409485, 0.10210588574409485, 0.10210588574409485, 0.10210588574409485, 0.10210587084293365, 0.10210588574409485, 0.10210587084293365, 0.10210588574409485, 0.10210588574409485, 0.10210588574409485, 0.10210588574409485, 0.10210588574409485, 0.10210588574409485, 0.10210588574409485, 0.10210588574409485, 0.10210587084293365, 0.10210588574409485, 0.10210588574409485, 0.10210587084293365, 0.10210588574409485, 0.10210587084293365, 0.10210588574409485, 0.10210588574409485, 0.10210588574409485, 0.10210587084293365, 0.10210587084293365, 0.10210588574409485, 0.10210588574409485, 0.10210588574409485, 0.10210587084293365, 0.10210588574409485, 0.10210588574409485, 0.10210588574409485, 0.10210587084293365, 0.10210588574409485, 0.10210588574409485, 0.10210587084293365, 0.10210587084293365, 0.10210587084293365, 0.10210588574409485, 0.10210587084293365, 0.10210588574409485, 0.10210588574409485, 0.10210587084293365, 0.10210588574409485, 0.10210588574409485, 0.10210588574409485, 0.10210588574409485, 0.10210588574409485, 0.10210588574409485, 0.10210588574409485, 0.10210587084293365, 0.10210588574409485, 0.10210587084293365, 0.10210588574409485, 0.10210588574409485, 0.10210588574409485, 0.10210588574409485, 0.10210587084293365, 0.10210588574409485, 0.10210587084293365, 0.10210588574409485, 0.10210588574409485, 0.10210588574409485, 0.10210588574409485, 0.10210588574409485, 0.10210587084293365, 0.10210588574409485, 0.10210588574409485, 0.10210588574409485, 0.10210588574409485, 0.10210588574409485, 0.10210588574409485, 0.10210587084293365, 0.10210587084293365, 0.10210588574409485, 0.10210587084293365, 0.10210587084293365, 0.10210588574409485, 0.10210588574409485, 0.10210588574409485, 0.10210588574409485, 0.10210588574409485, 0.10210588574409485, 0.10210588574409485, 0.10210588574409485, 0.10210587084293365, 0.10210588574409485, 0.10210588574409485, 0.10210588574409485, 0.10210588574409485, 0.10210588574409485, 0.10210588574409485, 0.10210588574409485, 0.10210587084293365, 0.10210588574409485, 0.10210588574409485, 0.10210588574409485, 0.10210588574409485, 0.10210588574409485, 0.10210588574409485, 0.10210588574409485, 0.10210587084293365, 0.10210588574409485, 0.10210587084293365, 0.10210587084293365, 0.10210588574409485, 0.10210588574409485, 0.10210588574409485, 0.10210587084293365, 0.10210588574409485, 0.10210588574409485, 0.10210588574409485, 0.10210588574409485, 0.10210588574409485, 0.10210588574409485, 0.10210588574409485, 0.10210587084293365, 0.10210588574409485, 0.10210588574409485, 0.10210588574409485, 0.10210588574409485, 0.10210588574409485, 0.10210588574409485, 0.10210587084293365, 0.10210588574409485, 0.10210588574409485, 0.10210588574409485, 0.10210588574409485, 0.10210588574409485, 0.10210588574409485, 0.10210587084293365, 0.10210587084293365, 0.10210587084293365, 0.10210588574409485, 0.10210588574409485, 0.10210588574409485, 0.10210588574409485, 0.10210588574409485, 0.10210588574409485, 0.10210588574409485, 0.10210588574409485, 0.10210588574409485, 0.10210588574409485, 0.10210588574409485, 0.10210587084293365, 0.10210588574409485, 0.10210588574409485, 0.10210588574409485, 0.10210588574409485, 0.10210587084293365, 0.10210588574409485, 0.10210588574409485, 0.10210587084293365, 0.10210587084293365, 0.10210588574409485, 0.10210588574409485, 0.10210588574409485, 0.10210588574409485, 0.10210588574409485, 0.10210588574409485, 0.10210588574409485, 0.10210588574409485, 0.10210588574409485, 0.10210588574409485, 0.10210588574409485, 0.10210588574409485, 0.10210588574409485, 0.10210588574409485, 0.10210587084293365, 0.10210588574409485, 0.10210588574409485, 0.10210588574409485, 0.10210587084293365, 0.10210588574409485, 0.10210587084293365, 0.10210588574409485, 0.10210587084293365, 0.10210587084293365, 0.10210588574409485, 0.10210588574409485, 0.10210587084293365, 0.10210588574409485, 0.10210588574409485, 0.10210588574409485, 0.10210587084293365, 0.10210587084293365, 0.10210588574409485, 0.10210588574409485, 0.10210588574409485, 0.10210587084293365, 0.10210588574409485, 0.10210588574409485, 0.10210588574409485, 0.10210588574409485, 0.10210587084293365, 0.10210588574409485, 0.10210588574409485, 0.10210588574409485, 0.10210588574409485, 0.10210588574409485, 0.10210588574409485, 0.10210588574409485, 0.10210588574409485, 0.10210588574409485, 0.10210588574409485, 0.10210588574409485, 0.10210588574409485, 0.10210588574409485, 0.10210588574409485, 0.10210588574409485, 0.10210588574409485, 0.10210588574409485, 0.10210588574409485, 0.10210588574409485, 0.10210588574409485, 0.10210588574409485, 0.10210587084293365, 0.10210588574409485, 0.10210588574409485, 0.10210587084293365, 0.10210588574409485, 0.10210588574409485, 0.10210588574409485, 0.10210588574409485, 0.10210588574409485, 0.10210587084293365, 0.10210588574409485, 0.10210588574409485, 0.10210588574409485, 0.10210587084293365, 0.10210588574409485, 0.10210588574409485, 0.10210588574409485, 0.10210587084293365, 0.10210588574409485, 0.10210588574409485, 0.10210588574409485, 0.10210588574409485, 0.10210588574409485, 0.10210587084293365, 0.10210588574409485, 0.10210587084293365, 0.10210588574409485, 0.10210588574409485, 0.10210587084293365, 0.10210588574409485, 0.10210588574409485, 0.10210587084293365, 0.10210588574409485, 0.10210588574409485, 0.10210588574409485, 0.10210588574409485, 0.10210587084293365, 0.10210588574409485, 0.10210588574409485, 0.10210587084293365, 0.10210587084293365, 0.10210588574409485, 0.10210588574409485, 0.10210588574409485, 0.10210587084293365, 0.10210588574409485, 0.10210588574409485, 0.10210588574409485, 0.10210587084293365, 0.10210587084293365, 0.10210588574409485, 0.10210587084293365, 0.10210588574409485, 0.10210588574409485, 0.10210588574409485, 0.10210588574409485, 0.10210588574409485, 0.10210588574409485, 0.10210588574409485, 0.10210587084293365, 0.10210588574409485, 0.10210588574409485, 0.10210587084293365, 0.10210588574409485, 0.10210588574409485, 0.10210587084293365, 0.10210588574409485, 0.10210588574409485, 0.10210588574409485, 0.10210587084293365, 0.10210587084293365, 0.10210588574409485, 0.10210588574409485, 0.10210588574409485, 0.10210588574409485, 0.10210588574409485, 0.10210588574409485, 0.10210587084293365, 0.10210588574409485, 0.10210587084293365, 0.10210588574409485, 0.10210588574409485, 0.10210587084293365, 0.10210587084293365, 0.10210588574409485, 0.10210587084293365, 0.10210588574409485, 0.10210588574409485, 0.10210588574409485, 0.10210588574409485, 0.10210588574409485, 0.10210588574409485, 0.10210587084293365, 0.10210588574409485, 0.10210588574409485, 0.10210587084293365, 0.10210588574409485, 0.10210588574409485, 0.10210588574409485, 0.10210588574409485, 0.10210588574409485, 0.10210588574409485, 0.10210588574409485, 0.10210588574409485, 0.10210588574409485, 0.10210588574409485, 0.10210588574409485, 0.10210588574409485, 0.10210588574409485, 0.10210588574409485, 0.10210588574409485, 0.10210588574409485, 0.10210588574409485, 0.10210588574409485, 0.10210588574409485, 0.10210588574409485, 0.10210588574409485, 0.10210588574409485, 0.10210588574409485, 0.10210587084293365, 0.10210588574409485, 0.10210588574409485, 0.10210588574409485, 0.10210587084293365, 0.10210588574409485, 0.10210588574409485, 0.10210587084293365, 0.10210588574409485, 0.10210588574409485, 0.10210588574409485, 0.10210588574409485, 0.10210588574409485, 0.10210588574409485, 0.10210588574409485, 0.10210588574409485, 0.10210588574409485, 0.10210588574409485, 0.10210588574409485, 0.10210588574409485, 0.10210587084293365, 0.10210588574409485, 0.10210588574409485, 0.10210588574409485, 0.10210588574409485, 0.10210588574409485, 0.10210587084293365, 0.10210588574409485, 0.10210588574409485, 0.10210587084293365, 0.10210588574409485, 0.10210588574409485, 0.10210588574409485, 0.10210588574409485, 0.10210588574409485, 0.10210587084293365, 0.10210588574409485, 0.10210588574409485, 0.10210588574409485, 0.10210588574409485, 0.10210588574409485, 0.10210588574409485, 0.10210588574409485, 0.10210588574409485, 0.10210588574409485, 0.10210588574409485, 0.10210587084293365, 0.10210588574409485, 0.10210588574409485, 0.10210588574409485, 0.10210588574409485, 0.10210587084293365, 0.10210588574409485, 0.10210588574409485, 0.10210588574409485, 0.10210588574409485, 0.10210588574409485, 0.10210588574409485, 0.10210587084293365, 0.10210588574409485, 0.10210588574409485, 0.10210588574409485, 0.10210588574409485, 0.10210588574409485, 0.10210588574409485, 0.10210588574409485, 0.10210588574409485, 0.10210588574409485, 0.10210588574409485, 0.10210588574409485, 0.10210588574409485, 0.10210588574409485, 0.10210588574409485, 0.10210588574409485, 0.10210588574409485, 0.10210588574409485, 0.10210588574409485, 0.10210587084293365, 0.10210588574409485, 0.10210588574409485, 0.10210588574409485, 0.10210588574409485, 0.10210588574409485, 0.10210588574409485, 0.10210587084293365, 0.10210588574409485, 0.10210587084293365, 0.10210588574409485, 0.10210587084293365, 0.10210587084293365, 0.10210588574409485, 0.10210588574409485, 0.10210588574409485, 0.10210588574409485, 0.10210588574409485, 0.10210588574409485, 0.10210587084293365, 0.10210587084293365, 0.10210588574409485, 0.10210587084293365, 0.10210587084293365, 0.10210587084293365, 0.10210588574409485, 0.10210588574409485, 0.10210588574409485, 0.10210588574409485, 0.10210587084293365, 0.10210588574409485, 0.10210587084293365, 0.10210588574409485, 0.10210588574409485, 0.10210587084293365, 0.10210588574409485, 0.10210588574409485, 0.10210587084293365, 0.10210588574409485, 0.10210588574409485, 0.10210588574409485, 0.10210588574409485, 0.10210587084293365, 0.10210588574409485, 0.10210588574409485, 0.10210587084293365, 0.10210588574409485, 0.10210588574409485, 0.10210588574409485, 0.10210588574409485, 0.10210588574409485, 0.10210588574409485, 0.10210588574409485, 0.10210588574409485, 0.10210588574409485, 0.10210588574409485, 0.10210588574409485, 0.10210588574409485, 0.10210588574409485, 0.10210587084293365, 0.10210588574409485, 0.10210588574409485, 0.10210587084293365, 0.10210587084293365, 0.10210588574409485, 0.10210588574409485, 0.10210588574409485, 0.10210588574409485, 0.10210588574409485, 0.10210587084293365, 0.10210588574409485, 0.10210588574409485, 0.10210588574409485, 0.10210588574409485, 0.10210588574409485, 0.10210587084293365, 0.10210588574409485, 0.10210587084293365, 0.10210588574409485, 0.10210587084293365, 0.10210588574409485, 0.10210588574409485, 0.10210587084293365, 0.10210588574409485, 0.10210588574409485, 0.10210587084293365, 0.10210587084293365, 0.10210588574409485, 0.10210587084293365, 0.10210587084293365, 0.10210588574409485, 0.10210588574409485, 0.10210588574409485, 0.10210587084293365, 0.10210588574409485, 0.10210588574409485, 0.10210588574409485, 0.10210587084293365, 0.10210587084293365, 0.10210588574409485, 0.10210588574409485, 0.10210588574409485, 0.10210588574409485, 0.10210588574409485, 0.10210587084293365, 0.10210588574409485, 0.10210588574409485, 0.10210588574409485, 0.10210588574409485, 0.10210584104061127, 0.10210587084293365, 0.10210587084293365, 0.10210588574409485, 0.10210588574409485, 0.10210588574409485, 0.10210588574409485, 0.10210588574409485, 0.10210588574409485, 0.10210587084293365, 0.10210588574409485, 0.10210587084293365, 0.10210588574409485, 0.10210588574409485, 0.10210588574409485, 0.10210588574409485, 0.10210587084293365, 0.10210588574409485, 0.10210588574409485, 0.10210587084293365, 0.10210588574409485, 0.10210587084293365, 0.10210587084293365, 0.10210587084293365, 0.10210588574409485, 0.10210588574409485, 0.10210588574409485, 0.10210588574409485, 0.10210588574409485, 0.10210588574409485, 0.10210588574409485, 0.10210588574409485, 0.10210588574409485, 0.10210588574409485, 0.10210588574409485, 0.10210588574409485, 0.10210588574409485, 0.10210587084293365, 0.10210588574409485, 0.10210588574409485, 0.10210588574409485, 0.10210588574409485, 0.10210588574409485, 0.10210588574409485, 0.10210587084293365, 0.10210588574409485, 0.10210588574409485, 0.10210588574409485, 0.10210588574409485, 0.10210588574409485, 0.10210588574409485, 0.10210587084293365, 0.10210588574409485, 0.10210588574409485, 0.10210588574409485, 0.10210588574409485, 0.10210588574409485, 0.10210588574409485, 0.10210588574409485, 0.10210588574409485, 0.10210588574409485, 0.10210588574409485, 0.10210587084293365, 0.10210588574409485, 0.10210588574409485, 0.10210588574409485, 0.10210588574409485, 0.10210588574409485, 0.10210588574409485, 0.10210588574409485, 0.10210588574409485, 0.10210588574409485, 0.10210588574409485, 0.10210588574409485, 0.10210588574409485, 0.10210588574409485, 0.10210588574409485, 0.10210588574409485, 0.10210587084293365, 0.10210587084293365, 0.10210588574409485, 0.10210587084293365, 0.10210588574409485, 0.10210588574409485, 0.10210588574409485, 0.10210588574409485, 0.10210588574409485, 0.10210588574409485, 0.10210588574409485, 0.10210588574409485, 0.10210588574409485, 0.10210588574409485, 0.10210587084293365, 0.10210588574409485, 0.10210588574409485, 0.10210588574409485, 0.10210588574409485, 0.10210588574409485, 0.10210588574409485, 0.10210587084293365, 0.10210587084293365, 0.10210588574409485, 0.10210588574409485, 0.10210588574409485, 0.10210588574409485, 0.10210588574409485, 0.10210588574409485, 0.10210588574409485, 0.10210588574409485, 0.10210587084293365, 0.10210588574409485, 0.10210588574409485, 0.10210588574409485, 0.10210588574409485, 0.10210587084293365, 0.10210588574409485, 0.10210588574409485, 0.10210588574409485, 0.10210588574409485, 0.10210587084293365, 0.10210588574409485, 0.10210587084293365, 0.10210588574409485, 0.10210587084293365, 0.10210588574409485, 0.10210588574409485, 0.10210587084293365, 0.10210588574409485, 0.10210587084293365, 0.10210588574409485, 0.10210588574409485, 0.10210588574409485, 0.10210587084293365, 0.10210588574409485, 0.10210588574409485, 0.10210588574409485, 0.10210588574409485, 0.10210588574409485, 0.10210588574409485, 0.10210588574409485, 0.10210588574409485, 0.10210588574409485, 0.10210588574409485, 0.10210588574409485, 0.10210588574409485, 0.10210588574409485, 0.10210588574409485, 0.10210588574409485, 0.10210588574409485, 0.10210588574409485, 0.10210587084293365, 0.10210588574409485, 0.10210588574409485, 0.10210588574409485, 0.10210588574409485, 0.10210588574409485, 0.10210588574409485, 0.10210588574409485, 0.10210588574409485, 0.10210588574409485, 0.10210588574409485, 0.10210588574409485, 0.10210587084293365, 0.10210588574409485, 0.10210588574409485, 0.10210588574409485, 0.10210588574409485, 0.10210588574409485, 0.10210588574409485, 0.10210588574409485, 0.10210588574409485, 0.10210588574409485, 0.10210588574409485, 0.10210587084293365, 0.10210588574409485, 0.10210587084293365, 0.10210588574409485, 0.10210588574409485, 0.10210587084293365, 0.10210588574409485, 0.10210588574409485, 0.10210588574409485, 0.10210588574409485, 0.10210587084293365, 0.10210587084293365, 0.10210587084293365, 0.10210587084293365, 0.10210588574409485, 0.10210588574409485, 0.10210588574409485, 0.10210588574409485, 0.10210587084293365, 0.10210587084293365, 0.10210588574409485, 0.10210588574409485, 0.10210587084293365, 0.10210588574409485, 0.10210588574409485, 0.10210588574409485, 0.10210588574409485, 0.10210588574409485, 0.10210587084293365, 0.10210587084293365, 0.10210587084293365, 0.10210588574409485, 0.10210587084293365, 0.10210588574409485, 0.10210588574409485, 0.10210587084293365, 0.10210588574409485, 0.10210588574409485, 0.10210587084293365, 0.10210587084293365, 0.10210588574409485, 0.10210587084293365, 0.10210588574409485, 0.10210588574409485, 0.10210588574409485, 0.10210588574409485, 0.10210588574409485, 0.10210587084293365, 0.10210587084293365, 0.10210588574409485, 0.10210588574409485, 0.10210587084293365, 0.10210588574409485, 0.10210587084293365, 0.10210588574409485, 0.10210588574409485, 0.10210587084293365, 0.10210588574409485, 0.10210587084293365, 0.10210588574409485, 0.10210588574409485, 0.10210588574409485, 0.10210588574409485, 0.10210588574409485, 0.10210588574409485, 0.10210588574409485, 0.10210588574409485, 0.10210588574409485, 0.10210587084293365, 0.10210587084293365, 0.10210587084293365, 0.10210588574409485, 0.10210588574409485, 0.10210587084293365, 0.10210588574409485, 0.10210587084293365, 0.10210588574409485, 0.10210587084293365, 0.10210587084293365, 0.10210588574409485, 0.10210588574409485, 0.10210587084293365, 0.10210588574409485, 0.10210588574409485, 0.10210588574409485, 0.10210588574409485, 0.10210587084293365, 0.10210588574409485, 0.10210588574409485, 0.10210588574409485, 0.10210588574409485, 0.10210588574409485, 0.10210588574409485, 0.10210587084293365, 0.10210588574409485, 0.10210588574409485, 0.10210588574409485, 0.10210588574409485, 0.10210588574409485, 0.10210588574409485, 0.10210588574409485, 0.10210588574409485, 0.10210588574409485, 0.10210587084293365, 0.10210588574409485, 0.10210588574409485, 0.10210588574409485, 0.10210588574409485, 0.10210588574409485, 0.10210588574409485, 0.10210587084293365, 0.10210588574409485, 0.10210588574409485, 0.10210588574409485, 0.10210588574409485, 0.10210588574409485, 0.10210588574409485, 0.10210587084293365, 0.10210588574409485, 0.10210588574409485, 0.10210587084293365, 0.10210588574409485, 0.10210588574409485, 0.10210588574409485, 0.10210588574409485, 0.10210588574409485, 0.10210588574409485, 0.10210588574409485, 0.10210588574409485, 0.10210587084293365, 0.10210588574409485, 0.10210588574409485, 0.10210588574409485, 0.10210587084293365, 0.10210588574409485, 0.10210587084293365, 0.10210588574409485, 0.10210588574409485, 0.10210588574409485, 0.10210588574409485, 0.10210588574409485, 0.10210588574409485, 0.10210588574409485, 0.10210588574409485, 0.10210588574409485, 0.10210588574409485, 0.10210587084293365, 0.10210588574409485, 0.10210588574409485, 0.10210588574409485, 0.10210588574409485, 0.10210587084293365, 0.10210588574409485, 0.10210588574409485, 0.10210588574409485, 0.10210588574409485, 0.10210587084293365, 0.10210587084293365, 0.10210588574409485, 0.10210588574409485, 0.10210588574409485, 0.10210588574409485, 0.10210587084293365, 0.10210588574409485, 0.10210588574409485, 0.10210587084293365, 0.10210588574409485, 0.10210588574409485, 0.10210588574409485, 0.10210588574409485, 0.10210588574409485, 0.10210588574409485, 0.10210587084293365, 0.10210587084293365, 0.10210588574409485, 0.10210587084293365, 0.10210588574409485, 0.10210588574409485, 0.10210588574409485, 0.10210588574409485, 0.10210588574409485, 0.10210587084293365, 0.10210588574409485, 0.10210588574409485, 0.10210587084293365, 0.10210588574409485, 0.10210588574409485, 0.10210588574409485, 0.10210588574409485, 0.10210588574409485, 0.10210588574409485, 0.10210588574409485, 0.10210588574409485, 0.10210588574409485, 0.10210588574409485, 0.10210588574409485, 0.10210587084293365, 0.10210588574409485, 0.10210588574409485, 0.10210588574409485, 0.10210588574409485, 0.10210588574409485, 0.10210588574409485, 0.10210588574409485, 0.10210588574409485, 0.10210588574409485, 0.10210587084293365, 0.10210587084293365, 0.10210587084293365, 0.10210587084293365, 0.10210588574409485, 0.10210588574409485, 0.10210588574409485, 0.10210588574409485, 0.10210587084293365, 0.10210588574409485, 0.10210588574409485, 0.10210588574409485, 0.10210588574409485, 0.10210588574409485, 0.10210588574409485, 0.10210588574409485, 0.10210588574409485, 0.10210587084293365, 0.10210587084293365, 0.10210587084293365, 0.10210588574409485, 0.10210588574409485, 0.10210587084293365, 0.10210588574409485, 0.10210588574409485, 0.10210587084293365, 0.10210588574409485, 0.10210588574409485, 0.10210588574409485, 0.10210588574409485, 0.10210588574409485, 0.10210588574409485, 0.10210588574409485, 0.10210588574409485, 0.10210588574409485, 0.10210587084293365, 0.10210588574409485, 0.10210588574409485, 0.10210588574409485, 0.10210588574409485, 0.10210588574409485, 0.10210588574409485, 0.10210588574409485, 0.10210588574409485, 0.10210588574409485, 0.10210587084293365, 0.10210587084293365, 0.10210588574409485, 0.10210587084293365, 0.10210588574409485, 0.10210588574409485, 0.10210588574409485, 0.10210588574409485, 0.10210588574409485, 0.10210588574409485, 0.10210587084293365, 0.10210587084293365, 0.10210588574409485, 0.10210588574409485, 0.10210588574409485, 0.10210588574409485, 0.10210588574409485, 0.10210588574409485, 0.10210588574409485, 0.10210588574409485, 0.10210588574409485, 0.10210587084293365, 0.10210588574409485, 0.10210587084293365, 0.10210588574409485, 0.10210588574409485, 0.10210588574409485, 0.10210588574409485, 0.10210588574409485, 0.10210588574409485, 0.10210588574409485, 0.10210588574409485, 0.10210587084293365, 0.10210588574409485, 0.10210588574409485, 0.10210587084293365, 0.10210587084293365, 0.10210588574409485, 0.10210588574409485, 0.10210588574409485, 0.10210588574409485, 0.10210588574409485, 0.10210588574409485, 0.10210588574409485, 0.10210588574409485, 0.10210588574409485, 0.10210588574409485, 0.10210588574409485, 0.10210588574409485, 0.10210587084293365, 0.10210587084293365, 0.10210588574409485, 0.10210588574409485, 0.10210587084293365, 0.10210588574409485, 0.10210588574409485, 0.10210587084293365, 0.10210588574409485, 0.10210588574409485, 0.10210588574409485, 0.10210588574409485, 0.10210587084293365, 0.10210588574409485, 0.10210587084293365, 0.10210588574409485, 0.10210587084293365, 0.10210588574409485, 0.10210588574409485, 0.10210587084293365, 0.10210588574409485, 0.10210588574409485, 0.10210587084293365, 0.10210588574409485, 0.10210587084293365, 0.10210588574409485, 0.10210588574409485, 0.10210588574409485, 0.10210588574409485, 0.10210588574409485, 0.10210588574409485, 0.10210588574409485, 0.10210587084293365, 0.10210588574409485, 0.10210588574409485, 0.10210588574409485, 0.10210588574409485, 0.10210588574409485, 0.10210588574409485, 0.10210588574409485, 0.10210588574409485, 0.10210588574409485, 0.10210588574409485, 0.10210588574409485, 0.10210588574409485, 0.10210587084293365, 0.10210588574409485, 0.10210588574409485, 0.10210588574409485, 0.10210588574409485, 0.10210588574409485, 0.10210588574409485, 0.10210588574409485, 0.10210588574409485, 0.10210588574409485, 0.10210588574409485, 0.10210588574409485, 0.10210588574409485, 0.10210588574409485, 0.10210588574409485, 0.10210588574409485, 0.10210588574409485, 0.10210588574409485, 0.10210588574409485, 0.10210588574409485, 0.10210588574409485, 0.10210588574409485, 0.10210588574409485, 0.10210588574409485, 0.10210588574409485, 0.10210588574409485, 0.10210587084293365, 0.10210587084293365, 0.10210588574409485, 0.10210588574409485, 0.10210588574409485, 0.10210588574409485, 0.10210588574409485, 0.10210587084293365, 0.10210588574409485, 0.10210587084293365, 0.10210587084293365, 0.10210588574409485, 0.10210588574409485, 0.10210588574409485, 0.10210588574409485, 0.10210588574409485, 0.10210588574409485, 0.10210588574409485, 0.10210588574409485, 0.10210587084293365, 0.10210587084293365, 0.10210587084293365, 0.10210588574409485, 0.10210588574409485, 0.10210588574409485, 0.10210588574409485, 0.10210587084293365, 0.10210587084293365, 0.10210588574409485, 0.10210588574409485, 0.10210588574409485, 0.10210587084293365, 0.10210587084293365, 0.10210588574409485, 0.10210588574409485, 0.10210588574409485, 0.10210588574409485, 0.10210588574409485, 0.10210588574409485, 0.10210587084293365, 0.10210588574409485, 0.10210588574409485, 0.10210587084293365, 0.10210588574409485, 0.10210588574409485, 0.10210587084293365, 0.10210588574409485, 0.10210588574409485, 0.10210587084293365, 0.10210588574409485, 0.10210588574409485, 0.10210588574409485, 0.10210588574409485, 0.10210588574409485, 0.10210588574409485, 0.10210588574409485, 0.10210587084293365, 0.10210588574409485, 0.10210588574409485, 0.10210587084293365, 0.10210588574409485, 0.10210588574409485, 0.10210587084293365, 0.10210588574409485, 0.10210587084293365, 0.10210587084293365, 0.10210588574409485, 0.10210588574409485, 0.10210588574409485, 0.10210587084293365, 0.10210587084293365, 0.10210587084293365, 0.10210588574409485, 0.10210588574409485, 0.10210588574409485, 0.10210588574409485, 0.10210588574409485, 0.10210588574409485, 0.10210587084293365, 0.10210588574409485, 0.10210588574409485, 0.10210587084293365, 0.10210588574409485, 0.10210587084293365, 0.10210588574409485, 0.10210588574409485, 0.10210588574409485, 0.10210588574409485, 0.10210588574409485, 0.10210588574409485, 0.10210588574409485, 0.10210588574409485, 0.10210588574409485, 0.10210588574409485, 0.10210588574409485, 0.10210587084293365, 0.10210588574409485, 0.10210587084293365, 0.10210588574409485, 0.10210587084293365, 0.10210588574409485, 0.10210588574409485, 0.10210588574409485, 0.10210588574409485, 0.10210587084293365, 0.10210587084293365, 0.10210587084293365, 0.10210588574409485, 0.10210588574409485, 0.10210587084293365, 0.10210588574409485, 0.10210588574409485, 0.10210587084293365, 0.10210588574409485, 0.10210587084293365, 0.10210588574409485, 0.10210588574409485, 0.10210587084293365, 0.10210588574409485, 0.10210587084293365, 0.10210588574409485, 0.10210588574409485, 0.10210588574409485, 0.10210588574409485, 0.10210588574409485, 0.10210587084293365, 0.10210587084293365, 0.10210587084293365, 0.10210588574409485, 0.10210588574409485, 0.10210588574409485, 0.10210588574409485, 0.10210588574409485, 0.10210588574409485, 0.10210588574409485, 0.10210588574409485, 0.10210588574409485, 0.10210587084293365, 0.10210588574409485, 0.10210588574409485, 0.10210588574409485, 0.10210587084293365, 0.10210588574409485, 0.10210588574409485, 0.10210588574409485, 0.10210588574409485, 0.10210587084293365, 0.10210587084293365, 0.10210588574409485, 0.10210588574409485, 0.10210588574409485, 0.10210588574409485, 0.10210588574409485, 0.10210588574409485, 0.10210588574409485, 0.10210588574409485, 0.10210588574409485, 0.10210588574409485, 0.10210588574409485, 0.10210588574409485, 0.10210587084293365, 0.10210588574409485, 0.10210588574409485, 0.10210588574409485, 0.10210588574409485, 0.10210588574409485, 0.10210588574409485, 0.10210588574409485, 0.10210588574409485, 0.10210588574409485, 0.10210588574409485, 0.10210588574409485, 0.10210587084293365, 0.10210588574409485, 0.10210588574409485, 0.10210588574409485, 0.10210588574409485, 0.10210588574409485, 0.10210588574409485, 0.10210588574409485, 0.10210587084293365, 0.10210588574409485, 0.10210587084293365, 0.10210588574409485, 0.10210588574409485, 0.10210588574409485, 0.10210588574409485, 0.10210588574409485, 0.10210587084293365, 0.10210587084293365, 0.10210588574409485, 0.10210588574409485, 0.10210588574409485, 0.10210588574409485, 0.10210587084293365, 0.10210588574409485, 0.10210588574409485, 0.10210588574409485, 0.10210588574409485, 0.10210588574409485, 0.10210588574409485, 0.10210587084293365, 0.10210588574409485, 0.10210588574409485, 0.10210588574409485, 0.10210587084293365, 0.10210588574409485, 0.10210588574409485, 0.10210587084293365, 0.10210587084293365, 0.10210587084293365, 0.10210588574409485, 0.10210588574409485, 0.10210587084293365, 0.10210588574409485, 0.10210587084293365, 0.10210588574409485, 0.10210588574409485, 0.10210588574409485, 0.10210587084293365, 0.10210588574409485, 0.10210588574409485, 0.10210588574409485, 0.10210588574409485, 0.10210588574409485, 0.10210588574409485, 0.10210588574409485, 0.10210588574409485, 0.10210588574409485, 0.10210588574409485, 0.10210588574409485, 0.10210588574409485, 0.10210588574409485, 0.10210588574409485, 0.10210588574409485, 0.10210587084293365, 0.10210588574409485, 0.10210587084293365, 0.10210588574409485, 0.10210588574409485, 0.10210588574409485, 0.10210588574409485, 0.10210588574409485, 0.10210587084293365, 0.10210588574409485, 0.10210588574409485, 0.10210588574409485, 0.10210588574409485, 0.10210588574409485, 0.10210587084293365, 0.10210588574409485, 0.10210588574409485, 0.10210587084293365, 0.10210588574409485, 0.10210588574409485, 0.10210588574409485, 0.10210588574409485, 0.10210588574409485, 0.10210588574409485, 0.10210588574409485, 0.10210588574409485, 0.10210588574409485, 0.10210588574409485, 0.10210588574409485, 0.10210588574409485, 0.10210588574409485, 0.10210588574409485, 0.10210588574409485, 0.10210587084293365, 0.10210588574409485, 0.10210588574409485, 0.10210588574409485, 0.10210588574409485, 0.10210588574409485, 0.10210588574409485, 0.10210588574409485, 0.10210588574409485, 0.10210588574409485, 0.10210588574409485, 0.10210588574409485, 0.10210588574409485, 0.10210588574409485, 0.10210588574409485, 0.10210588574409485, 0.10210587084293365, 0.10210588574409485, 0.10210588574409485, 0.10210588574409485, 0.10210588574409485, 0.10210588574409485, 0.10210588574409485, 0.10210587084293365, 0.10210587084293365, 0.10210588574409485, 0.10210588574409485, 0.10210588574409485, 0.10210588574409485, 0.10210587084293365, 0.10210588574409485, 0.10210588574409485, 0.10210587084293365, 0.10210588574409485, 0.10210587084293365, 0.10210588574409485, 0.10210588574409485, 0.10210588574409485, 0.10210588574409485, 0.10210587084293365, 0.10210588574409485, 0.10210588574409485, 0.10210588574409485, 0.10210588574409485, 0.10210588574409485, 0.10210588574409485, 0.10210587084293365, 0.10210587084293365, 0.10210588574409485, 0.10210587084293365, 0.10210588574409485, 0.10210588574409485, 0.10210588574409485, 0.10210588574409485, 0.10210588574409485, 0.10210587084293365, 0.10210588574409485, 0.10210587084293365, 0.10210588574409485, 0.10210588574409485, 0.10210588574409485, 0.10210588574409485, 0.10210587084293365, 0.10210588574409485, 0.10210588574409485, 0.10210587084293365, 0.10210588574409485, 0.10210588574409485, 0.10210588574409485, 0.10210588574409485, 0.10210588574409485, 0.10210587084293365, 0.10210588574409485, 0.10210588574409485, 0.10210588574409485, 0.10210588574409485, 0.10210588574409485, 0.10210587084293365, 0.10210587084293365, 0.10210588574409485, 0.10210587084293365, 0.10210588574409485, 0.10210588574409485, 0.10210587084293365, 0.10210588574409485, 0.10210587084293365, 0.10210588574409485, 0.10210588574409485, 0.10210588574409485, 0.10210588574409485, 0.10210588574409485, 0.10210588574409485, 0.10210588574409485, 0.10210587084293365, 0.10210588574409485, 0.10210588574409485, 0.10210587084293365, 0.10210588574409485, 0.10210588574409485, 0.10210588574409485, 0.10210588574409485, 0.10210588574409485, 0.10210587084293365, 0.10210587084293365, 0.10210588574409485, 0.10210587084293365, 0.10210588574409485, 0.10210588574409485, 0.10210587084293365, 0.10210588574409485, 0.10210587084293365, 0.10210588574409485, 0.10210588574409485, 0.10210588574409485, 0.10210588574409485, 0.10210588574409485, 0.10210588574409485, 0.10210587084293365, 0.10210588574409485, 0.10210587084293365, 0.10210588574409485, 0.10210588574409485, 0.10210587084293365, 0.10210588574409485, 0.10210587084293365, 0.10210588574409485, 0.10210588574409485, 0.10210587084293365, 0.10210588574409485, 0.10210588574409485, 0.10210588574409485, 0.10210588574409485, 0.10210588574409485, 0.10210588574409485, 0.10210587084293365, 0.10210588574409485, 0.10210588574409485, 0.10210588574409485, 0.10210588574409485, 0.10210588574409485, 0.10210588574409485, 0.10210588574409485, 0.10210588574409485, 0.10210588574409485, 0.10210588574409485, 0.10210588574409485, 0.10210588574409485, 0.10210588574409485, 0.10210588574409485, 0.10210587084293365, 0.10210588574409485, 0.10210588574409485, 0.10210588574409485, 0.10210587084293365, 0.10210588574409485, 0.10210588574409485, 0.10210588574409485, 0.10210588574409485, 0.10210588574409485, 0.10210587084293365, 0.10210587084293365, 0.10210588574409485, 0.10210588574409485, 0.10210587084293365, 0.10210588574409485, 0.10210587084293365, 0.10210588574409485, 0.10210588574409485, 0.10210587084293365, 0.10210588574409485, 0.10210588574409485, 0.10210588574409485, 0.10210588574409485, 0.10210587084293365, 0.10210588574409485, 0.10210588574409485, 0.10210588574409485, 0.10210588574409485, 0.10210587084293365, 0.10210588574409485, 0.10210588574409485, 0.10210588574409485, 0.10210588574409485, 0.10210588574409485, 0.10210588574409485, 0.10210588574409485, 0.10210588574409485, 0.10210588574409485, 0.10210588574409485, 0.10210587084293365, 0.10210587084293365, 0.10210587084293365, 0.10210588574409485, 0.10210588574409485, 0.10210587084293365, 0.10210588574409485, 0.10210588574409485, 0.10210588574409485, 0.10210588574409485, 0.10210588574409485, 0.10210587084293365, 0.10210588574409485, 0.10210588574409485, 0.10210588574409485, 0.10210587084293365, 0.10210588574409485, 0.10210588574409485, 0.10210588574409485, 0.10210588574409485, 0.10210588574409485, 0.10210588574409485, 0.10210588574409485, 0.10210587084293365, 0.10210588574409485, 0.10210587084293365, 0.10210588574409485, 0.10210587084293365, 0.10210588574409485, 0.10210588574409485, 0.10210588574409485, 0.10210588574409485, 0.10210587084293365, 0.10210588574409485, 0.10210587084293365, 0.10210588574409485, 0.10210588574409485, 0.10210588574409485, 0.10210587084293365, 0.10210588574409485, 0.10210588574409485, 0.10210588574409485, 0.10210588574409485, 0.10210587084293365, 0.10210588574409485, 0.10210588574409485, 0.10210588574409485, 0.10210588574409485, 0.10210588574409485, 0.10210588574409485, 0.10210587084293365, 0.10210588574409485, 0.10210588574409485, 0.10210587084293365, 0.10210588574409485, 0.10210587084293365, 0.10210588574409485, 0.10210588574409485, 0.10210588574409485, 0.10210588574409485, 0.10210588574409485, 0.10210588574409485, 0.10210588574409485, 0.10210587084293365, 0.10210587084293365, 0.10210587084293365, 0.10210587084293365, 0.10210587084293365, 0.10210588574409485, 0.10210587084293365, 0.10210588574409485, 0.10210588574409485, 0.10210588574409485, 0.10210587084293365, 0.10210588574409485, 0.10210588574409485, 0.10210588574409485, 0.10210587084293365, 0.10210587084293365, 0.10210587084293365, 0.10210588574409485, 0.10210588574409485, 0.10210587084293365, 0.10210588574409485, 0.10210588574409485, 0.10210588574409485, 0.10210588574409485, 0.10210588574409485, 0.10210588574409485, 0.10210588574409485, 0.10210588574409485, 0.10210588574409485, 0.10210588574409485, 0.10210588574409485, 0.10210588574409485, 0.10210588574409485, 0.10210588574409485, 0.10210588574409485, 0.10210588574409485, 0.10210588574409485, 0.10210587084293365, 0.10210588574409485, 0.10210588574409485, 0.10210587084293365, 0.10210588574409485, 0.10210588574409485, 0.10210587084293365, 0.10210587084293365, 0.10210588574409485, 0.10210588574409485, 0.10210587084293365, 0.10210587084293365, 0.10210588574409485, 0.10210588574409485, 0.10210588574409485, 0.10210588574409485, 0.10210587084293365, 0.10210588574409485, 0.10210587084293365, 0.10210588574409485, 0.10210588574409485, 0.10210588574409485, 0.10210588574409485, 0.10210588574409485, 0.10210588574409485, 0.10210588574409485, 0.10210587084293365, 0.10210588574409485, 0.10210588574409485, 0.10210588574409485, 0.10210587084293365, 0.10210587084293365, 0.10210588574409485, 0.10210587084293365, 0.10210588574409485, 0.10210588574409485, 0.10210587084293365, 0.10210588574409485, 0.10210588574409485, 0.10210588574409485, 0.10210588574409485, 0.10210587084293365, 0.10210587084293365, 0.10210588574409485, 0.10210588574409485, 0.10210587084293365, 0.10210587084293365, 0.10210588574409485, 0.10210588574409485, 0.10210587084293365, 0.10210588574409485, 0.10210588574409485, 0.10210588574409485, 0.10210588574409485, 0.10210588574409485, 0.10210588574409485, 0.10210588574409485, 0.10210588574409485, 0.10210587084293365, 0.10210588574409485, 0.10210588574409485, 0.10210588574409485, 0.10210588574409485, 0.10210587084293365, 0.10210588574409485, 0.10210588574409485, 0.10210588574409485, 0.10210588574409485, 0.10210588574409485, 0.10210588574409485, 0.10210588574409485, 0.10210587084293365, 0.10210588574409485, 0.10210588574409485, 0.10210588574409485, 0.10210588574409485, 0.10210588574409485, 0.10210588574409485, 0.10210587084293365, 0.10210588574409485, 0.10210588574409485, 0.10210588574409485, 0.10210588574409485, 0.10210588574409485, 0.10210588574409485, 0.10210588574409485, 0.10210588574409485, 0.10210588574409485, 0.10210588574409485, 0.10210588574409485, 0.10210588574409485, 0.10210587084293365, 0.10210588574409485, 0.10210588574409485, 0.10210588574409485, 0.10210588574409485, 0.10210588574409485, 0.10210588574409485, 0.10210587084293365, 0.10210587084293365, 0.10210588574409485, 0.10210588574409485, 0.10210588574409485, 0.10210588574409485, 0.10210587084293365, 0.10210588574409485, 0.10210588574409485, 0.10210588574409485, 0.10210588574409485, 0.10210588574409485, 0.10210588574409485, 0.10210588574409485, 0.10210588574409485, 0.10210584104061127, 0.10210588574409485, 0.10210588574409485, 0.10210587084293365, 0.10210588574409485, 0.10210588574409485, 0.10210588574409485, 0.10210587084293365, 0.10210587084293365, 0.10210588574409485, 0.10210587084293365, 0.10210587084293365, 0.10210587084293365, 0.10210588574409485, 0.10210588574409485, 0.10210588574409485, 0.10210588574409485, 0.10210587084293365, 0.10210588574409485, 0.10210588574409485, 0.10210588574409485, 0.10210588574409485, 0.10210588574409485, 0.10210588574409485, 0.10210588574409485, 0.10210588574409485, 0.10210588574409485, 0.10210588574409485, 0.10210588574409485, 0.10210588574409485, 0.10210588574409485, 0.10210588574409485, 0.10210588574409485, 0.10210588574409485, 0.10210588574409485, 0.10210588574409485, 0.10210588574409485, 0.10210587084293365, 0.10210588574409485, 0.10210588574409485, 0.10210588574409485, 0.10210588574409485, 0.10210587084293365, 0.10210587084293365, 0.10210587084293365, 0.10210588574409485, 0.10210588574409485, 0.10210588574409485, 0.10210588574409485, 0.10210588574409485, 0.10210588574409485, 0.10210587084293365, 0.10210588574409485, 0.10210588574409485, 0.10210587084293365, 0.10210587084293365, 0.10210588574409485, 0.10210587084293365, 0.10210588574409485, 0.10210588574409485, 0.10210588574409485, 0.10210588574409485, 0.10210588574409485, 0.10210588574409485, 0.10210587084293365, 0.10210588574409485, 0.10210588574409485, 0.10210587084293365, 0.10210588574409485, 0.10210588574409485, 0.10210588574409485, 0.10210588574409485, 0.10210588574409485, 0.10210588574409485, 0.10210588574409485, 0.10210587084293365, 0.10210588574409485, 0.10210588574409485, 0.10210588574409485, 0.10210588574409485, 0.10210587084293365, 0.10210588574409485, 0.10210588574409485, 0.10210587084293365, 0.10210588574409485, 0.10210588574409485, 0.10210588574409485, 0.10210587084293365, 0.10210588574409485, 0.10210588574409485, 0.10210588574409485, 0.10210588574409485, 0.10210588574409485, 0.10210588574409485, 0.10210588574409485, 0.10210587084293365, 0.10210588574409485, 0.10210588574409485, 0.10210588574409485, 0.10210588574409485, 0.10210588574409485, 0.10210587084293365, 0.10210588574409485, 0.10210588574409485, 0.10210588574409485, 0.10210588574409485, 0.10210588574409485, 0.10210587084293365, 0.10210588574409485, 0.10210588574409485, 0.10210588574409485, 0.10210588574409485, 0.10210587084293365, 0.10210588574409485, 0.10210588574409485, 0.10210588574409485, 0.10210588574409485, 0.10210588574409485, 0.10210588574409485, 0.10210588574409485, 0.10210588574409485, 0.10210587084293365, 0.10210588574409485, 0.10210588574409485, 0.10210588574409485, 0.10210587084293365, 0.10210587084293365, 0.10210588574409485, 0.10210587084293365, 0.10210588574409485, 0.10210588574409485, 0.10210588574409485, 0.10210587084293365, 0.10210588574409485, 0.10210588574409485, 0.10210588574409485, 0.10210588574409485, 0.10210588574409485, 0.10210588574409485, 0.10210588574409485, 0.10210588574409485, 0.10210588574409485, 0.10210587084293365, 0.10210587084293365, 0.10210588574409485, 0.10210588574409485, 0.10210588574409485, 0.10210588574409485, 0.10210588574409485, 0.10210588574409485, 0.10210588574409485, 0.10210588574409485, 0.10210588574409485, 0.10210588574409485, 0.10210588574409485, 0.10210587084293365, 0.10210588574409485, 0.10210588574409485, 0.10210587084293365, 0.10210587084293365, 0.10210587084293365, 0.10210588574409485, 0.10210588574409485, 0.10210587084293365, 0.10210588574409485, 0.10210588574409485, 0.10210587084293365, 0.10210588574409485, 0.10210587084293365, 0.10210587084293365, 0.10210588574409485, 0.10210588574409485, 0.10210588574409485, 0.10210588574409485, 0.10210588574409485, 0.10210588574409485, 0.10210588574409485, 0.10210588574409485, 0.10210587084293365, 0.10210588574409485, 0.10210588574409485, 0.10210588574409485, 0.10210587084293365, 0.10210587084293365, 0.10210588574409485, 0.10210588574409485, 0.10210588574409485, 0.10210587084293365, 0.10210587084293365, 0.10210587084293365, 0.10210588574409485, 0.10210588574409485, 0.10210588574409485, 0.10210588574409485, 0.10210588574409485, 0.10210587084293365, 0.10210587084293365, 0.10210588574409485, 0.10210588574409485, 0.10210588574409485, 0.10210588574409485, 0.10210588574409485, 0.10210588574409485, 0.10210588574409485, 0.10210588574409485, 0.10210588574409485, 0.10210587084293365, 0.10210588574409485, 0.10210588574409485, 0.10210588574409485, 0.10210588574409485, 0.10210588574409485, 0.10210588574409485, 0.10210588574409485, 0.10210588574409485, 0.10210588574409485, 0.10210588574409485, 0.10210588574409485, 0.10210588574409485, 0.10210588574409485, 0.10210587084293365, 0.10210588574409485, 0.10210587084293365, 0.10210588574409485, 0.10210588574409485, 0.10210588574409485, 0.10210588574409485, 0.10210588574409485, 0.10210588574409485, 0.10210588574409485, 0.10210588574409485, 0.10210587084293365, 0.10210587084293365, 0.10210587084293365, 0.10210588574409485, 0.10210588574409485, 0.10210587084293365, 0.10210588574409485, 0.10210587084293365, 0.10210587084293365, 0.10210588574409485, 0.10210587084293365, 0.10210588574409485, 0.10210588574409485, 0.10210588574409485, 0.10210587084293365, 0.10210588574409485, 0.10210588574409485, 0.10210588574409485, 0.10210588574409485, 0.10210588574409485, 0.10210587084293365, 0.10210588574409485, 0.10210588574409485, 0.10210588574409485, 0.10210588574409485, 0.10210587084293365, 0.10210588574409485, 0.10210588574409485, 0.10210588574409485, 0.10210588574409485, 0.10210588574409485, 0.10210588574409485, 0.10210587084293365, 0.10210588574409485, 0.10210588574409485, 0.10210588574409485, 0.10210588574409485, 0.10210588574409485, 0.10210588574409485, 0.10210587084293365, 0.10210588574409485, 0.10210588574409485, 0.10210588574409485, 0.10210587084293365, 0.10210588574409485, 0.10210588574409485, 0.10210588574409485, 0.10210588574409485, 0.10210588574409485, 0.10210588574409485, 0.10210588574409485, 0.10210587084293365, 0.10210588574409485, 0.10210588574409485, 0.10210587084293365, 0.10210588574409485, 0.10210588574409485, 0.10210587084293365, 0.10210587084293365, 0.10210588574409485, 0.10210588574409485, 0.10210588574409485, 0.10210588574409485, 0.10210588574409485, 0.10210588574409485, 0.10210588574409485, 0.10210588574409485, 0.10210587084293365, 0.10210588574409485, 0.10210587084293365, 0.10210588574409485, 0.10210587084293365, 0.10210588574409485, 0.10210588574409485, 0.10210588574409485, 0.10210588574409485, 0.10210587084293365, 0.10210588574409485, 0.10210588574409485, 0.10210587084293365, 0.10210587084293365, 0.10210588574409485, 0.10210587084293365, 0.10210588574409485, 0.10210588574409485, 0.10210587084293365, 0.10210588574409485, 0.10210588574409485, 0.10210588574409485, 0.10210588574409485, 0.10210587084293365, 0.10210588574409485, 0.10210588574409485, 0.10210588574409485, 0.10210588574409485, 0.10210588574409485, 0.10210587084293365, 0.10210588574409485, 0.10210588574409485, 0.10210588574409485, 0.10210587084293365, 0.10210588574409485, 0.10210588574409485, 0.10210588574409485, 0.10210588574409485, 0.10210587084293365, 0.10210588574409485, 0.10210588574409485, 0.10210588574409485, 0.10210588574409485, 0.10210588574409485, 0.10210588574409485, 0.10210587084293365, 0.10210588574409485, 0.10210587084293365, 0.10210588574409485, 0.10210587084293365, 0.10210587084293365, 0.10210588574409485, 0.10210588574409485, 0.10210588574409485, 0.10210588574409485, 0.10210588574409485, 0.10210588574409485, 0.10210588574409485, 0.10210588574409485, 0.10210587084293365, 0.10210588574409485, 0.10210588574409485, 0.10210588574409485, 0.10210587084293365, 0.10210588574409485, 0.10210588574409485, 0.10210588574409485, 0.10210588574409485, 0.10210587084293365, 0.10210588574409485, 0.10210588574409485, 0.10210587084293365, 0.10210588574409485, 0.10210588574409485, 0.10210588574409485, 0.10210588574409485, 0.10210588574409485, 0.10210587084293365, 0.10210588574409485, 0.10210588574409485, 0.10210588574409485, 0.10210588574409485, 0.10210588574409485, 0.10210588574409485, 0.10210588574409485, 0.10210588574409485, 0.10210588574409485, 0.10210588574409485, 0.10210587084293365, 0.10210588574409485, 0.10210588574409485, 0.10210588574409485, 0.10210588574409485, 0.10210588574409485, 0.10210588574409485, 0.10210588574409485, 0.10210587084293365, 0.10210588574409485, 0.10210588574409485, 0.10210588574409485, 0.10210587084293365, 0.10210588574409485, 0.10210587084293365, 0.10210587084293365, 0.10210588574409485, 0.10210588574409485, 0.10210588574409485, 0.10210588574409485, 0.10210588574409485, 0.10210588574409485, 0.10210587084293365, 0.10210588574409485, 0.10210587084293365, 0.10210588574409485, 0.10210588574409485, 0.10210588574409485, 0.10210588574409485, 0.10210587084293365, 0.10210588574409485, 0.10210588574409485, 0.10210588574409485, 0.10210588574409485, 0.10210588574409485, 0.10210588574409485, 0.10210588574409485, 0.10210588574409485, 0.10210588574409485, 0.10210587084293365, 0.10210588574409485, 0.10210588574409485, 0.10210588574409485, 0.10210588574409485, 0.10210588574409485, 0.10210588574409485, 0.10210588574409485, 0.10210588574409485, 0.10210588574409485, 0.10210588574409485, 0.10210588574409485, 0.10210588574409485, 0.10210588574409485, 0.10210587084293365, 0.10210588574409485, 0.10210588574409485, 0.10210587084293365, 0.10210588574409485, 0.10210587084293365, 0.10210587084293365, 0.10210588574409485, 0.10210587084293365, 0.10210587084293365, 0.10210588574409485, 0.10210588574409485, 0.10210588574409485, 0.10210588574409485, 0.10210588574409485, 0.10210588574409485, 0.10210588574409485, 0.10210588574409485, 0.10210588574409485, 0.10210587084293365, 0.10210588574409485, 0.10210588574409485, 0.10210587084293365, 0.10210588574409485, 0.10210588574409485, 0.10210587084293365, 0.10210588574409485, 0.10210588574409485, 0.10210588574409485, 0.10210587084293365, 0.10210587084293365, 0.10210588574409485, 0.10210587084293365, 0.10210588574409485, 0.10210588574409485, 0.10210588574409485, 0.10210588574409485, 0.10210588574409485, 0.10210588574409485, 0.10210587084293365, 0.10210588574409485, 0.10210588574409485, 0.10210588574409485, 0.10210587084293365, 0.10210588574409485, 0.10210588574409485, 0.10210588574409485, 0.10210588574409485, 0.10210587084293365, 0.10210588574409485, 0.10210588574409485, 0.10210588574409485, 0.10210588574409485, 0.10210588574409485, 0.10210588574409485, 0.10210588574409485, 0.10210588574409485, 0.10210587084293365, 0.10210587084293365, 0.10210588574409485, 0.10210587084293365, 0.10210588574409485, 0.10210587084293365, 0.10210588574409485, 0.10210588574409485, 0.10210587084293365, 0.10210588574409485, 0.10210587084293365, 0.10210588574409485, 0.10210588574409485, 0.10210588574409485, 0.10210588574409485, 0.10210587084293365, 0.10210588574409485, 0.10210588574409485, 0.10210588574409485, 0.10210588574409485, 0.10210588574409485, 0.10210588574409485, 0.10210588574409485, 0.10210588574409485, 0.10210588574409485, 0.10210588574409485, 0.10210587084293365, 0.10210588574409485, 0.10210588574409485, 0.10210588574409485, 0.10210588574409485, 0.10210588574409485, 0.10210587084293365, 0.10210588574409485, 0.10210588574409485, 0.10210588574409485, 0.10210588574409485, 0.10210588574409485, 0.10210588574409485, 0.10210587084293365, 0.10210587084293365, 0.10210588574409485, 0.10210588574409485, 0.10210588574409485, 0.10210588574409485, 0.10210588574409485, 0.10210588574409485, 0.10210588574409485, 0.10210588574409485, 0.10210588574409485, 0.10210588574409485, 0.10210587084293365, 0.10210587084293365, 0.10210588574409485, 0.10210588574409485, 0.10210587084293365, 0.10210588574409485, 0.10210588574409485, 0.10210587084293365, 0.10210587084293365, 0.10210588574409485, 0.10210588574409485, 0.10210588574409485, 0.10210588574409485, 0.10210588574409485, 0.10210588574409485, 0.10210588574409485, 0.10210587084293365, 0.10210588574409485, 0.10210588574409485, 0.10210588574409485, 0.10210588574409485, 0.10210588574409485, 0.10210588574409485, 0.10210588574409485, 0.10210587084293365, 0.10210587084293365, 0.10210587084293365, 0.10210588574409485, 0.10210588574409485, 0.10210588574409485, 0.10210588574409485, 0.10210588574409485, 0.10210587084293365, 0.10210588574409485, 0.10210588574409485, 0.10210588574409485, 0.10210587084293365, 0.10210588574409485, 0.10210588574409485, 0.10210588574409485, 0.10210588574409485, 0.10210588574409485, 0.10210588574409485, 0.10210588574409485, 0.10210588574409485, 0.10210588574409485, 0.10210588574409485, 0.10210588574409485, 0.10210588574409485, 0.10210588574409485, 0.10210588574409485, 0.10210588574409485, 0.10210587084293365, 0.10210588574409485, 0.10210588574409485, 0.10210587084293365, 0.10210588574409485, 0.10210588574409485, 0.10210588574409485, 0.10210587084293365, 0.10210588574409485, 0.10210588574409485, 0.10210587084293365, 0.10210588574409485, 0.10210588574409485, 0.10210588574409485, 0.10210588574409485, 0.10210587084293365, 0.10210588574409485, 0.10210587084293365, 0.10210588574409485, 0.10210587084293365, 0.10210588574409485, 0.10210588574409485, 0.10210588574409485, 0.10210588574409485, 0.10210588574409485, 0.10210587084293365, 0.10210588574409485, 0.10210588574409485, 0.10210588574409485, 0.10210588574409485, 0.10210587084293365, 0.10210588574409485, 0.10210588574409485, 0.10210588574409485, 0.10210588574409485, 0.10210588574409485, 0.10210588574409485, 0.10210588574409485, 0.10210588574409485, 0.10210588574409485, 0.10210587084293365, 0.10210588574409485, 0.10210588574409485, 0.10210588574409485, 0.10210587084293365, 0.10210588574409485, 0.10210588574409485, 0.10210588574409485, 0.10210588574409485, 0.10210588574409485, 0.10210588574409485, 0.10210588574409485, 0.10210588574409485, 0.10210588574409485, 0.10210588574409485, 0.10210587084293365, 0.10210588574409485, 0.10210588574409485, 0.10210588574409485, 0.10210588574409485, 0.10210587084293365, 0.10210588574409485, 0.10210588574409485, 0.10210587084293365, 0.10210587084293365, 0.10210588574409485, 0.10210588574409485, 0.10210588574409485, 0.10210587084293365, 0.10210587084293365, 0.10210588574409485, 0.10210587084293365, 0.10210588574409485, 0.10210587084293365, 0.10210588574409485, 0.10210588574409485, 0.10210588574409485, 0.10210588574409485, 0.10210587084293365, 0.10210587084293365, 0.10210587084293365, 0.10210588574409485, 0.10210588574409485, 0.10210588574409485, 0.10210588574409485, 0.10210588574409485, 0.10210588574409485, 0.10210588574409485, 0.10210588574409485, 0.10210588574409485, 0.10210588574409485, 0.10210588574409485, 0.10210588574409485, 0.10210588574409485, 0.10210588574409485, 0.10210588574409485, 0.10210588574409485, 0.10210588574409485, 0.10210588574409485, 0.10210588574409485, 0.10210588574409485, 0.10210588574409485, 0.10210588574409485, 0.10210588574409485, 0.10210588574409485, 0.10210588574409485, 0.10210588574409485, 0.10210587084293365, 0.10210588574409485, 0.10210588574409485, 0.10210588574409485, 0.10210588574409485, 0.10210587084293365, 0.10210587084293365, 0.10210587084293365, 0.10210588574409485, 0.10210588574409485, 0.10210588574409485, 0.10210588574409485, 0.10210588574409485, 0.10210588574409485, 0.10210588574409485, 0.10210587084293365, 0.10210588574409485, 0.10210588574409485, 0.10210588574409485, 0.10210588574409485, 0.10210588574409485, 0.10210588574409485, 0.10210588574409485, 0.10210587084293365, 0.10210588574409485, 0.10210588574409485, 0.10210588574409485, 0.10210587084293365, 0.10210588574409485, 0.10210587084293365, 0.10210587084293365, 0.10210588574409485, 0.10210588574409485, 0.10210587084293365, 0.10210588574409485, 0.10210587084293365, 0.10210588574409485, 0.10210587084293365, 0.10210588574409485, 0.10210588574409485, 0.10210588574409485, 0.10210588574409485, 0.10210588574409485, 0.10210587084293365, 0.10210588574409485, 0.10210587084293365, 0.10210588574409485, 0.10210588574409485, 0.10210587084293365, 0.10210587084293365, 0.10210588574409485, 0.10210587084293365, 0.10210588574409485, 0.10210588574409485, 0.10210588574409485, 0.10210588574409485, 0.10210588574409485, 0.10210587084293365, 0.10210587084293365, 0.10210588574409485, 0.10210588574409485, 0.10210588574409485, 0.10210588574409485, 0.10210587084293365, 0.10210588574409485, 0.10210588574409485, 0.10210588574409485, 0.10210588574409485, 0.10210588574409485, 0.10210588574409485, 0.10210588574409485, 0.10210588574409485, 0.10210588574409485, 0.10210588574409485, 0.10210588574409485, 0.10210587084293365, 0.10210587084293365, 0.10210588574409485, 0.10210588574409485, 0.10210588574409485, 0.10210587084293365, 0.10210588574409485, 0.10210588574409485, 0.10210588574409485, 0.10210588574409485, 0.10210588574409485, 0.10210588574409485, 0.10210588574409485, 0.10210588574409485, 0.10210588574409485, 0.10210588574409485, 0.10210588574409485, 0.10210588574409485, 0.10210588574409485, 0.10210588574409485, 0.10210588574409485, 0.10210588574409485, 0.10210588574409485, 0.10210588574409485, 0.10210587084293365, 0.10210588574409485, 0.10210588574409485, 0.10210588574409485, 0.10210587084293365, 0.10210588574409485, 0.10210588574409485, 0.10210588574409485, 0.10210588574409485, 0.10210588574409485, 0.10210587084293365, 0.10210588574409485, 0.10210588574409485, 0.10210588574409485, 0.10210587084293365, 0.10210588574409485, 0.10210588574409485, 0.10210588574409485, 0.10210588574409485, 0.10210588574409485, 0.10210588574409485, 0.10210588574409485, 0.10210588574409485, 0.10210588574409485, 0.10210587084293365, 0.10210588574409485, 0.10210588574409485, 0.10210588574409485, 0.10210588574409485, 0.10210588574409485, 0.10210588574409485, 0.10210588574409485, 0.10210587084293365, 0.10210587084293365, 0.10210588574409485, 0.10210588574409485, 0.10210587084293365, 0.10210588574409485, 0.10210588574409485, 0.10210588574409485, 0.10210587084293365, 0.10210588574409485, 0.10210587084293365, 0.10210588574409485, 0.10210588574409485, 0.10210588574409485, 0.10210588574409485, 0.10210588574409485, 0.10210587084293365, 0.10210588574409485, 0.10210588574409485, 0.10210588574409485, 0.10210588574409485, 0.10210588574409485, 0.10210588574409485, 0.10210587084293365, 0.10210588574409485, 0.10210588574409485, 0.10210587084293365, 0.10210588574409485, 0.10210588574409485, 0.10210587084293365, 0.10210588574409485, 0.10210588574409485, 0.10210588574409485, 0.10210588574409485, 0.10210588574409485, 0.10210588574409485, 0.10210588574409485, 0.10210588574409485, 0.10210588574409485, 0.10210588574409485, 0.10210588574409485, 0.10210588574409485, 0.10210588574409485, 0.10210587084293365, 0.10210588574409485, 0.10210587084293365, 0.10210588574409485, 0.10210588574409485, 0.10210587084293365, 0.10210588574409485, 0.10210588574409485, 0.10210588574409485, 0.10210588574409485, 0.10210588574409485, 0.10210587084293365, 0.10210588574409485, 0.10210588574409485, 0.10210587084293365, 0.10210588574409485, 0.10210588574409485, 0.10210588574409485, 0.10210588574409485, 0.10210588574409485, 0.10210588574409485, 0.10210588574409485, 0.10210587084293365, 0.10210588574409485, 0.10210588574409485, 0.10210588574409485, 0.10210588574409485, 0.10210588574409485, 0.10210587084293365, 0.10210588574409485, 0.10210587084293365, 0.10210587084293365, 0.10210588574409485, 0.10210587084293365, 0.10210587084293365, 0.10210587084293365, 0.10210588574409485, 0.10210588574409485, 0.10210588574409485, 0.10210588574409485, 0.10210587084293365, 0.10210588574409485, 0.10210588574409485, 0.10210588574409485, 0.10210588574409485, 0.10210587084293365, 0.10210587084293365, 0.10210587084293365, 0.10210588574409485, 0.10210587084293365, 0.10210588574409485, 0.10210587084293365, 0.10210588574409485, 0.10210587084293365, 0.10210588574409485, 0.10210588574409485, 0.10210588574409485, 0.10210588574409485, 0.10210587084293365, 0.10210587084293365, 0.10210588574409485, 0.10210588574409485, 0.10210588574409485, 0.10210588574409485, 0.10210587084293365, 0.10210588574409485, 0.10210588574409485, 0.10210588574409485, 0.10210588574409485, 0.10210588574409485, 0.10210588574409485, 0.10210588574409485, 0.10210588574409485, 0.10210587084293365, 0.10210587084293365, 0.10210588574409485, 0.10210588574409485, 0.10210588574409485, 0.10210588574409485, 0.10210588574409485, 0.10210587084293365, 0.10210587084293365, 0.10210588574409485, 0.10210588574409485, 0.10210588574409485, 0.10210588574409485, 0.10210588574409485, 0.10210588574409485, 0.10210588574409485, 0.10210588574409485, 0.10210588574409485, 0.10210588574409485, 0.10210587084293365, 0.10210587084293365, 0.10210587084293365, 0.10210588574409485, 0.10210588574409485, 0.10210587084293365, 0.10210587084293365, 0.10210588574409485, 0.10210588574409485, 0.10210588574409485, 0.10210588574409485, 0.10210588574409485, 0.10210587084293365, 0.10210588574409485, 0.10210588574409485, 0.10210588574409485, 0.10210588574409485, 0.10210587084293365, 0.10210588574409485, 0.10210588574409485, 0.10210588574409485, 0.10210587084293365, 0.10210588574409485, 0.10210588574409485, 0.10210588574409485, 0.10210588574409485, 0.10210588574409485, 0.10210588574409485, 0.10210588574409485, 0.10210588574409485, 0.10210588574409485, 0.10210588574409485, 0.10210588574409485, 0.10210587084293365, 0.10210588574409485, 0.10210588574409485, 0.10210587084293365, 0.10210588574409485, 0.10210588574409485, 0.10210588574409485, 0.10210588574409485, 0.10210588574409485, 0.10210588574409485, 0.10210588574409485, 0.10210587084293365, 0.10210588574409485, 0.10210588574409485, 0.10210588574409485, 0.10210588574409485, 0.10210588574409485, 0.10210587084293365, 0.10210587084293365, 0.10210588574409485, 0.10210587084293365, 0.10210588574409485, 0.10210588574409485, 0.10210588574409485, 0.10210588574409485, 0.10210588574409485, 0.10210587084293365, 0.10210588574409485, 0.10210587084293365, 0.10210588574409485, 0.10210588574409485, 0.10210588574409485, 0.10210588574409485, 0.10210588574409485, 0.10210588574409485, 0.10210588574409485, 0.10210588574409485, 0.10210588574409485, 0.10210588574409485, 0.10210588574409485, 0.10210588574409485, 0.10210587084293365, 0.10210588574409485, 0.10210588574409485, 0.10210588574409485, 0.10210588574409485, 0.10210588574409485, 0.10210588574409485, 0.10210588574409485, 0.10210588574409485, 0.10210587084293365, 0.10210588574409485, 0.10210588574409485, 0.10210588574409485, 0.10210588574409485, 0.10210588574409485, 0.10210588574409485, 0.10210587084293365, 0.10210588574409485, 0.10210588574409485, 0.10210588574409485, 0.10210588574409485, 0.10210588574409485, 0.10210588574409485, 0.10210588574409485, 0.10210588574409485, 0.10210588574409485, 0.10210587084293365, 0.10210587084293365, 0.10210588574409485, 0.10210587084293365, 0.10210588574409485, 0.10210587084293365, 0.10210588574409485, 0.10210587084293365, 0.10210587084293365, 0.10210588574409485, 0.10210588574409485, 0.10210587084293365, 0.10210588574409485, 0.10210588574409485, 0.10210587084293365, 0.10210587084293365, 0.10210587084293365, 0.10210588574409485, 0.10210588574409485, 0.10210588574409485, 0.10210588574409485, 0.10210587084293365, 0.10210588574409485, 0.10210588574409485, 0.10210588574409485, 0.10210588574409485, 0.10210588574409485, 0.10210587084293365, 0.10210588574409485, 0.10210587084293365, 0.10210588574409485, 0.10210587084293365, 0.10210588574409485, 0.10210588574409485, 0.10210587084293365, 0.10210588574409485, 0.10210588574409485, 0.10210587084293365, 0.10210588574409485, 0.10210588574409485, 0.10210587084293365, 0.10210588574409485, 0.10210588574409485, 0.10210588574409485, 0.10210588574409485, 0.10210588574409485, 0.10210588574409485, 0.10210588574409485, 0.10210587084293365, 0.10210588574409485, 0.10210588574409485, 0.10210588574409485, 0.10210588574409485, 0.10210588574409485, 0.10210588574409485, 0.10210587084293365, 0.10210588574409485, 0.10210588574409485, 0.10210588574409485, 0.10210587084293365, 0.10210588574409485, 0.10210588574409485, 0.10210588574409485, 0.10210588574409485, 0.10210588574409485, 0.10210588574409485, 0.10210588574409485, 0.10210588574409485, 0.10210588574409485, 0.10210587084293365, 0.10210588574409485, 0.10210588574409485, 0.10210588574409485, 0.10210588574409485, 0.10210588574409485, 0.10210587084293365, 0.10210587084293365, 0.10210588574409485, 0.10210588574409485, 0.10210588574409485, 0.10210588574409485, 0.10210588574409485, 0.10210588574409485, 0.10210588574409485, 0.10210588574409485, 0.10210588574409485, 0.10210588574409485, 0.10210588574409485, 0.10210588574409485, 0.10210587084293365, 0.10210588574409485, 0.10210588574409485, 0.10210588574409485, 0.10210588574409485, 0.10210588574409485, 0.10210588574409485, 0.10210588574409485, 0.10210588574409485, 0.10210588574409485, 0.10210587084293365, 0.10210588574409485, 0.10210588574409485, 0.10210588574409485, 0.10210588574409485, 0.10210588574409485, 0.10210588574409485, 0.10210588574409485, 0.10210587084293365, 0.10210588574409485, 0.10210588574409485, 0.10210588574409485, 0.10210588574409485, 0.10210588574409485, 0.10210587084293365, 0.10210588574409485, 0.10210587084293365, 0.10210587084293365, 0.10210588574409485, 0.10210588574409485, 0.10210588574409485, 0.10210587084293365, 0.10210588574409485, 0.10210588574409485, 0.10210588574409485, 0.10210588574409485, 0.10210588574409485, 0.10210588574409485, 0.10210588574409485, 0.10210588574409485, 0.10210588574409485, 0.10210588574409485, 0.10210588574409485, 0.10210588574409485, 0.10210588574409485, 0.10210588574409485, 0.10210588574409485, 0.10210588574409485, 0.10210588574409485, 0.10210587084293365, 0.10210588574409485, 0.10210588574409485, 0.10210587084293365, 0.10210588574409485, 0.10210588574409485, 0.10210587084293365, 0.10210588574409485, 0.10210587084293365, 0.10210588574409485, 0.10210588574409485, 0.10210588574409485, 0.10210588574409485, 0.10210588574409485, 0.10210587084293365, 0.10210587084293365, 0.10210587084293365, 0.10210588574409485, 0.10210588574409485, 0.10210588574409485, 0.10210588574409485, 0.10210588574409485, 0.10210588574409485, 0.10210588574409485, 0.10210587084293365, 0.10210588574409485, 0.10210588574409485, 0.10210588574409485, 0.10210588574409485, 0.10210587084293365, 0.10210588574409485, 0.10210587084293365, 0.10210588574409485, 0.10210588574409485, 0.10210587084293365, 0.10210587084293365, 0.10210587084293365, 0.10210588574409485, 0.10210588574409485, 0.10210588574409485, 0.10210588574409485, 0.10210587084293365, 0.10210587084293365, 0.10210588574409485, 0.10210588574409485, 0.10210588574409485, 0.10210588574409485, 0.10210588574409485, 0.10210588574409485, 0.10210587084293365, 0.10210588574409485, 0.10210588574409485, 0.10210588574409485, 0.10210587084293365, 0.10210588574409485, 0.10210588574409485, 0.10210587084293365, 0.10210588574409485, 0.10210588574409485, 0.10210588574409485, 0.10210588574409485, 0.10210587084293365, 0.10210587084293365, 0.10210588574409485, 0.10210587084293365, 0.10210587084293365, 0.10210587084293365, 0.10210588574409485, 0.10210588574409485, 0.10210587084293365, 0.10210588574409485, 0.10210587084293365, 0.10210588574409485, 0.10210588574409485, 0.10210588574409485, 0.10210588574409485, 0.10210588574409485, 0.10210584104061127, 0.10210588574409485, 0.10210588574409485, 0.10210587084293365, 0.10210588574409485, 0.10210587084293365, 0.10210588574409485, 0.10210588574409485, 0.10210588574409485, 0.10210587084293365, 0.10210587084293365, 0.10210588574409485, 0.10210588574409485, 0.10210588574409485, 0.10210587084293365, 0.10210588574409485, 0.10210588574409485, 0.10210588574409485, 0.10210588574409485, 0.10210587084293365, 0.10210588574409485, 0.10210588574409485, 0.10210588574409485, 0.10210588574409485, 0.10210588574409485, 0.10210588574409485, 0.10210588574409485, 0.10210588574409485, 0.10210588574409485, 0.10210588574409485, 0.10210588574409485, 0.10210588574409485, 0.10210587084293365, 0.10210588574409485, 0.10210588574409485, 0.10210588574409485, 0.10210588574409485, 0.10210587084293365, 0.10210588574409485, 0.10210588574409485, 0.10210588574409485, 0.10210588574409485, 0.10210588574409485, 0.10210588574409485, 0.10210588574409485, 0.10210588574409485, 0.10210588574409485, 0.10210588574409485, 0.10210587084293365, 0.10210587084293365, 0.10210588574409485, 0.10210588574409485, 0.10210588574409485, 0.10210587084293365, 0.10210588574409485, 0.10210588574409485, 0.10210588574409485, 0.10210588574409485, 0.10210588574409485, 0.10210588574409485, 0.10210588574409485, 0.10210587084293365, 0.10210588574409485, 0.10210588574409485, 0.10210588574409485, 0.10210588574409485, 0.10210588574409485, 0.10210588574409485, 0.10210588574409485, 0.10210588574409485, 0.10210588574409485, 0.10210588574409485, 0.10210588574409485, 0.10210588574409485, 0.10210588574409485, 0.10210588574409485, 0.10210588574409485, 0.10210588574409485, 0.10210588574409485, 0.10210587084293365, 0.10210588574409485, 0.10210587084293365, 0.10210587084293365, 0.10210588574409485, 0.10210588574409485, 0.10210588574409485, 0.10210588574409485, 0.10210588574409485, 0.10210588574409485, 0.10210588574409485, 0.10210588574409485, 0.10210588574409485, 0.10210588574409485, 0.10210587084293365, 0.10210588574409485, 0.10210588574409485, 0.10210587084293365, 0.10210588574409485, 0.10210588574409485, 0.10210588574409485, 0.10210588574409485, 0.10210587084293365, 0.10210588574409485, 0.10210588574409485, 0.10210588574409485, 0.10210588574409485, 0.10210588574409485, 0.10210587084293365, 0.10210588574409485, 0.10210588574409485, 0.10210588574409485, 0.10210588574409485, 0.10210588574409485, 0.10210588574409485, 0.10210588574409485, 0.10210588574409485, 0.10210588574409485, 0.10210588574409485, 0.10210588574409485, 0.10210588574409485, 0.10210588574409485, 0.10210588574409485, 0.10210588574409485, 0.10210588574409485, 0.10210588574409485, 0.10210587084293365, 0.10210588574409485, 0.10210587084293365, 0.10210588574409485, 0.10210588574409485, 0.10210587084293365, 0.10210588574409485, 0.10210588574409485, 0.10210588574409485, 0.10210587084293365, 0.10210588574409485, 0.10210588574409485, 0.10210587084293365, 0.10210588574409485, 0.10210588574409485, 0.10210588574409485, 0.10210587084293365, 0.10210588574409485, 0.10210588574409485, 0.10210588574409485, 0.10210587084293365, 0.10210588574409485, 0.10210587084293365, 0.10210587084293365, 0.10210588574409485, 0.10210588574409485, 0.10210588574409485, 0.10210587084293365, 0.10210588574409485, 0.10210588574409485, 0.10210588574409485, 0.10210587084293365, 0.10210587084293365, 0.10210587084293365, 0.10210588574409485, 0.10210587084293365, 0.10210588574409485, 0.10210588574409485, 0.10210587084293365, 0.10210587084293365, 0.10210588574409485, 0.10210588574409485, 0.10210588574409485, 0.10210588574409485, 0.10210588574409485, 0.10210588574409485, 0.10210588574409485, 0.10210587084293365, 0.10210588574409485, 0.10210588574409485, 0.10210587084293365, 0.10210588574409485, 0.10210588574409485, 0.10210588574409485, 0.10210588574409485, 0.10210588574409485, 0.10210588574409485, 0.10210588574409485, 0.10210587084293365, 0.10210588574409485, 0.10210588574409485, 0.10210588574409485, 0.10210587084293365, 0.10210588574409485, 0.10210588574409485, 0.10210588574409485, 0.10210588574409485, 0.10210588574409485, 0.10210588574409485, 0.10210588574409485, 0.10210588574409485, 0.10210587084293365, 0.10210587084293365, 0.10210588574409485, 0.10210587084293365, 0.10210587084293365, 0.10210588574409485, 0.10210588574409485, 0.10210588574409485, 0.10210588574409485, 0.10210588574409485, 0.10210588574409485, 0.10210588574409485, 0.10210587084293365, 0.10210587084293365, 0.10210588574409485, 0.10210588574409485, 0.10210588574409485, 0.10210587084293365, 0.10210588574409485, 0.10210587084293365, 0.10210587084293365, 0.10210588574409485, 0.10210588574409485, 0.10210588574409485, 0.10210588574409485, 0.10210588574409485, 0.10210588574409485, 0.10210588574409485, 0.10210588574409485, 0.10210588574409485, 0.10210588574409485, 0.10210587084293365, 0.10210588574409485, 0.10210587084293365, 0.10210588574409485, 0.10210587084293365, 0.10210588574409485, 0.10210588574409485, 0.10210587084293365, 0.10210588574409485, 0.10210588574409485, 0.10210588574409485, 0.10210588574409485, 0.10210587084293365, 0.10210588574409485, 0.10210588574409485, 0.10210588574409485, 0.10210587084293365, 0.10210588574409485, 0.10210588574409485, 0.10210587084293365, 0.10210588574409485, 0.10210588574409485, 0.10210588574409485, 0.10210587084293365, 0.10210588574409485, 0.10210588574409485, 0.10210588574409485, 0.10210588574409485, 0.10210588574409485, 0.10210587084293365, 0.10210588574409485, 0.10210588574409485, 0.10210588574409485, 0.10210588574409485, 0.10210588574409485, 0.10210588574409485, 0.10210587084293365, 0.10210588574409485, 0.10210588574409485, 0.10210588574409485, 0.10210588574409485, 0.10210588574409485, 0.10210588574409485, 0.10210588574409485, 0.10210588574409485, 0.10210588574409485, 0.10210588574409485, 0.10210588574409485, 0.10210588574409485, 0.10210588574409485, 0.10210587084293365, 0.10210588574409485, 0.10210588574409485, 0.10210587084293365, 0.10210588574409485, 0.10210588574409485, 0.10210588574409485, 0.10210588574409485, 0.10210588574409485, 0.10210588574409485, 0.10210588574409485, 0.10210588574409485, 0.10210588574409485, 0.10210588574409485, 0.10210587084293365, 0.10210588574409485, 0.10210588574409485, 0.10210588574409485, 0.10210588574409485, 0.10210588574409485, 0.10210588574409485, 0.10210588574409485, 0.10210587084293365, 0.10210587084293365, 0.10210588574409485, 0.10210588574409485, 0.10210588574409485, 0.10210588574409485, 0.10210588574409485, 0.10210587084293365, 0.10210588574409485, 0.10210588574409485, 0.10210588574409485, 0.10210587084293365, 0.10210588574409485, 0.10210588574409485, 0.10210588574409485, 0.10210588574409485, 0.10210588574409485, 0.10210588574409485, 0.10210588574409485, 0.10210588574409485, 0.10210587084293365, 0.10210588574409485, 0.10210588574409485, 0.10210588574409485, 0.10210588574409485, 0.10210588574409485, 0.10210588574409485, 0.10210587084293365, 0.10210588574409485, 0.10210587084293365, 0.10210587084293365, 0.10210588574409485, 0.10210588574409485, 0.10210588574409485, 0.10210587084293365, 0.10210588574409485, 0.10210588574409485, 0.10210587084293365, 0.10210588574409485, 0.10210588574409485, 0.10210588574409485, 0.10210588574409485, 0.10210587084293365, 0.10210587084293365, 0.10210587084293365, 0.10210588574409485, 0.10210588574409485, 0.10210587084293365, 0.10210587084293365, 0.10210588574409485, 0.10210588574409485, 0.10210588574409485, 0.10210588574409485, 0.10210588574409485, 0.10210588574409485, 0.10210588574409485, 0.10210588574409485, 0.10210588574409485, 0.10210588574409485, 0.10210588574409485, 0.10210588574409485, 0.10210588574409485, 0.10210588574409485, 0.10210588574409485, 0.10210587084293365, 0.10210588574409485, 0.10210587084293365, 0.10210588574409485, 0.10210588574409485, 0.10210588574409485, 0.10210588574409485, 0.10210588574409485, 0.10210588574409485, 0.10210588574409485, 0.10210587084293365, 0.10210588574409485, 0.10210588574409485, 0.10210588574409485, 0.10210588574409485, 0.10210587084293365, 0.10210588574409485, 0.10210588574409485, 0.10210587084293365, 0.10210588574409485, 0.10210588574409485, 0.10210588574409485, 0.10210588574409485, 0.10210587084293365, 0.10210588574409485, 0.10210588574409485, 0.10210588574409485, 0.10210588574409485, 0.10210588574409485, 0.10210588574409485, 0.10210588574409485, 0.10210587084293365, 0.10210588574409485, 0.10210588574409485, 0.10210588574409485, 0.10210587084293365, 0.10210588574409485, 0.10210588574409485, 0.10210587084293365, 0.10210588574409485, 0.10210588574409485, 0.10210588574409485, 0.10210588574409485, 0.10210588574409485, 0.10210588574409485, 0.10210588574409485, 0.10210588574409485, 0.10210588574409485, 0.10210588574409485, 0.10210588574409485, 0.10210588574409485, 0.10210588574409485, 0.10210587084293365, 0.10210588574409485, 0.10210588574409485, 0.10210588574409485, 0.10210587084293365, 0.10210588574409485, 0.10210588574409485, 0.10210588574409485, 0.10210587084293365, 0.10210588574409485, 0.10210588574409485, 0.10210588574409485, 0.10210588574409485, 0.10210588574409485, 0.10210584104061127, 0.10210588574409485, 0.10210588574409485, 0.10210588574409485, 0.10210588574409485, 0.10210588574409485, 0.10210588574409485, 0.10210588574409485, 0.10210588574409485, 0.10210588574409485, 0.10210588574409485, 0.10210588574409485, 0.10210588574409485, 0.10210588574409485, 0.10210588574409485, 0.10210587084293365, 0.10210587084293365, 0.10210588574409485, 0.10210588574409485, 0.10210588574409485, 0.10210587084293365, 0.10210588574409485, 0.10210587084293365, 0.10210588574409485, 0.10210588574409485, 0.10210588574409485, 0.10210587084293365, 0.10210588574409485, 0.10210588574409485, 0.10210588574409485, 0.10210588574409485, 0.10210588574409485, 0.10210588574409485, 0.10210588574409485, 0.10210588574409485, 0.10210588574409485, 0.10210587084293365, 0.10210588574409485, 0.10210587084293365, 0.10210588574409485, 0.10210588574409485, 0.10210588574409485, 0.10210587084293365, 0.10210588574409485, 0.10210588574409485, 0.10210587084293365, 0.10210588574409485, 0.10210588574409485, 0.10210588574409485, 0.10210587084293365, 0.10210588574409485, 0.10210587084293365, 0.10210588574409485, 0.10210588574409485, 0.10210588574409485, 0.10210587084293365, 0.10210588574409485, 0.10210588574409485, 0.10210587084293365, 0.10210588574409485, 0.10210588574409485, 0.10210588574409485, 0.10210588574409485, 0.10210587084293365, 0.10210588574409485, 0.10210587084293365, 0.10210587084293365, 0.10210588574409485, 0.10210587084293365, 0.10210588574409485, 0.10210588574409485, 0.10210588574409485, 0.10210588574409485, 0.10210588574409485, 0.10210588574409485, 0.10210588574409485, 0.10210588574409485, 0.10210588574409485, 0.10210588574409485, 0.10210587084293365, 0.10210588574409485, 0.10210588574409485, 0.10210587084293365, 0.10210588574409485, 0.10210588574409485, 0.10210588574409485, 0.10210588574409485, 0.10210588574409485, 0.10210588574409485, 0.10210588574409485, 0.10210588574409485, 0.10210588574409485, 0.10210588574409485, 0.10210588574409485, 0.10210588574409485, 0.10210588574409485, 0.10210588574409485, 0.10210588574409485, 0.10210588574409485, 0.10210587084293365, 0.10210588574409485, 0.10210588574409485, 0.10210588574409485, 0.10210587084293365, 0.10210588574409485, 0.10210588574409485, 0.10210587084293365, 0.10210587084293365, 0.10210588574409485, 0.10210588574409485, 0.10210587084293365, 0.10210588574409485, 0.10210588574409485, 0.10210588574409485, 0.10210588574409485, 0.10210588574409485, 0.10210588574409485, 0.10210587084293365, 0.10210588574409485, 0.10210588574409485, 0.10210588574409485, 0.10210587084293365, 0.10210588574409485, 0.10210588574409485, 0.10210588574409485, 0.10210588574409485, 0.10210588574409485, 0.10210587084293365, 0.10210588574409485, 0.10210587084293365, 0.10210588574409485, 0.10210588574409485, 0.10210588574409485, 0.10210587084293365, 0.10210588574409485, 0.10210588574409485, 0.10210588574409485, 0.10210588574409485, 0.10210588574409485, 0.10210588574409485, 0.10210588574409485, 0.10210587084293365, 0.10210587084293365, 0.10210588574409485, 0.10210588574409485, 0.10210587084293365, 0.10210588574409485, 0.10210587084293365, 0.10210588574409485, 0.10210588574409485, 0.10210588574409485, 0.10210588574409485, 0.10210588574409485, 0.10210587084293365, 0.10210587084293365, 0.10210588574409485, 0.10210588574409485, 0.10210588574409485, 0.10210588574409485, 0.10210588574409485, 0.10210588574409485, 0.10210587084293365, 0.10210588574409485, 0.10210587084293365, 0.10210588574409485, 0.10210588574409485, 0.10210588574409485, 0.10210587084293365, 0.10210588574409485, 0.10210587084293365, 0.10210588574409485, 0.10210588574409485, 0.10210588574409485, 0.10210587084293365, 0.10210588574409485, 0.10210587084293365, 0.10210588574409485, 0.10210588574409485, 0.10210588574409485, 0.10210588574409485, 0.10210587084293365, 0.10210587084293365, 0.10210587084293365, 0.10210588574409485, 0.10210588574409485, 0.10210588574409485, 0.10210587084293365, 0.10210588574409485, 0.10210588574409485, 0.10210587084293365, 0.10210588574409485, 0.10210588574409485, 0.10210588574409485, 0.10210587084293365, 0.10210588574409485, 0.10210588574409485, 0.10210587084293365, 0.10210587084293365, 0.10210588574409485, 0.10210587084293365, 0.10210587084293365, 0.10210588574409485, 0.10210588574409485, 0.10210588574409485, 0.10210588574409485, 0.10210588574409485, 0.10210587084293365, 0.10210588574409485, 0.10210588574409485, 0.10210588574409485, 0.10210588574409485, 0.10210588574409485, 0.10210588574409485, 0.10210588574409485, 0.10210588574409485, 0.10210587084293365, 0.10210587084293365, 0.10210587084293365, 0.10210587084293365, 0.10210588574409485, 0.10210587084293365, 0.10210587084293365, 0.10210588574409485, 0.10210588574409485, 0.10210588574409485, 0.10210588574409485, 0.10210588574409485, 0.10210588574409485, 0.10210588574409485, 0.10210588574409485, 0.10210588574409485, 0.10210587084293365, 0.10210587084293365, 0.10210587084293365, 0.10210588574409485, 0.10210588574409485, 0.10210588574409485, 0.10210588574409485, 0.10210588574409485, 0.10210588574409485, 0.10210587084293365, 0.10210587084293365, 0.10210588574409485, 0.10210588574409485, 0.10210588574409485, 0.10210588574409485, 0.10210588574409485, 0.10210588574409485, 0.10210588574409485, 0.10210588574409485, 0.10210588574409485, 0.10210588574409485, 0.10210588574409485, 0.10210587084293365, 0.10210588574409485, 0.10210588574409485, 0.10210587084293365, 0.10210588574409485, 0.10210588574409485, 0.10210588574409485, 0.10210588574409485, 0.10210587084293365, 0.10210587084293365, 0.10210588574409485, 0.10210588574409485, 0.10210588574409485, 0.10210588574409485, 0.10210587084293365, 0.10210588574409485, 0.10210588574409485, 0.10210587084293365, 0.10210588574409485, 0.10210588574409485, 0.10210588574409485, 0.10210588574409485, 0.10210588574409485, 0.10210588574409485, 0.10210588574409485, 0.10210588574409485, 0.10210587084293365, 0.10210587084293365, 0.10210588574409485, 0.10210587084293365, 0.10210588574409485, 0.10210588574409485, 0.10210587084293365, 0.10210588574409485, 0.10210588574409485, 0.10210588574409485, 0.10210588574409485, 0.10210588574409485, 0.10210588574409485, 0.10210587084293365, 0.10210588574409485, 0.10210587084293365, 0.10210588574409485, 0.10210587084293365, 0.10210588574409485, 0.10210588574409485, 0.10210588574409485, 0.10210588574409485, 0.10210588574409485, 0.10210588574409485, 0.10210588574409485, 0.10210588574409485, 0.10210587084293365, 0.10210588574409485, 0.10210588574409485, 0.10210588574409485, 0.10210588574409485, 0.10210588574409485, 0.10210587084293365, 0.10210588574409485, 0.10210588574409485, 0.10210588574409485, 0.10210588574409485, 0.10210588574409485, 0.10210588574409485, 0.10210588574409485, 0.10210588574409485, 0.10210588574409485, 0.10210588574409485, 0.10210588574409485, 0.10210588574409485, 0.10210588574409485, 0.10210587084293365, 0.10210588574409485, 0.10210588574409485, 0.10210587084293365, 0.10210588574409485, 0.10210588574409485, 0.10210588574409485, 0.10210588574409485, 0.10210587084293365, 0.10210588574409485, 0.10210588574409485, 0.10210587084293365, 0.10210588574409485, 0.10210588574409485, 0.10210588574409485, 0.10210587084293365, 0.10210587084293365, 0.10210588574409485, 0.10210588574409485, 0.10210588574409485, 0.10210588574409485, 0.10210588574409485, 0.10210588574409485, 0.10210588574409485, 0.10210588574409485, 0.10210588574409485, 0.10210588574409485, 0.10210588574409485, 0.10210587084293365, 0.10210587084293365, 0.10210588574409485, 0.10210587084293365, 0.10210588574409485, 0.10210588574409485, 0.10210587084293365, 0.10210588574409485, 0.10210587084293365, 0.10210588574409485, 0.10210587084293365, 0.10210587084293365, 0.10210588574409485, 0.10210588574409485, 0.10210588574409485, 0.10210587084293365, 0.10210588574409485, 0.10210588574409485, 0.10210588574409485, 0.10210587084293365, 0.10210588574409485, 0.10210588574409485, 0.10210588574409485, 0.10210588574409485, 0.10210588574409485, 0.10210588574409485, 0.10210588574409485, 0.10210588574409485, 0.10210588574409485, 0.10210588574409485, 0.10210588574409485, 0.10210588574409485, 0.10210588574409485, 0.10210587084293365, 0.10210587084293365, 0.10210588574409485, 0.10210588574409485, 0.10210588574409485, 0.10210588574409485, 0.10210588574409485, 0.10210588574409485, 0.10210588574409485, 0.10210587084293365, 0.10210587084293365, 0.10210587084293365, 0.10210587084293365, 0.10210588574409485, 0.10210588574409485, 0.10210588574409485, 0.10210588574409485, 0.10210588574409485, 0.10210587084293365, 0.10210587084293365, 0.10210588574409485, 0.10210588574409485, 0.10210588574409485, 0.10210588574409485, 0.10210588574409485, 0.10210588574409485, 0.10210588574409485, 0.10210588574409485, 0.10210587084293365, 0.10210587084293365, 0.10210588574409485, 0.10210588574409485, 0.10210588574409485, 0.10210588574409485, 0.10210588574409485, 0.10210587084293365, 0.10210587084293365, 0.10210588574409485, 0.10210588574409485, 0.10210588574409485, 0.10210587084293365, 0.10210588574409485, 0.10210588574409485, 0.10210588574409485, 0.10210588574409485, 0.10210587084293365, 0.10210588574409485, 0.10210588574409485, 0.10210587084293365, 0.10210588574409485, 0.10210588574409485, 0.10210587084293365, 0.10210588574409485, 0.10210588574409485, 0.10210587084293365, 0.10210587084293365, 0.10210588574409485, 0.10210588574409485, 0.10210587084293365, 0.10210587084293365, 0.10210588574409485, 0.10210588574409485, 0.10210587084293365, 0.10210587084293365, 0.10210587084293365, 0.10210588574409485, 0.10210587084293365, 0.10210588574409485, 0.10210588574409485, 0.10210588574409485, 0.10210588574409485, 0.10210588574409485, 0.10210588574409485, 0.10210588574409485, 0.10210588574409485, 0.10210587084293365, 0.10210588574409485, 0.10210588574409485, 0.10210588574409485, 0.10210588574409485, 0.10210588574409485, 0.10210587084293365, 0.10210588574409485, 0.10210588574409485, 0.10210587084293365, 0.10210588574409485, 0.10210588574409485, 0.10210588574409485, 0.10210588574409485, 0.10210588574409485, 0.10210588574409485, 0.10210588574409485, 0.10210588574409485, 0.10210588574409485, 0.10210588574409485, 0.10210588574409485, 0.10210588574409485, 0.10210588574409485, 0.10210588574409485, 0.10210587084293365, 0.10210588574409485, 0.10210587084293365, 0.10210588574409485, 0.10210587084293365, 0.10210588574409485, 0.10210588574409485, 0.10210587084293365, 0.10210588574409485, 0.10210588574409485, 0.10210588574409485, 0.10210588574409485, 0.10210588574409485, 0.10210588574409485, 0.10210588574409485, 0.10210588574409485, 0.10210587084293365, 0.10210588574409485, 0.10210588574409485, 0.10210588574409485, 0.10210587084293365, 0.10210588574409485, 0.10210588574409485, 0.10210588574409485, 0.10210588574409485, 0.10210588574409485, 0.10210588574409485, 0.10210588574409485, 0.10210588574409485, 0.10210588574409485, 0.10210588574409485, 0.10210588574409485, 0.10210588574409485, 0.10210588574409485, 0.10210588574409485, 0.10210588574409485, 0.10210588574409485, 0.10210588574409485, 0.10210588574409485, 0.10210588574409485, 0.10210587084293365, 0.10210588574409485, 0.10210588574409485, 0.10210588574409485, 0.10210587084293365, 0.10210588574409485, 0.10210588574409485, 0.10210588574409485, 0.10210588574409485, 0.10210588574409485, 0.10210587084293365, 0.10210587084293365, 0.10210588574409485, 0.10210588574409485, 0.10210588574409485, 0.10210587084293365, 0.10210588574409485, 0.10210587084293365, 0.10210588574409485, 0.10210588574409485, 0.10210588574409485, 0.10210588574409485, 0.10210588574409485, 0.10210588574409485, 0.10210588574409485, 0.10210587084293365, 0.10210588574409485, 0.10210588574409485, 0.10210588574409485, 0.10210588574409485, 0.10210588574409485, 0.10210587084293365, 0.10210588574409485, 0.10210588574409485, 0.10210588574409485, 0.10210588574409485, 0.10210588574409485, 0.10210587084293365, 0.10210588574409485, 0.10210588574409485, 0.10210588574409485, 0.10210587084293365, 0.10210588574409485, 0.10210588574409485, 0.10210588574409485, 0.10210588574409485, 0.10210588574409485, 0.10210588574409485, 0.10210588574409485, 0.10210588574409485, 0.10210588574409485, 0.10210588574409485, 0.10210588574409485, 0.10210587084293365, 0.10210587084293365, 0.10210588574409485, 0.10210588574409485, 0.10210587084293365, 0.10210588574409485, 0.10210588574409485, 0.10210588574409485, 0.10210588574409485, 0.10210588574409485, 0.10210588574409485, 0.10210588574409485, 0.10210588574409485, 0.10210588574409485, 0.10210588574409485, 0.10210588574409485, 0.10210588574409485, 0.10210588574409485, 0.10210588574409485, 0.10210588574409485, 0.10210588574409485, 0.10210588574409485, 0.10210588574409485, 0.10210588574409485, 0.10210588574409485, 0.10210588574409485, 0.10210587084293365, 0.10210587084293365, 0.10210587084293365, 0.10210588574409485, 0.10210588574409485, 0.10210588574409485, 0.10210588574409485, 0.10210588574409485, 0.10210588574409485, 0.10210587084293365, 0.10210588574409485, 0.10210587084293365, 0.10210588574409485, 0.10210588574409485, 0.10210588574409485, 0.10210587084293365, 0.10210588574409485, 0.10210587084293365, 0.10210588574409485, 0.10210588574409485, 0.10210588574409485, 0.10210587084293365, 0.10210588574409485, 0.10210588574409485, 0.10210588574409485, 0.10210588574409485, 0.10210588574409485, 0.10210588574409485, 0.10210588574409485, 0.10210587084293365, 0.10210588574409485, 0.10210588574409485, 0.10210588574409485, 0.10210588574409485, 0.10210588574409485, 0.10210588574409485, 0.10210588574409485, 0.10210588574409485, 0.10210588574409485, 0.10210588574409485, 0.10210587084293365, 0.10210588574409485, 0.10210587084293365, 0.10210588574409485, 0.10210588574409485, 0.10210588574409485, 0.10210587084293365, 0.10210588574409485, 0.10210588574409485, 0.10210588574409485, 0.10210587084293365, 0.10210588574409485, 0.10210588574409485, 0.10210588574409485, 0.10210588574409485, 0.10210587084293365, 0.10210588574409485, 0.10210588574409485, 0.10210588574409485, 0.10210588574409485, 0.10210588574409485, 0.10210588574409485, 0.10210588574409485, 0.10210588574409485, 0.10210588574409485, 0.10210588574409485, 0.10210587084293365, 0.10210588574409485, 0.10210588574409485, 0.10210588574409485, 0.10210588574409485, 0.10210588574409485, 0.10210588574409485, 0.10210587084293365, 0.10210588574409485, 0.10210588574409485, 0.10210587084293365, 0.10210587084293365, 0.10210588574409485, 0.10210588574409485, 0.10210588574409485, 0.10210587084293365, 0.10210588574409485, 0.10210587084293365, 0.10210588574409485, 0.10210588574409485, 0.10210587084293365, 0.10210588574409485, 0.10210587084293365, 0.10210588574409485, 0.10210588574409485, 0.10210588574409485, 0.10210588574409485, 0.10210588574409485, 0.10210587084293365, 0.10210587084293365, 0.10210588574409485, 0.10210588574409485, 0.10210588574409485, 0.10210588574409485, 0.10210587084293365, 0.10210588574409485, 0.10210587084293365, 0.10210588574409485, 0.10210588574409485, 0.10210588574409485, 0.10210588574409485, 0.10210587084293365, 0.10210588574409485, 0.10210588574409485, 0.10210587084293365, 0.10210587084293365, 0.10210588574409485, 0.10210588574409485, 0.10210587084293365, 0.10210587084293365, 0.10210587084293365, 0.10210588574409485, 0.10210588574409485, 0.10210587084293365, 0.10210588574409485, 0.10210588574409485, 0.10210588574409485, 0.10210588574409485, 0.10210588574409485, 0.10210588574409485, 0.10210588574409485, 0.10210587084293365, 0.10210587084293365, 0.10210588574409485, 0.10210588574409485, 0.10210588574409485, 0.10210588574409485, 0.10210588574409485, 0.10210588574409485, 0.10210588574409485, 0.10210588574409485, 0.10210588574409485, 0.10210588574409485, 0.10210588574409485, 0.10210588574409485, 0.10210587084293365, 0.10210588574409485, 0.10210588574409485, 0.10210587084293365, 0.10210588574409485, 0.10210588574409485, 0.10210588574409485, 0.10210588574409485, 0.10210588574409485, 0.10210588574409485, 0.10210587084293365, 0.10210588574409485, 0.10210588574409485, 0.10210588574409485, 0.10210587084293365, 0.10210588574409485, 0.10210588574409485, 0.10210587084293365, 0.10210588574409485, 0.10210588574409485, 0.10210588574409485, 0.10210587084293365, 0.10210588574409485, 0.10210588574409485, 0.10210588574409485, 0.10210588574409485, 0.10210588574409485, 0.10210588574409485, 0.10210588574409485, 0.10210588574409485, 0.10210588574409485, 0.10210587084293365, 0.10210588574409485, 0.10210588574409485, 0.10210588574409485, 0.10210588574409485, 0.10210588574409485, 0.10210587084293365, 0.10210588574409485, 0.10210587084293365, 0.10210588574409485, 0.10210588574409485, 0.10210588574409485, 0.10210587084293365, 0.10210587084293365, 0.10210588574409485, 0.10210588574409485, 0.10210588574409485, 0.10210588574409485, 0.10210588574409485, 0.10210588574409485, 0.10210588574409485, 0.10210588574409485, 0.10210588574409485, 0.10210588574409485, 0.10210588574409485, 0.10210588574409485, 0.10210587084293365, 0.10210588574409485, 0.10210587084293365, 0.10210588574409485, 0.10210588574409485, 0.10210588574409485, 0.10210588574409485, 0.10210588574409485, 0.10210588574409485, 0.10210588574409485, 0.10210587084293365, 0.10210588574409485, 0.10210588574409485, 0.10210588574409485, 0.10210588574409485, 0.10210588574409485, 0.10210588574409485, 0.10210588574409485, 0.10210587084293365, 0.10210588574409485, 0.10210588574409485, 0.10210588574409485, 0.10210588574409485, 0.10210588574409485, 0.10210587084293365, 0.10210587084293365, 0.10210588574409485, 0.10210588574409485, 0.10210588574409485, 0.10210588574409485, 0.10210588574409485, 0.10210588574409485, 0.10210587084293365, 0.10210587084293365, 0.10210587084293365, 0.10210588574409485, 0.10210588574409485, 0.10210588574409485, 0.10210588574409485, 0.10210588574409485, 0.10210587084293365, 0.10210588574409485, 0.10210588574409485, 0.10210587084293365, 0.10210588574409485, 0.10210588574409485, 0.10210588574409485, 0.10210588574409485, 0.10210588574409485, 0.10210588574409485, 0.10210587084293365, 0.10210588574409485, 0.10210588574409485, 0.10210588574409485, 0.10210588574409485, 0.10210587084293365, 0.10210588574409485, 0.10210588574409485, 0.10210588574409485, 0.10210587084293365, 0.10210588574409485, 0.10210587084293365, 0.10210588574409485, 0.10210588574409485, 0.10210588574409485, 0.10210587084293365, 0.10210588574409485, 0.10210587084293365, 0.10210588574409485, 0.10210587084293365, 0.10210588574409485, 0.10210587084293365, 0.10210588574409485, 0.10210588574409485, 0.10210588574409485, 0.10210587084293365, 0.10210587084293365, 0.10210588574409485, 0.10210588574409485, 0.10210588574409485, 0.10210588574409485, 0.10210588574409485, 0.10210587084293365, 0.10210588574409485, 0.10210587084293365, 0.10210588574409485, 0.10210588574409485, 0.10210588574409485, 0.10210588574409485, 0.10210588574409485, 0.10210587084293365, 0.10210587084293365, 0.10210588574409485, 0.10210588574409485, 0.10210588574409485, 0.10210588574409485, 0.10210587084293365, 0.10210588574409485, 0.10210588574409485, 0.10210588574409485, 0.10210588574409485, 0.10210588574409485, 0.10210588574409485, 0.10210588574409485, 0.10210588574409485, 0.10210588574409485, 0.10210588574409485, 0.10210587084293365, 0.10210588574409485, 0.10210587084293365, 0.10210587084293365, 0.10210588574409485, 0.10210588574409485, 0.10210588574409485, 0.10210588574409485, 0.10210588574409485, 0.10210588574409485, 0.10210588574409485, 0.10210588574409485, 0.10210588574409485, 0.10210588574409485, 0.10210588574409485, 0.10210588574409485, 0.10210588574409485, 0.10210588574409485, 0.10210587084293365, 0.10210588574409485, 0.10210588574409485, 0.10210588574409485, 0.10210587084293365, 0.10210588574409485, 0.10210587084293365, 0.10210588574409485, 0.10210588574409485, 0.10210588574409485, 0.10210588574409485, 0.10210588574409485, 0.10210588574409485, 0.10210588574409485, 0.10210588574409485, 0.10210587084293365, 0.10210588574409485, 0.10210588574409485, 0.10210588574409485, 0.10210587084293365, 0.10210587084293365, 0.10210588574409485, 0.10210587084293365, 0.10210587084293365, 0.10210587084293365, 0.10210587084293365, 0.10210588574409485, 0.10210587084293365, 0.10210588574409485, 0.10210588574409485, 0.10210588574409485, 0.10210588574409485, 0.10210588574409485, 0.10210588574409485, 0.10210588574409485, 0.10210588574409485, 0.10210588574409485, 0.10210587084293365, 0.10210588574409485, 0.10210587084293365, 0.10210587084293365, 0.10210587084293365, 0.10210588574409485, 0.10210588574409485, 0.10210588574409485, 0.10210588574409485, 0.10210588574409485, 0.10210587084293365, 0.10210587084293365, 0.10210588574409485, 0.10210588574409485, 0.10210587084293365, 0.10210588574409485, 0.10210588574409485, 0.10210588574409485, 0.10210588574409485, 0.10210588574409485, 0.10210588574409485, 0.10210588574409485, 0.10210588574409485, 0.10210588574409485, 0.10210587084293365, 0.10210588574409485, 0.10210588574409485, 0.10210587084293365, 0.10210587084293365, 0.10210588574409485, 0.10210588574409485, 0.10210588574409485, 0.10210588574409485, 0.10210587084293365, 0.10210588574409485, 0.10210588574409485, 0.10210588574409485, 0.10210588574409485, 0.10210588574409485, 0.10210588574409485, 0.10210587084293365, 0.10210587084293365, 0.10210588574409485, 0.10210587084293365, 0.10210587084293365, 0.10210588574409485, 0.10210587084293365, 0.10210588574409485, 0.10210587084293365, 0.10210588574409485, 0.10210588574409485, 0.10210588574409485, 0.10210588574409485, 0.10210587084293365, 0.10210587084293365, 0.10210588574409485, 0.10210588574409485, 0.10210588574409485, 0.10210588574409485, 0.10210587084293365, 0.10210588574409485, 0.10210588574409485, 0.10210588574409485, 0.10210588574409485, 0.10210587084293365, 0.10210588574409485, 0.10210588574409485, 0.10210587084293365, 0.10210588574409485, 0.10210588574409485, 0.10210588574409485, 0.10210588574409485, 0.10210588574409485, 0.10210587084293365, 0.10210588574409485, 0.10210588574409485, 0.10210588574409485, 0.10210588574409485, 0.10210588574409485, 0.10210587084293365, 0.10210588574409485, 0.10210588574409485, 0.10210587084293365, 0.10210588574409485, 0.10210588574409485, 0.10210587084293365, 0.10210587084293365, 0.10210588574409485, 0.10210588574409485, 0.10210588574409485, 0.10210587084293365, 0.10210588574409485, 0.10210588574409485, 0.10210588574409485, 0.10210588574409485, 0.10210587084293365, 0.10210587084293365, 0.10210588574409485, 0.10210588574409485, 0.10210588574409485, 0.10210588574409485, 0.10210588574409485, 0.10210588574409485, 0.10210587084293365, 0.10210588574409485, 0.10210588574409485, 0.10210588574409485, 0.10210587084293365, 0.10210588574409485, 0.10210588574409485, 0.10210588574409485, 0.10210587084293365, 0.10210588574409485, 0.10210588574409485, 0.10210588574409485, 0.10210588574409485, 0.10210588574409485, 0.10210588574409485, 0.10210588574409485, 0.10210588574409485, 0.10210588574409485, 0.10210588574409485, 0.10210587084293365, 0.10210588574409485, 0.10210587084293365, 0.10210588574409485, 0.10210588574409485, 0.10210588574409485, 0.10210588574409485, 0.10210588574409485, 0.10210588574409485, 0.10210588574409485, 0.10210588574409485, 0.10210587084293365, 0.10210588574409485, 0.10210588574409485, 0.10210588574409485, 0.10210588574409485, 0.10210588574409485, 0.10210587084293365, 0.10210588574409485, 0.10210588574409485, 0.10210587084293365, 0.10210588574409485, 0.10210588574409485, 0.10210588574409485, 0.10210587084293365, 0.10210587084293365, 0.10210587084293365, 0.10210588574409485, 0.10210588574409485, 0.10210588574409485, 0.10210587084293365, 0.10210587084293365, 0.10210588574409485, 0.10210587084293365, 0.10210588574409485, 0.10210588574409485, 0.10210588574409485, 0.10210588574409485, 0.10210588574409485, 0.10210587084293365, 0.10210588574409485, 0.10210588574409485, 0.10210588574409485, 0.10210588574409485, 0.10210588574409485, 0.10210588574409485, 0.10210588574409485, 0.10210588574409485, 0.10210588574409485, 0.10210588574409485, 0.10210588574409485, 0.10210588574409485, 0.10210587084293365, 0.10210588574409485, 0.10210588574409485, 0.10210587084293365, 0.10210587084293365, 0.10210588574409485, 0.10210587084293365, 0.10210588574409485, 0.10210587084293365, 0.10210588574409485, 0.10210588574409485, 0.10210588574409485, 0.10210588574409485, 0.10210588574409485, 0.10210588574409485, 0.10210588574409485, 0.10210588574409485, 0.10210588574409485, 0.10210588574409485, 0.10210588574409485, 0.10210587084293365, 0.10210588574409485, 0.10210588574409485, 0.10210588574409485, 0.10210588574409485, 0.10210588574409485, 0.10210588574409485, 0.10210587084293365, 0.10210587084293365, 0.10210588574409485, 0.10210588574409485, 0.10210587084293365, 0.10210588574409485, 0.10210588574409485, 0.10210588574409485, 0.10210587084293365, 0.10210588574409485, 0.10210588574409485, 0.10210588574409485, 0.10210588574409485, 0.10210588574409485, 0.10210588574409485, 0.10210588574409485, 0.10210588574409485, 0.10210588574409485, 0.10210587084293365, 0.10210588574409485, 0.10210588574409485, 0.10210588574409485, 0.10210588574409485, 0.10210588574409485, 0.10210587084293365, 0.10210588574409485, 0.10210587084293365, 0.10210588574409485, 0.10210588574409485, 0.10210587084293365, 0.10210587084293365, 0.10210588574409485, 0.10210588574409485, 0.10210588574409485, 0.10210587084293365, 0.10210588574409485, 0.10210588574409485, 0.10210588574409485, 0.10210588574409485, 0.10210588574409485, 0.10210588574409485, 0.10210588574409485, 0.10210587084293365, 0.10210588574409485, 0.10210588574409485, 0.10210588574409485, 0.10210588574409485, 0.10210588574409485, 0.10210588574409485, 0.10210588574409485, 0.10210587084293365, 0.10210588574409485, 0.10210588574409485, 0.10210588574409485, 0.10210587084293365, 0.10210587084293365, 0.10210588574409485, 0.10210588574409485, 0.10210588574409485, 0.10210588574409485, 0.10210588574409485, 0.10210588574409485, 0.10210588574409485, 0.10210588574409485, 0.10210588574409485, 0.10210588574409485, 0.10210588574409485, 0.10210588574409485, 0.10210587084293365, 0.10210587084293365, 0.10210587084293365, 0.10210588574409485, 0.10210588574409485, 0.10210588574409485, 0.10210588574409485, 0.10210587084293365, 0.10210588574409485, 0.10210588574409485, 0.10210588574409485, 0.10210588574409485, 0.10210587084293365, 0.10210588574409485, 0.10210587084293365, 0.10210588574409485, 0.10210588574409485, 0.10210587084293365, 0.10210588574409485, 0.10210588574409485, 0.10210588574409485, 0.10210588574409485, 0.10210588574409485, 0.10210588574409485, 0.10210588574409485, 0.10210588574409485, 0.10210588574409485, 0.10210588574409485, 0.10210588574409485, 0.10210588574409485, 0.10210588574409485, 0.10210588574409485, 0.10210588574409485, 0.10210588574409485, 0.10210588574409485, 0.10210588574409485, 0.10210588574409485, 0.10210587084293365, 0.10210587084293365, 0.10210588574409485, 0.10210588574409485, 0.10210587084293365, 0.10210587084293365, 0.10210588574409485, 0.10210588574409485, 0.10210588574409485, 0.10210588574409485, 0.10210587084293365, 0.10210588574409485, 0.10210588574409485, 0.10210588574409485, 0.10210588574409485, 0.10210587084293365, 0.10210588574409485, 0.10210587084293365, 0.10210587084293365, 0.10210587084293365, 0.10210588574409485, 0.10210588574409485, 0.10210588574409485, 0.10210588574409485, 0.10210588574409485, 0.10210587084293365, 0.10210588574409485, 0.10210588574409485, 0.10210588574409485, 0.10210588574409485, 0.10210588574409485, 0.10210587084293365, 0.10210588574409485, 0.10210588574409485, 0.10210588574409485, 0.10210588574409485, 0.10210588574409485, 0.10210587084293365, 0.10210587084293365, 0.10210588574409485, 0.10210588574409485, 0.10210587084293365, 0.10210588574409485, 0.10210588574409485, 0.10210588574409485, 0.10210588574409485, 0.10210588574409485, 0.10210588574409485, 0.10210588574409485, 0.10210588574409485, 0.10210588574409485, 0.10210588574409485, 0.10210588574409485, 0.10210588574409485, 0.10210587084293365, 0.10210588574409485, 0.10210588574409485, 0.10210588574409485, 0.10210588574409485, 0.10210588574409485, 0.10210588574409485, 0.10210587084293365, 0.10210588574409485, 0.10210587084293365, 0.10210588574409485, 0.10210587084293365, 0.10210587084293365, 0.10210587084293365, 0.10210588574409485, 0.10210588574409485, 0.10210588574409485, 0.10210588574409485, 0.10210587084293365, 0.10210587084293365, 0.10210587084293365, 0.10210588574409485, 0.10210588574409485, 0.10210588574409485, 0.10210588574409485, 0.10210587084293365, 0.10210587084293365, 0.10210587084293365, 0.10210588574409485, 0.10210588574409485, 0.10210588574409485, 0.10210588574409485, 0.10210588574409485, 0.10210587084293365, 0.10210588574409485, 0.10210588574409485, 0.10210587084293365, 0.10210588574409485, 0.10210588574409485, 0.10210588574409485, 0.10210588574409485, 0.10210588574409485, 0.10210588574409485, 0.10210588574409485, 0.10210588574409485, 0.10210588574409485, 0.10210588574409485, 0.10210588574409485, 0.10210588574409485, 0.10210588574409485, 0.10210587084293365, 0.10210588574409485, 0.10210588574409485, 0.10210587084293365, 0.10210588574409485, 0.10210588574409485, 0.10210588574409485, 0.10210588574409485, 0.10210588574409485, 0.10210588574409485, 0.10210588574409485, 0.10210588574409485, 0.10210588574409485, 0.10210588574409485, 0.10210588574409485, 0.10210588574409485, 0.10210588574409485, 0.10210587084293365, 0.10210588574409485, 0.10210588574409485, 0.10210588574409485, 0.10210588574409485, 0.10210587084293365, 0.10210588574409485, 0.10210588574409485, 0.10210587084293365, 0.10210588574409485, 0.10210587084293365, 0.10210588574409485, 0.10210588574409485, 0.10210588574409485, 0.10210588574409485, 0.10210588574409485, 0.10210587084293365, 0.10210588574409485, 0.10210588574409485, 0.10210587084293365, 0.10210588574409485, 0.10210588574409485, 0.10210587084293365, 0.10210588574409485, 0.10210588574409485, 0.10210588574409485, 0.10210588574409485, 0.10210588574409485, 0.10210588574409485, 0.10210588574409485, 0.10210587084293365, 0.10210588574409485, 0.10210588574409485, 0.10210588574409485, 0.10210587084293365, 0.10210588574409485, 0.10210588574409485, 0.10210588574409485, 0.10210588574409485, 0.10210588574409485, 0.10210588574409485, 0.10210588574409485, 0.10210588574409485, 0.10210588574409485, 0.10210588574409485, 0.10210588574409485, 0.10210587084293365, 0.10210588574409485, 0.10210587084293365, 0.10210588574409485, 0.10210588574409485, 0.10210588574409485, 0.10210588574409485, 0.10210588574409485, 0.10210588574409485, 0.10210588574409485, 0.10210588574409485, 0.10210588574409485, 0.10210588574409485, 0.10210588574409485, 0.10210588574409485, 0.10210588574409485, 0.10210588574409485, 0.10210588574409485, 0.10210588574409485, 0.10210588574409485, 0.10210588574409485, 0.10210587084293365, 0.10210588574409485, 0.10210588574409485, 0.10210587084293365, 0.10210588574409485, 0.10210588574409485, 0.10210588574409485, 0.10210587084293365, 0.10210588574409485, 0.10210588574409485, 0.10210588574409485, 0.10210588574409485, 0.10210588574409485, 0.10210587084293365, 0.10210588574409485, 0.10210588574409485, 0.10210587084293365, 0.10210588574409485, 0.10210587084293365, 0.10210587084293365, 0.10210588574409485, 0.10210588574409485, 0.10210588574409485, 0.10210587084293365, 0.10210588574409485, 0.10210587084293365, 0.10210588574409485, 0.10210588574409485, 0.10210587084293365, 0.10210587084293365, 0.10210587084293365, 0.10210587084293365, 0.10210588574409485, 0.10210588574409485, 0.10210587084293365, 0.10210588574409485, 0.10210588574409485, 0.10210588574409485, 0.10210588574409485, 0.10210587084293365, 0.10210587084293365, 0.10210588574409485, 0.10210588574409485, 0.10210588574409485, 0.10210588574409485, 0.10210588574409485, 0.10210588574409485, 0.10210588574409485, 0.10210588574409485, 0.10210588574409485, 0.10210588574409485, 0.10210588574409485, 0.10210588574409485, 0.10210588574409485, 0.10210588574409485, 0.10210588574409485, 0.10210587084293365, 0.10210588574409485, 0.10210588574409485, 0.10210588574409485, 0.10210588574409485, 0.10210588574409485, 0.10210587084293365, 0.10210588574409485, 0.10210588574409485, 0.10210587084293365, 0.10210588574409485, 0.10210588574409485, 0.10210588574409485, 0.10210588574409485, 0.10210588574409485, 0.10210588574409485, 0.10210588574409485, 0.10210588574409485, 0.10210588574409485, 0.10210588574409485, 0.10210587084293365, 0.10210587084293365, 0.10210588574409485, 0.10210587084293365, 0.10210588574409485, 0.10210588574409485, 0.10210587084293365, 0.10210588574409485, 0.10210588574409485, 0.10210588574409485, 0.10210588574409485, 0.10210588574409485, 0.10210587084293365, 0.10210588574409485, 0.10210587084293365, 0.10210588574409485, 0.10210588574409485, 0.10210588574409485, 0.10210587084293365, 0.10210588574409485, 0.10210587084293365, 0.10210588574409485, 0.10210588574409485, 0.10210587084293365, 0.10210587084293365, 0.10210588574409485, 0.10210588574409485, 0.10210588574409485, 0.10210588574409485, 0.10210588574409485, 0.10210587084293365, 0.10210588574409485, 0.10210587084293365, 0.10210587084293365, 0.10210587084293365, 0.10210588574409485, 0.10210588574409485, 0.10210588574409485, 0.10210588574409485, 0.10210588574409485, 0.10210588574409485, 0.10210588574409485, 0.10210588574409485, 0.10210588574409485, 0.10210588574409485, 0.10210588574409485, 0.10210588574409485, 0.10210588574409485, 0.10210588574409485, 0.10210588574409485, 0.10210588574409485, 0.10210588574409485, 0.10210588574409485, 0.10210588574409485, 0.10210588574409485, 0.10210587084293365, 0.10210588574409485, 0.10210588574409485, 0.10210588574409485, 0.10210587084293365, 0.10210588574409485, 0.10210588574409485, 0.10210587084293365, 0.10210588574409485, 0.10210588574409485, 0.10210588574409485, 0.10210588574409485, 0.10210588574409485, 0.10210588574409485, 0.10210588574409485, 0.10210587084293365, 0.10210587084293365, 0.10210588574409485, 0.10210587084293365, 0.10210587084293365, 0.10210588574409485, 0.10210588574409485, 0.10210588574409485, 0.10210588574409485, 0.10210588574409485, 0.10210588574409485, 0.10210588574409485, 0.10210588574409485, 0.10210587084293365, 0.10210588574409485, 0.10210588574409485, 0.10210587084293365, 0.10210588574409485, 0.10210588574409485, 0.10210588574409485, 0.10210588574409485, 0.10210587084293365, 0.10210587084293365, 0.10210587084293365, 0.10210588574409485, 0.10210588574409485, 0.10210588574409485, 0.10210587084293365, 0.10210588574409485, 0.10210588574409485, 0.10210588574409485, 0.10210588574409485, 0.10210588574409485, 0.10210588574409485, 0.10210588574409485, 0.10210588574409485, 0.10210588574409485, 0.10210588574409485, 0.10210588574409485, 0.10210588574409485, 0.10210588574409485, 0.10210587084293365, 0.10210587084293365, 0.10210588574409485, 0.10210588574409485, 0.10210588574409485, 0.10210588574409485, 0.10210587084293365, 0.10210588574409485, 0.10210588574409485, 0.10210588574409485, 0.10210588574409485, 0.10210587084293365, 0.10210588574409485, 0.10210588574409485, 0.10210588574409485, 0.10210588574409485, 0.10210588574409485, 0.10210588574409485, 0.10210588574409485, 0.10210587084293365, 0.10210588574409485, 0.10210587084293365, 0.10210588574409485, 0.10210587084293365, 0.10210588574409485, 0.10210587084293365, 0.10210588574409485, 0.10210588574409485, 0.10210588574409485, 0.10210587084293365, 0.10210588574409485, 0.10210587084293365, 0.10210588574409485, 0.10210588574409485, 0.10210587084293365, 0.10210588574409485, 0.10210588574409485, 0.10210587084293365, 0.10210588574409485, 0.10210588574409485, 0.10210588574409485, 0.10210588574409485, 0.10210587084293365, 0.10210588574409485, 0.10210588574409485, 0.10210588574409485, 0.10210588574409485, 0.10210588574409485, 0.10210588574409485, 0.10210588574409485, 0.10210588574409485, 0.10210587084293365, 0.10210588574409485, 0.10210587084293365, 0.10210588574409485, 0.10210588574409485, 0.10210588574409485, 0.10210587084293365, 0.10210588574409485, 0.10210588574409485, 0.10210588574409485, 0.10210588574409485, 0.10210588574409485, 0.10210588574409485, 0.10210588574409485, 0.10210588574409485, 0.10210588574409485, 0.10210588574409485, 0.10210588574409485, 0.10210588574409485, 0.10210588574409485, 0.10210588574409485, 0.10210588574409485, 0.10210588574409485, 0.10210587084293365, 0.10210587084293365, 0.10210587084293365, 0.10210588574409485, 0.10210588574409485, 0.10210587084293365, 0.10210588574409485, 0.10210588574409485, 0.10210587084293365, 0.10210588574409485, 0.10210588574409485, 0.10210587084293365, 0.10210588574409485, 0.10210588574409485, 0.10210587084293365, 0.10210587084293365, 0.10210588574409485, 0.10210588574409485, 0.10210587084293365, 0.10210588574409485, 0.10210588574409485, 0.10210588574409485, 0.10210587084293365, 0.10210588574409485, 0.10210588574409485, 0.10210588574409485, 0.10210588574409485, 0.10210588574409485, 0.10210588574409485, 0.10210588574409485, 0.10210588574409485, 0.10210588574409485, 0.10210588574409485, 0.10210588574409485, 0.10210588574409485, 0.10210588574409485, 0.10210587084293365, 0.10210588574409485, 0.10210588574409485, 0.10210587084293365, 0.10210587084293365, 0.10210588574409485, 0.10210588574409485, 0.10210588574409485, 0.10210587084293365, 0.10210587084293365, 0.10210588574409485, 0.10210588574409485, 0.10210587084293365, 0.10210588574409485, 0.10210588574409485, 0.10210587084293365, 0.10210587084293365, 0.10210587084293365, 0.10210588574409485, 0.10210588574409485, 0.10210588574409485, 0.10210588574409485, 0.10210588574409485, 0.10210588574409485, 0.10210588574409485, 0.10210588574409485, 0.10210588574409485, 0.10210587084293365, 0.10210588574409485, 0.10210588574409485, 0.10210588574409485, 0.10210588574409485, 0.10210587084293365, 0.10210588574409485, 0.10210588574409485, 0.10210588574409485, 0.10210588574409485, 0.10210588574409485, 0.10210588574409485, 0.10210588574409485, 0.10210588574409485, 0.10210588574409485, 0.10210588574409485, 0.10210588574409485, 0.10210588574409485, 0.10210588574409485, 0.10210588574409485, 0.10210588574409485, 0.10210587084293365, 0.10210588574409485, 0.10210587084293365, 0.10210588574409485, 0.10210588574409485, 0.10210588574409485, 0.10210588574409485, 0.10210588574409485, 0.10210588574409485, 0.10210588574409485, 0.10210587084293365, 0.10210588574409485, 0.10210588574409485, 0.10210588574409485, 0.10210588574409485, 0.10210588574409485, 0.10210588574409485, 0.10210588574409485, 0.10210588574409485, 0.10210588574409485, 0.10210588574409485, 0.10210588574409485, 0.10210588574409485, 0.10210588574409485, 0.10210588574409485, 0.10210588574409485, 0.10210588574409485, 0.10210588574409485, 0.10210587084293365, 0.10210587084293365, 0.10210588574409485, 0.10210588574409485, 0.10210587084293365, 0.10210588574409485, 0.10210588574409485, 0.10210588574409485, 0.10210588574409485, 0.10210588574409485, 0.10210588574409485, 0.10210588574409485, 0.10210588574409485, 0.10210588574409485, 0.10210587084293365, 0.10210588574409485, 0.10210588574409485, 0.10210588574409485, 0.10210587084293365, 0.10210588574409485, 0.10210588574409485, 0.10210588574409485, 0.10210588574409485, 0.10210588574409485, 0.10210588574409485, 0.10210588574409485, 0.10210588574409485, 0.10210587084293365, 0.10210588574409485, 0.10210587084293365, 0.10210588574409485, 0.10210588574409485, 0.10210588574409485, 0.10210588574409485, 0.10210587084293365, 0.10210588574409485, 0.10210587084293365, 0.10210588574409485, 0.10210587084293365, 0.10210588574409485, 0.10210588574409485, 0.10210588574409485, 0.10210588574409485, 0.10210587084293365, 0.10210588574409485, 0.10210588574409485, 0.10210588574409485, 0.10210588574409485, 0.10210588574409485, 0.10210588574409485, 0.10210587084293365, 0.10210587084293365, 0.10210588574409485, 0.10210588574409485, 0.10210588574409485, 0.10210588574409485, 0.10210587084293365, 0.10210588574409485, 0.10210588574409485, 0.10210588574409485, 0.10210588574409485, 0.10210588574409485, 0.10210588574409485, 0.10210588574409485, 0.10210588574409485, 0.10210587084293365, 0.10210588574409485, 0.10210588574409485, 0.10210588574409485, 0.10210588574409485, 0.10210588574409485, 0.10210588574409485, 0.10210588574409485, 0.10210587084293365, 0.10210587084293365, 0.10210588574409485, 0.10210587084293365, 0.10210588574409485, 0.10210588574409485, 0.10210588574409485, 0.10210587084293365, 0.10210587084293365, 0.10210588574409485, 0.10210588574409485, 0.10210588574409485, 0.10210588574409485, 0.10210588574409485, 0.10210588574409485, 0.10210588574409485, 0.10210588574409485, 0.10210588574409485, 0.10210588574409485, 0.10210588574409485, 0.10210588574409485, 0.10210588574409485, 0.10210588574409485, 0.10210587084293365, 0.10210588574409485, 0.10210588574409485, 0.10210588574409485, 0.10210588574409485, 0.10210588574409485, 0.10210588574409485, 0.10210588574409485, 0.10210587084293365, 0.10210588574409485, 0.10210587084293365, 0.10210587084293365, 0.10210588574409485, 0.10210588574409485, 0.10210587084293365, 0.10210588574409485, 0.10210588574409485, 0.10210587084293365, 0.10210588574409485, 0.10210588574409485, 0.10210588574409485, 0.10210588574409485, 0.10210588574409485, 0.10210588574409485, 0.10210588574409485, 0.10210588574409485, 0.10210588574409485, 0.10210588574409485, 0.10210588574409485, 0.10210588574409485, 0.10210587084293365, 0.10210588574409485, 0.10210588574409485, 0.10210587084293365, 0.10210587084293365, 0.10210588574409485, 0.10210587084293365, 0.10210588574409485, 0.10210587084293365, 0.10210588574409485, 0.10210588574409485, 0.10210588574409485, 0.10210587084293365, 0.10210588574409485, 0.10210588574409485, 0.10210588574409485, 0.10210588574409485, 0.10210588574409485, 0.10210588574409485, 0.10210588574409485, 0.10210588574409485, 0.10210588574409485, 0.10210588574409485, 0.10210588574409485, 0.10210588574409485, 0.10210587084293365, 0.10210588574409485, 0.10210588574409485, 0.10210588574409485, 0.10210588574409485, 0.10210588574409485, 0.10210588574409485, 0.10210587084293365, 0.10210588574409485, 0.10210587084293365, 0.10210588574409485, 0.10210588574409485, 0.10210587084293365, 0.10210588574409485, 0.10210588574409485, 0.10210588574409485, 0.10210588574409485, 0.10210588574409485, 0.10210588574409485, 0.10210587084293365, 0.10210588574409485, 0.10210588574409485, 0.10210588574409485, 0.10210588574409485, 0.10210588574409485, 0.10210588574409485, 0.10210588574409485, 0.10210588574409485, 0.10210588574409485, 0.10210588574409485, 0.10210588574409485, 0.10210588574409485, 0.10210588574409485, 0.10210588574409485, 0.10210588574409485, 0.10210587084293365, 0.10210588574409485, 0.10210588574409485, 0.10210588574409485, 0.10210587084293365, 0.10210587084293365, 0.10210588574409485, 0.10210587084293365, 0.10210587084293365, 0.10210588574409485, 0.10210587084293365, 0.10210587084293365, 0.10210588574409485, 0.10210588574409485, 0.10210588574409485, 0.10210587084293365, 0.10210588574409485, 0.10210588574409485, 0.10210588574409485, 0.10210588574409485, 0.10210587084293365, 0.10210588574409485, 0.10210588574409485, 0.10210588574409485, 0.10210588574409485, 0.10210588574409485, 0.10210587084293365, 0.10210587084293365, 0.10210588574409485, 0.10210587084293365, 0.10210588574409485, 0.10210588574409485, 0.10210588574409485, 0.10210588574409485, 0.10210588574409485, 0.10210588574409485, 0.10210588574409485, 0.10210587084293365, 0.10210588574409485, 0.10210588574409485, 0.10210588574409485, 0.10210588574409485, 0.10210588574409485, 0.10210588574409485, 0.10210588574409485, 0.10210588574409485, 0.10210584104061127, 0.10210587084293365, 0.10210587084293365, 0.10210587084293365, 0.10210587084293365, 0.10210588574409485, 0.10210587084293365, 0.10210588574409485, 0.10210588574409485, 0.10210588574409485, 0.10210588574409485, 0.10210588574409485, 0.10210588574409485, 0.10210588574409485, 0.10210588574409485, 0.10210588574409485, 0.10210588574409485, 0.10210588574409485, 0.10210588574409485, 0.10210588574409485, 0.10210588574409485, 0.10210588574409485, 0.10210588574409485, 0.10210588574409485, 0.10210588574409485, 0.10210587084293365, 0.10210588574409485, 0.10210588574409485, 0.10210588574409485, 0.10210588574409485, 0.10210588574409485, 0.10210588574409485, 0.10210588574409485, 0.10210588574409485, 0.10210588574409485, 0.10210588574409485, 0.10210587084293365, 0.10210588574409485, 0.10210588574409485, 0.10210587084293365, 0.10210588574409485, 0.10210588574409485, 0.10210588574409485, 0.10210588574409485, 0.10210587084293365, 0.10210588574409485, 0.10210587084293365, 0.10210588574409485, 0.10210588574409485, 0.10210588574409485, 0.10210587084293365, 0.10210588574409485, 0.10210588574409485, 0.10210588574409485, 0.10210588574409485, 0.10210588574409485, 0.10210588574409485, 0.10210588574409485, 0.10210588574409485, 0.10210588574409485, 0.10210587084293365, 0.10210588574409485, 0.10210588574409485, 0.10210588574409485, 0.10210588574409485, 0.10210588574409485, 0.10210588574409485, 0.10210588574409485, 0.10210588574409485, 0.10210588574409485, 0.10210588574409485, 0.10210588574409485, 0.10210588574409485, 0.10210588574409485, 0.10210588574409485, 0.10210588574409485, 0.10210588574409485, 0.10210588574409485, 0.10210588574409485, 0.10210588574409485, 0.10210588574409485, 0.10210588574409485, 0.10210588574409485, 0.10210587084293365, 0.10210588574409485, 0.10210587084293365, 0.10210587084293365, 0.10210587084293365, 0.10210588574409485, 0.10210587084293365, 0.10210588574409485, 0.10210588574409485, 0.10210588574409485, 0.10210587084293365, 0.10210588574409485, 0.10210588574409485, 0.10210588574409485, 0.10210587084293365, 0.10210588574409485, 0.10210588574409485, 0.10210588574409485, 0.10210588574409485, 0.10210587084293365, 0.10210587084293365, 0.10210588574409485, 0.10210588574409485, 0.10210588574409485, 0.10210588574409485, 0.10210587084293365, 0.10210588574409485, 0.10210587084293365, 0.10210588574409485, 0.10210588574409485, 0.10210588574409485, 0.10210588574409485, 0.10210587084293365, 0.10210587084293365, 0.10210588574409485, 0.10210588574409485, 0.10210587084293365, 0.10210588574409485, 0.10210587084293365, 0.10210588574409485, 0.10210588574409485, 0.10210588574409485, 0.10210588574409485, 0.10210587084293365, 0.10210588574409485, 0.10210588574409485, 0.10210588574409485, 0.10210588574409485, 0.10210588574409485, 0.10210588574409485, 0.10210588574409485, 0.10210588574409485, 0.10210588574409485, 0.10210588574409485, 0.10210588574409485, 0.10210588574409485, 0.10210587084293365, 0.10210588574409485, 0.10210587084293365, 0.10210587084293365, 0.10210587084293365, 0.10210588574409485, 0.10210588574409485, 0.10210587084293365, 0.10210587084293365, 0.10210588574409485, 0.10210587084293365, 0.10210588574409485, 0.10210587084293365, 0.10210588574409485, 0.10210587084293365, 0.10210588574409485, 0.10210588574409485, 0.10210588574409485, 0.10210588574409485, 0.10210588574409485, 0.10210588574409485, 0.10210588574409485, 0.10210588574409485, 0.10210587084293365, 0.10210588574409485, 0.10210588574409485, 0.10210587084293365, 0.10210587084293365, 0.10210588574409485, 0.10210588574409485, 0.10210587084293365, 0.10210588574409485, 0.10210588574409485, 0.10210588574409485, 0.10210588574409485, 0.10210587084293365, 0.10210588574409485, 0.10210587084293365, 0.10210588574409485, 0.10210587084293365, 0.10210588574409485, 0.10210588574409485, 0.10210588574409485, 0.10210588574409485, 0.10210588574409485, 0.10210588574409485, 0.10210588574409485, 0.10210587084293365, 0.10210588574409485, 0.10210588574409485, 0.10210588574409485, 0.10210588574409485, 0.10210588574409485, 0.10210588574409485, 0.10210588574409485, 0.10210588574409485, 0.10210588574409485, 0.10210588574409485, 0.10210588574409485, 0.10210588574409485, 0.10210587084293365, 0.10210588574409485, 0.10210587084293365, 0.10210588574409485, 0.10210588574409485, 0.10210588574409485, 0.10210588574409485, 0.10210588574409485, 0.10210588574409485, 0.10210588574409485, 0.10210588574409485, 0.10210587084293365, 0.10210588574409485, 0.10210588574409485, 0.10210588574409485, 0.10210587084293365, 0.10210588574409485, 0.10210587084293365, 0.10210587084293365, 0.10210588574409485, 0.10210587084293365, 0.10210588574409485, 0.10210584104061127, 0.10210587084293365, 0.10210588574409485, 0.10210588574409485, 0.10210587084293365, 0.10210588574409485, 0.10210588574409485, 0.10210587084293365, 0.10210588574409485, 0.10210587084293365, 0.10210588574409485, 0.10210588574409485, 0.10210588574409485, 0.10210587084293365, 0.10210588574409485, 0.10210588574409485, 0.10210587084293365, 0.10210588574409485, 0.10210587084293365, 0.10210588574409485, 0.10210587084293365, 0.10210587084293365, 0.10210588574409485, 0.10210588574409485, 0.10210588574409485, 0.10210587084293365, 0.10210588574409485, 0.10210588574409485, 0.10210588574409485, 0.10210588574409485, 0.10210588574409485, 0.10210588574409485, 0.10210588574409485, 0.10210588574409485, 0.10210588574409485, 0.10210588574409485, 0.10210587084293365, 0.10210588574409485, 0.10210588574409485, 0.10210587084293365, 0.10210588574409485, 0.10210588574409485, 0.10210587084293365, 0.10210588574409485, 0.10210588574409485, 0.10210587084293365, 0.10210588574409485, 0.10210588574409485, 0.10210588574409485, 0.10210588574409485, 0.10210587084293365, 0.10210588574409485, 0.10210587084293365, 0.10210588574409485, 0.10210588574409485, 0.10210588574409485, 0.10210587084293365, 0.10210588574409485, 0.10210588574409485, 0.10210588574409485, 0.10210587084293365, 0.10210587084293365, 0.10210588574409485, 0.10210587084293365, 0.10210588574409485, 0.10210588574409485, 0.10210588574409485, 0.10210588574409485, 0.10210588574409485, 0.10210588574409485, 0.10210588574409485, 0.10210588574409485, 0.10210588574409485, 0.10210588574409485, 0.10210587084293365, 0.10210588574409485, 0.10210588574409485, 0.10210588574409485, 0.10210588574409485, 0.10210587084293365, 0.10210587084293365, 0.10210588574409485, 0.10210587084293365, 0.10210588574409485, 0.10210588574409485, 0.10210588574409485, 0.10210588574409485, 0.10210587084293365, 0.10210587084293365, 0.10210588574409485, 0.10210588574409485, 0.10210587084293365, 0.10210588574409485, 0.10210587084293365, 0.10210588574409485, 0.10210588574409485, 0.10210588574409485, 0.10210587084293365, 0.10210588574409485, 0.10210587084293365, 0.10210588574409485, 0.10210588574409485, 0.10210588574409485, 0.10210588574409485, 0.10210587084293365, 0.10210588574409485, 0.10210588574409485, 0.10210587084293365, 0.10210588574409485, 0.10210588574409485, 0.10210588574409485, 0.10210588574409485, 0.10210587084293365, 0.10210587084293365, 0.10210587084293365, 0.10210588574409485, 0.10210588574409485, 0.10210587084293365, 0.10210588574409485, 0.10210588574409485, 0.10210588574409485, 0.10210588574409485, 0.10210588574409485, 0.10210588574409485, 0.10210588574409485, 0.10210588574409485, 0.10210588574409485, 0.10210588574409485, 0.10210588574409485, 0.10210588574409485, 0.10210588574409485, 0.10210588574409485, 0.10210588574409485, 0.10210588574409485, 0.10210588574409485, 0.10210588574409485, 0.10210588574409485, 0.10210588574409485, 0.10210588574409485, 0.10210588574409485, 0.10210588574409485, 0.10210588574409485, 0.10210588574409485, 0.10210587084293365, 0.10210587084293365, 0.10210588574409485, 0.10210588574409485, 0.10210588574409485, 0.10210588574409485, 0.10210588574409485, 0.10210587084293365, 0.10210588574409485, 0.10210587084293365, 0.10210588574409485, 0.10210588574409485, 0.10210588574409485, 0.10210588574409485, 0.10210587084293365, 0.10210588574409485, 0.10210588574409485, 0.10210588574409485, 0.10210588574409485, 0.10210588574409485, 0.10210588574409485, 0.10210588574409485, 0.10210588574409485, 0.10210588574409485, 0.10210588574409485, 0.10210588574409485, 0.10210587084293365, 0.10210588574409485, 0.10210587084293365, 0.10210587084293365, 0.10210587084293365, 0.10210588574409485, 0.10210588574409485, 0.10210588574409485, 0.10210588574409485, 0.10210588574409485, 0.10210587084293365, 0.10210588574409485, 0.10210588574409485, 0.10210588574409485, 0.10210588574409485, 0.10210587084293365, 0.10210587084293365, 0.10210588574409485, 0.10210588574409485, 0.10210588574409485, 0.10210588574409485, 0.10210588574409485, 0.10210587084293365, 0.10210587084293365, 0.10210588574409485, 0.10210588574409485, 0.10210588574409485, 0.10210588574409485, 0.10210588574409485, 0.10210588574409485, 0.10210588574409485, 0.10210588574409485, 0.10210588574409485, 0.10210588574409485, 0.10210588574409485, 0.10210588574409485, 0.10210588574409485, 0.10210588574409485, 0.10210587084293365, 0.10210587084293365, 0.10210588574409485, 0.10210587084293365, 0.10210587084293365, 0.10210587084293365, 0.10210588574409485, 0.10210588574409485, 0.10210588574409485, 0.10210588574409485, 0.10210588574409485, 0.10210588574409485, 0.10210587084293365, 0.10210588574409485, 0.10210588574409485, 0.10210587084293365, 0.10210588574409485, 0.10210588574409485, 0.10210588574409485, 0.10210587084293365, 0.10210588574409485, 0.10210588574409485, 0.10210588574409485, 0.10210588574409485, 0.10210587084293365, 0.10210588574409485, 0.10210588574409485, 0.10210588574409485, 0.10210588574409485, 0.10210587084293365, 0.10210588574409485, 0.10210588574409485, 0.10210588574409485, 0.10210587084293365, 0.10210588574409485, 0.10210588574409485, 0.10210588574409485, 0.10210587084293365, 0.10210588574409485, 0.10210588574409485, 0.10210588574409485, 0.10210587084293365, 0.10210588574409485, 0.10210587084293365, 0.10210587084293365, 0.10210588574409485, 0.10210588574409485, 0.10210588574409485, 0.10210587084293365, 0.10210588574409485, 0.10210588574409485, 0.10210588574409485, 0.10210588574409485, 0.10210588574409485, 0.10210588574409485, 0.10210588574409485, 0.10210588574409485, 0.10210587084293365, 0.10210587084293365, 0.10210587084293365, 0.10210587084293365, 0.10210588574409485, 0.10210588574409485, 0.10210588574409485, 0.10210588574409485, 0.10210587084293365, 0.10210587084293365, 0.10210588574409485, 0.10210588574409485, 0.10210588574409485, 0.10210588574409485, 0.10210587084293365, 0.10210588574409485, 0.10210587084293365, 0.10210588574409485, 0.10210588574409485, 0.10210588574409485, 0.10210587084293365, 0.10210587084293365, 0.10210588574409485, 0.10210588574409485, 0.10210588574409485, 0.10210587084293365, 0.10210588574409485, 0.10210588574409485, 0.10210588574409485, 0.10210588574409485, 0.10210588574409485, 0.10210588574409485, 0.10210588574409485, 0.10210588574409485, 0.10210587084293365, 0.10210588574409485, 0.10210587084293365, 0.10210588574409485, 0.10210588574409485, 0.10210588574409485, 0.10210588574409485, 0.10210588574409485, 0.10210587084293365, 0.10210588574409485, 0.10210588574409485, 0.10210588574409485, 0.10210588574409485, 0.10210588574409485, 0.10210588574409485, 0.10210588574409485, 0.10210587084293365, 0.10210588574409485, 0.10210588574409485, 0.10210588574409485, 0.10210588574409485, 0.10210588574409485, 0.10210588574409485, 0.10210588574409485, 0.10210588574409485, 0.10210588574409485, 0.10210588574409485, 0.10210588574409485, 0.10210588574409485, 0.10210588574409485, 0.10210588574409485, 0.10210588574409485, 0.10210588574409485, 0.10210588574409485, 0.10210588574409485, 0.10210587084293365, 0.10210588574409485, 0.10210588574409485, 0.10210587084293365, 0.10210588574409485, 0.10210588574409485, 0.10210588574409485, 0.10210588574409485, 0.10210587084293365, 0.10210588574409485, 0.10210588574409485, 0.10210588574409485, 0.10210588574409485, 0.10210588574409485, 0.10210588574409485, 0.10210588574409485, 0.10210587084293365, 0.10210588574409485, 0.10210588574409485, 0.10210587084293365, 0.10210588574409485, 0.10210588574409485, 0.10210588574409485, 0.10210588574409485, 0.10210588574409485, 0.10210588574409485, 0.10210588574409485, 0.10210588574409485, 0.10210587084293365, 0.10210588574409485, 0.10210588574409485, 0.10210588574409485, 0.10210588574409485, 0.10210587084293365, 0.10210587084293365, 0.10210587084293365, 0.10210588574409485, 0.10210587084293365, 0.10210588574409485, 0.10210588574409485, 0.10210588574409485, 0.10210587084293365, 0.10210588574409485, 0.10210588574409485, 0.10210588574409485, 0.10210588574409485, 0.10210587084293365, 0.10210588574409485, 0.10210588574409485, 0.10210588574409485, 0.10210588574409485, 0.10210587084293365, 0.10210588574409485, 0.10210587084293365, 0.10210588574409485, 0.10210588574409485, 0.10210588574409485, 0.10210588574409485, 0.10210587084293365, 0.10210588574409485, 0.10210588574409485, 0.10210587084293365, 0.10210588574409485, 0.10210587084293365, 0.10210588574409485, 0.10210587084293365, 0.10210588574409485, 0.10210588574409485, 0.10210588574409485, 0.10210588574409485, 0.10210588574409485, 0.10210588574409485, 0.10210588574409485, 0.10210588574409485, 0.10210587084293365, 0.10210588574409485, 0.10210588574409485, 0.10210588574409485, 0.10210587084293365, 0.10210588574409485, 0.10210588574409485, 0.10210587084293365, 0.10210588574409485, 0.10210588574409485, 0.10210588574409485, 0.10210588574409485, 0.10210588574409485, 0.10210588574409485, 0.10210587084293365, 0.10210588574409485, 0.10210588574409485, 0.10210588574409485, 0.10210587084293365, 0.10210587084293365, 0.10210588574409485, 0.10210588574409485, 0.10210587084293365, 0.10210587084293365, 0.10210588574409485, 0.10210587084293365, 0.10210588574409485, 0.10210588574409485, 0.10210588574409485, 0.10210588574409485, 0.10210588574409485, 0.10210588574409485, 0.10210588574409485, 0.10210588574409485, 0.10210587084293365, 0.10210588574409485, 0.10210588574409485, 0.10210588574409485, 0.10210588574409485, 0.10210587084293365, 0.10210587084293365, 0.10210587084293365, 0.10210587084293365, 0.10210588574409485, 0.10210588574409485, 0.10210587084293365, 0.10210588574409485, 0.10210588574409485, 0.10210588574409485, 0.10210588574409485, 0.10210588574409485, 0.10210587084293365, 0.10210588574409485, 0.10210588574409485, 0.10210588574409485, 0.10210588574409485, 0.10210588574409485, 0.10210587084293365, 0.10210587084293365, 0.10210588574409485, 0.10210588574409485, 0.10210588574409485, 0.10210588574409485, 0.10210588574409485, 0.10210588574409485, 0.10210588574409485, 0.10210588574409485, 0.10210588574409485, 0.10210587084293365, 0.10210588574409485, 0.10210588574409485, 0.10210588574409485, 0.10210588574409485, 0.10210587084293365, 0.10210588574409485, 0.10210588574409485, 0.10210588574409485, 0.10210588574409485, 0.10210588574409485, 0.10210588574409485, 0.10210588574409485, 0.10210588574409485, 0.10210588574409485, 0.10210588574409485, 0.10210588574409485, 0.10210588574409485, 0.10210588574409485, 0.10210587084293365, 0.10210588574409485, 0.10210588574409485, 0.10210588574409485, 0.10210588574409485, 0.10210587084293365, 0.10210588574409485, 0.10210588574409485, 0.10210588574409485, 0.10210587084293365, 0.10210588574409485, 0.10210588574409485, 0.10210588574409485, 0.10210587084293365, 0.10210588574409485, 0.10210588574409485, 0.10210588574409485, 0.10210588574409485, 0.10210588574409485, 0.10210588574409485, 0.10210588574409485, 0.10210588574409485, 0.10210588574409485, 0.10210587084293365, 0.10210588574409485, 0.10210587084293365, 0.10210588574409485, 0.10210588574409485, 0.10210588574409485, 0.10210587084293365, 0.10210588574409485, 0.10210587084293365, 0.10210588574409485, 0.10210587084293365, 0.10210588574409485, 0.10210588574409485, 0.10210587084293365, 0.10210588574409485, 0.10210588574409485, 0.10210588574409485, 0.10210587084293365, 0.10210588574409485, 0.10210588574409485, 0.10210588574409485, 0.10210588574409485, 0.10210588574409485, 0.10210588574409485, 0.10210588574409485, 0.10210588574409485, 0.10210587084293365, 0.10210587084293365, 0.10210588574409485, 0.10210587084293365, 0.10210588574409485, 0.10210587084293365, 0.10210588574409485, 0.10210588574409485, 0.10210588574409485, 0.10210588574409485, 0.10210588574409485, 0.10210587084293365, 0.10210588574409485, 0.10210587084293365, 0.10210588574409485, 0.10210588574409485, 0.10210588574409485, 0.10210588574409485, 0.10210587084293365, 0.10210588574409485, 0.10210588574409485, 0.10210588574409485, 0.10210588574409485, 0.10210588574409485, 0.10210588574409485, 0.10210587084293365, 0.10210588574409485, 0.10210588574409485, 0.10210588574409485, 0.10210588574409485, 0.10210587084293365, 0.10210588574409485, 0.10210587084293365, 0.10210588574409485, 0.10210588574409485, 0.10210587084293365, 0.10210588574409485, 0.10210584104061127, 0.10210587084293365, 0.10210588574409485, 0.10210588574409485, 0.10210588574409485, 0.10210588574409485, 0.10210587084293365, 0.10210588574409485, 0.10210588574409485, 0.10210587084293365, 0.10210587084293365, 0.10210588574409485, 0.10210588574409485, 0.10210588574409485, 0.10210588574409485, 0.10210588574409485, 0.10210588574409485, 0.10210588574409485, 0.10210588574409485, 0.10210588574409485, 0.10210588574409485, 0.10210588574409485, 0.10210588574409485, 0.10210588574409485, 0.10210588574409485, 0.10210588574409485, 0.10210587084293365, 0.10210588574409485, 0.10210588574409485, 0.10210587084293365, 0.10210587084293365, 0.10210588574409485, 0.10210588574409485, 0.10210588574409485, 0.10210588574409485, 0.10210588574409485, 0.10210588574409485, 0.10210588574409485, 0.10210588574409485, 0.10210587084293365, 0.10210588574409485, 0.10210588574409485, 0.10210588574409485, 0.10210588574409485, 0.10210587084293365, 0.10210588574409485, 0.10210587084293365, 0.10210588574409485, 0.10210588574409485, 0.10210588574409485, 0.10210588574409485, 0.10210588574409485, 0.10210587084293365, 0.10210588574409485, 0.10210588574409485, 0.10210588574409485, 0.10210588574409485, 0.10210588574409485, 0.10210588574409485, 0.10210587084293365, 0.10210588574409485, 0.10210588574409485, 0.10210588574409485, 0.10210588574409485, 0.10210587084293365, 0.10210588574409485, 0.10210588574409485, 0.10210588574409485, 0.10210588574409485, 0.10210588574409485, 0.10210588574409485, 0.10210587084293365, 0.10210588574409485, 0.10210587084293365, 0.10210588574409485, 0.10210588574409485, 0.10210588574409485, 0.10210588574409485, 0.10210587084293365, 0.10210588574409485, 0.10210588574409485, 0.10210588574409485, 0.10210588574409485, 0.10210588574409485, 0.10210587084293365, 0.10210588574409485, 0.10210588574409485, 0.10210588574409485, 0.10210588574409485, 0.10210588574409485, 0.10210588574409485, 0.10210587084293365, 0.10210588574409485, 0.10210588574409485, 0.10210588574409485, 0.10210587084293365, 0.10210588574409485, 0.10210588574409485, 0.10210587084293365, 0.10210588574409485, 0.10210588574409485, 0.10210587084293365, 0.10210588574409485, 0.10210587084293365, 0.10210588574409485, 0.10210588574409485, 0.10210588574409485, 0.10210588574409485, 0.10210588574409485, 0.10210587084293365, 0.10210588574409485, 0.10210587084293365, 0.10210588574409485, 0.10210588574409485, 0.10210587084293365, 0.10210588574409485, 0.10210587084293365, 0.10210588574409485, 0.10210588574409485, 0.10210588574409485, 0.10210588574409485, 0.10210587084293365, 0.10210588574409485, 0.10210588574409485, 0.10210588574409485, 0.10210588574409485, 0.10210588574409485, 0.10210588574409485, 0.10210587084293365, 0.10210588574409485, 0.10210588574409485, 0.10210587084293365, 0.10210588574409485, 0.10210588574409485, 0.10210588574409485, 0.10210588574409485, 0.10210588574409485, 0.10210587084293365, 0.10210588574409485, 0.10210588574409485, 0.10210588574409485, 0.10210588574409485, 0.10210588574409485, 0.10210588574409485, 0.10210587084293365, 0.10210588574409485, 0.10210588574409485, 0.10210587084293365, 0.10210588574409485, 0.10210588574409485, 0.10210588574409485, 0.10210588574409485, 0.10210588574409485, 0.10210588574409485, 0.10210587084293365, 0.10210588574409485, 0.10210587084293365, 0.10210588574409485, 0.10210588574409485, 0.10210588574409485, 0.10210588574409485, 0.10210588574409485, 0.10210587084293365, 0.10210588574409485, 0.10210588574409485, 0.10210588574409485, 0.10210587084293365, 0.10210587084293365, 0.10210588574409485, 0.10210587084293365, 0.10210587084293365, 0.10210588574409485, 0.10210588574409485, 0.10210587084293365, 0.10210588574409485, 0.10210587084293365, 0.10210588574409485, 0.10210588574409485, 0.10210588574409485, 0.10210588574409485, 0.10210588574409485, 0.10210588574409485, 0.10210588574409485, 0.10210588574409485, 0.10210588574409485, 0.10210588574409485, 0.10210587084293365, 0.10210588574409485, 0.10210588574409485, 0.10210588574409485, 0.10210588574409485, 0.10210588574409485, 0.10210587084293365, 0.10210587084293365, 0.10210587084293365, 0.10210588574409485, 0.10210588574409485, 0.10210587084293365, 0.10210587084293365, 0.10210588574409485, 0.10210588574409485, 0.10210587084293365, 0.10210588574409485, 0.10210587084293365, 0.10210588574409485, 0.10210587084293365, 0.10210588574409485, 0.10210588574409485, 0.10210588574409485, 0.10210588574409485, 0.10210587084293365, 0.10210588574409485, 0.10210588574409485, 0.10210587084293365, 0.10210587084293365, 0.10210588574409485, 0.10210587084293365, 0.10210587084293365, 0.10210587084293365, 0.10210588574409485, 0.10210587084293365, 0.10210587084293365, 0.10210588574409485, 0.10210588574409485, 0.10210588574409485, 0.10210588574409485, 0.10210587084293365, 0.10210588574409485, 0.10210588574409485, 0.10210588574409485, 0.10210587084293365, 0.10210587084293365, 0.10210588574409485, 0.10210588574409485, 0.10210588574409485, 0.10210587084293365, 0.10210588574409485, 0.10210588574409485, 0.10210587084293365, 0.10210588574409485, 0.10210588574409485, 0.10210588574409485, 0.10210588574409485, 0.10210588574409485, 0.10210587084293365, 0.10210588574409485, 0.10210587084293365, 0.10210587084293365, 0.10210588574409485, 0.10210588574409485, 0.10210588574409485, 0.10210587084293365, 0.10210588574409485, 0.10210588574409485, 0.10210588574409485, 0.10210588574409485, 0.10210587084293365, 0.10210588574409485, 0.10210588574409485, 0.10210588574409485, 0.10210588574409485, 0.10210588574409485, 0.10210588574409485, 0.10210588574409485, 0.10210588574409485, 0.10210588574409485, 0.10210588574409485, 0.10210587084293365, 0.10210588574409485, 0.10210588574409485, 0.10210587084293365, 0.10210588574409485, 0.10210587084293365, 0.10210588574409485, 0.10210588574409485, 0.10210588574409485, 0.10210588574409485, 0.10210588574409485, 0.10210587084293365, 0.10210587084293365, 0.10210588574409485, 0.10210588574409485, 0.10210588574409485, 0.10210588574409485, 0.10210588574409485, 0.10210588574409485, 0.10210588574409485, 0.10210588574409485, 0.10210588574409485, 0.10210588574409485, 0.10210587084293365, 0.10210588574409485, 0.10210588574409485, 0.10210587084293365, 0.10210588574409485, 0.10210588574409485, 0.10210587084293365, 0.10210587084293365, 0.10210587084293365, 0.10210588574409485, 0.10210588574409485, 0.10210587084293365, 0.10210588574409485, 0.10210588574409485, 0.10210588574409485, 0.10210587084293365, 0.10210588574409485, 0.10210588574409485, 0.10210588574409485, 0.10210588574409485, 0.10210587084293365, 0.10210588574409485, 0.10210588574409485, 0.10210587084293365, 0.10210587084293365, 0.10210588574409485, 0.10210588574409485, 0.10210588574409485, 0.10210588574409485, 0.10210588574409485, 0.10210587084293365, 0.10210588574409485, 0.10210588574409485, 0.10210588574409485, 0.10210588574409485, 0.10210588574409485, 0.10210588574409485, 0.10210588574409485, 0.10210588574409485, 0.10210588574409485, 0.10210588574409485, 0.10210587084293365, 0.10210587084293365, 0.10210587084293365, 0.10210587084293365, 0.10210587084293365, 0.10210588574409485, 0.10210588574409485, 0.10210588574409485, 0.10210588574409485, 0.10210588574409485, 0.10210588574409485, 0.10210588574409485, 0.10210587084293365, 0.10210587084293365, 0.10210588574409485, 0.10210588574409485, 0.10210588574409485, 0.10210588574409485, 0.10210588574409485, 0.10210587084293365, 0.10210587084293365, 0.10210588574409485, 0.10210587084293365, 0.10210588574409485, 0.10210588574409485, 0.10210588574409485, 0.10210588574409485, 0.10210587084293365, 0.10210588574409485, 0.10210588574409485, 0.10210588574409485, 0.10210588574409485, 0.10210588574409485, 0.10210588574409485, 0.10210588574409485, 0.10210588574409485, 0.10210588574409485, 0.10210588574409485, 0.10210588574409485, 0.10210588574409485, 0.10210588574409485, 0.10210588574409485, 0.10210588574409485, 0.10210588574409485, 0.10210588574409485, 0.10210588574409485, 0.10210587084293365, 0.10210587084293365, 0.10210587084293365, 0.10210588574409485, 0.10210588574409485, 0.10210588574409485, 0.10210588574409485, 0.10210587084293365, 0.10210588574409485, 0.10210588574409485, 0.10210588574409485, 0.10210588574409485, 0.10210588574409485, 0.10210588574409485, 0.10210587084293365, 0.10210588574409485, 0.10210588574409485, 0.10210588574409485, 0.10210587084293365, 0.10210588574409485, 0.10210587084293365, 0.10210588574409485, 0.10210587084293365, 0.10210588574409485, 0.10210588574409485, 0.10210588574409485, 0.10210588574409485, 0.10210587084293365, 0.10210588574409485, 0.10210588574409485, 0.10210588574409485, 0.10210588574409485, 0.10210588574409485, 0.10210588574409485, 0.10210588574409485, 0.10210587084293365, 0.10210588574409485, 0.10210588574409485, 0.10210587084293365, 0.10210588574409485, 0.10210587084293365, 0.10210588574409485, 0.10210588574409485, 0.10210588574409485, 0.10210587084293365, 0.10210588574409485, 0.10210588574409485, 0.10210588574409485, 0.10210588574409485, 0.10210587084293365, 0.10210588574409485, 0.10210587084293365, 0.10210588574409485, 0.10210588574409485, 0.10210588574409485, 0.10210588574409485, 0.10210588574409485, 0.10210588574409485, 0.10210587084293365, 0.10210588574409485, 0.10210588574409485, 0.10210588574409485, 0.10210587084293365, 0.10210588574409485, 0.10210588574409485, 0.10210588574409485, 0.10210588574409485, 0.10210588574409485, 0.10210588574409485, 0.10210588574409485, 0.10210587084293365, 0.10210588574409485, 0.10210588574409485, 0.10210588574409485, 0.10210588574409485, 0.10210588574409485, 0.10210587084293365, 0.10210587084293365, 0.10210588574409485, 0.10210588574409485, 0.10210588574409485, 0.10210588574409485, 0.10210588574409485, 0.10210588574409485, 0.10210588574409485, 0.10210588574409485, 0.10210588574409485, 0.10210587084293365, 0.10210588574409485, 0.10210588574409485, 0.10210588574409485, 0.10210588574409485, 0.10210588574409485, 0.10210588574409485, 0.10210587084293365, 0.10210588574409485, 0.10210588574409485, 0.10210588574409485, 0.10210587084293365, 0.10210588574409485, 0.10210588574409485, 0.10210588574409485, 0.10210588574409485, 0.10210588574409485, 0.10210588574409485, 0.10210587084293365, 0.10210588574409485, 0.10210588574409485, 0.10210588574409485, 0.10210587084293365, 0.10210587084293365, 0.10210588574409485, 0.10210588574409485, 0.10210588574409485, 0.10210588574409485, 0.10210587084293365, 0.10210587084293365, 0.10210588574409485, 0.10210588574409485, 0.10210587084293365, 0.10210588574409485, 0.10210588574409485, 0.10210587084293365, 0.10210588574409485, 0.10210587084293365, 0.10210588574409485, 0.10210588574409485, 0.10210588574409485, 0.10210587084293365, 0.10210588574409485, 0.10210588574409485, 0.10210587084293365, 0.10210588574409485, 0.10210588574409485, 0.10210587084293365, 0.10210588574409485, 0.10210587084293365, 0.10210588574409485, 0.10210588574409485, 0.10210588574409485, 0.10210588574409485, 0.10210587084293365, 0.10210587084293365, 0.10210588574409485, 0.10210587084293365, 0.10210588574409485, 0.10210588574409485, 0.10210588574409485, 0.10210588574409485, 0.10210588574409485, 0.10210587084293365, 0.10210588574409485, 0.10210587084293365, 0.10210588574409485, 0.10210587084293365, 0.10210588574409485, 0.10210588574409485, 0.10210588574409485, 0.10210587084293365, 0.10210588574409485, 0.10210588574409485, 0.10210588574409485, 0.10210588574409485, 0.10210588574409485, 0.10210588574409485, 0.10210588574409485, 0.10210588574409485, 0.10210587084293365, 0.10210587084293365, 0.10210588574409485, 0.10210588574409485, 0.10210588574409485, 0.10210588574409485, 0.10210588574409485, 0.10210587084293365, 0.10210588574409485, 0.10210588574409485, 0.10210587084293365, 0.10210587084293365, 0.10210588574409485, 0.10210587084293365, 0.10210588574409485, 0.10210588574409485, 0.10210588574409485, 0.10210588574409485, 0.10210587084293365, 0.10210587084293365, 0.10210588574409485, 0.10210588574409485, 0.10210587084293365, 0.10210588574409485, 0.10210588574409485, 0.10210588574409485, 0.10210588574409485, 0.10210588574409485, 0.10210587084293365, 0.10210588574409485, 0.10210587084293365, 0.10210588574409485, 0.10210588574409485, 0.10210588574409485, 0.10210588574409485, 0.10210588574409485, 0.10210588574409485, 0.10210587084293365, 0.10210588574409485, 0.10210588574409485, 0.10210588574409485, 0.10210588574409485, 0.10210587084293365, 0.10210588574409485, 0.10210588574409485, 0.10210588574409485, 0.10210587084293365, 0.10210588574409485, 0.10210587084293365, 0.10210588574409485, 0.10210588574409485, 0.10210588574409485, 0.10210588574409485, 0.10210588574409485, 0.10210588574409485, 0.10210587084293365, 0.10210588574409485, 0.10210588574409485, 0.10210588574409485, 0.10210588574409485, 0.10210588574409485, 0.10210587084293365, 0.10210587084293365, 0.10210588574409485, 0.10210588574409485, 0.10210588574409485, 0.10210588574409485, 0.10210588574409485, 0.10210587084293365, 0.10210588574409485, 0.10210588574409485, 0.10210588574409485, 0.10210588574409485, 0.10210588574409485, 0.10210588574409485, 0.10210587084293365, 0.10210588574409485, 0.10210587084293365, 0.10210588574409485, 0.10210588574409485, 0.10210588574409485, 0.10210587084293365, 0.10210588574409485, 0.10210588574409485, 0.10210587084293365, 0.10210587084293365, 0.10210588574409485, 0.10210588574409485, 0.10210588574409485, 0.10210587084293365, 0.10210588574409485, 0.10210588574409485, 0.10210588574409485, 0.10210587084293365, 0.10210588574409485, 0.10210588574409485, 0.10210588574409485, 0.10210588574409485, 0.10210588574409485, 0.10210588574409485, 0.10210587084293365, 0.10210588574409485, 0.10210588574409485, 0.10210588574409485, 0.10210588574409485, 0.10210587084293365, 0.10210588574409485, 0.10210588574409485, 0.10210588574409485, 0.10210588574409485, 0.10210588574409485, 0.10210587084293365, 0.10210588574409485]\n",
            "tensor([0, 0, 0,  ..., 0, 0, 0])\n"
          ]
        }
      ]
    },
    {
      "cell_type": "code",
      "metadata": {
        "id": "mxjZC2XYFn04"
      },
      "source": [
        ""
      ],
      "execution_count": 25,
      "outputs": []
    }
  ]
}